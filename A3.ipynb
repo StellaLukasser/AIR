{
 "cells": [
  {
   "cell_type": "markdown",
   "source": [
    "# AIR Project\n",
    "## Group 17\n",
    "\n",
    "We are using a dataset which includes non-fake as well as fake news (labeled dataset).\n",
    "https://www.kaggle.com/datasets/saurabhshahane/fake-news-classification\n"
   ],
   "metadata": {
    "collapsed": false
   }
  },
  {
   "cell_type": "markdown",
   "source": [
    "## Imports and specific settings"
   ],
   "metadata": {
    "collapsed": false
   }
  },
  {
   "cell_type": "code",
   "execution_count": 214,
   "outputs": [
    {
     "ename": "ModuleNotFoundError",
     "evalue": "No module named 'WordCloud'",
     "output_type": "error",
     "traceback": [
      "\u001B[1;31m---------------------------------------------------------------------------\u001B[0m",
      "\u001B[1;31mModuleNotFoundError\u001B[0m                       Traceback (most recent call last)",
      "Cell \u001B[1;32mIn[214], line 6\u001B[0m\n\u001B[0;32m      3\u001B[0m \u001B[38;5;28;01mimport\u001B[39;00m \u001B[38;5;21;01msys\u001B[39;00m\n\u001B[0;32m      4\u001B[0m \u001B[38;5;28;01mfrom\u001B[39;00m \u001B[38;5;21;01mcollections\u001B[39;00m \u001B[38;5;28;01mimport\u001B[39;00m OrderedDict\n\u001B[1;32m----> 6\u001B[0m \u001B[38;5;28;01mimport\u001B[39;00m \u001B[38;5;21;01mWordCloud\u001B[39;00m \u001B[38;5;28;01mas\u001B[39;00m \u001B[38;5;21;01mWordCloud\u001B[39;00m\n\u001B[0;32m      7\u001B[0m \u001B[38;5;28;01mimport\u001B[39;00m \u001B[38;5;21;01mmatplotlib\u001B[39;00m\n\u001B[0;32m      8\u001B[0m \u001B[38;5;28;01mimport\u001B[39;00m \u001B[38;5;21;01mtorch\u001B[39;00m\n",
      "\u001B[1;31mModuleNotFoundError\u001B[0m: No module named 'WordCloud'"
     ]
    }
   ],
   "source": [
    "import ast\n",
    "import os.path\n",
    "import sys\n",
    "from collections import OrderedDict\n",
    "\n",
    "import WordCloud as WordCloud\n",
    "import matplotlib\n",
    "import torch\n",
    "from torch import nn\n",
    "from torch.utils.data import DataLoader\n",
    "from gensim.models import Word2Vec\n",
    "import multiprocessing\n",
    "import time\n",
    "from sklearn.model_selection import train_test_split\n",
    "from torch.utils.data import Dataset\n",
    "from torchmetrics.classification import BinaryF1Score, BinaryRecall, BinaryPrecision, BinaryAccuracy\n",
    "import string\n",
    "import pandas as pd\n",
    "import numpy as np\n",
    "import nltk\n",
    "from nltk.corpus import stopwords\n",
    "from nltk.stem.snowball import SnowballStemmer\n",
    "from rank_bm25 import BM25Okapi\n",
    "import math\n",
    "from sklearn.svm import SVC\n",
    "from sklearn.metrics import accuracy_score, f1_score, precision_score, recall_score\n",
    "from sklearn.ensemble import RandomForestClassifier\n",
    "from sklearn.decomposition import PCA\n",
    "from sklearn.preprocessing import StandardScaler\n",
    "from sklearn.pipeline import Pipeline\n",
    "import matplotlib.pyplot as plt\n"
   ],
   "metadata": {
    "collapsed": false
   }
  },
  {
   "cell_type": "code",
   "execution_count": null,
   "outputs": [],
   "source": [
    "pd.set_option('display.max_rows', None)\n",
    "pd.set_option('display.max_columns', None)\n",
    "pd.set_option('display.width', None)\n",
    "pd.set_option('display.max_colwidth', None)\n",
    "\n",
    "use_cuda = torch.cuda.is_available()\n",
    "device = torch.device(\"cuda:0\" if use_cuda else \"cpu\")\n",
    "torch.backends.cudnn.benchmark = True\n",
    "print(\"running models with {}\".format(device))\n",
    "# device = 'cpu'\n",
    "if not os.path.exists(\"data\"):\n",
    "    os.mkdir(\"data\")"
   ],
   "metadata": {
    "collapsed": false
   }
  },
  {
   "cell_type": "markdown",
   "source": [
    "## Defining Result Dicts"
   ],
   "metadata": {
    "collapsed": false
   }
  },
  {
   "cell_type": "code",
   "execution_count": null,
   "outputs": [],
   "source": [
    "results = {}\n",
    "\n",
    "def createDictElement(r):\n",
    "    total_loss, f1, acc, prec, rec, time = r\n",
    "    tmp = {}\n",
    "    tmp[\"total_loss\"] = total_loss\n",
    "    tmp[\"f1_score\"] = f1\n",
    "    tmp[\"accuracy\"] = acc\n",
    "    tmp[\"precision\"] = prec\n",
    "    tmp[\"recall\"] = rec\n",
    "    tmp[\"time\"] = time\n",
    "    return tmp"
   ],
   "metadata": {
    "collapsed": false
   }
  },
  {
   "cell_type": "markdown",
   "source": [
    "## Loading of dataset and nan-removal\n",
    "Uncomment function-call to redo preprocessing\n",
    "Result is saved in data/data.csv"
   ],
   "metadata": {
    "collapsed": false
   }
  },
  {
   "cell_type": "code",
   "execution_count": null,
   "outputs": [],
   "source": [
    "def pre_process():\n",
    "    data = pd.read_csv('WELFake_Dataset.csv', index_col=0)\n",
    "    # display(data[:300])\n",
    "    for i,x in data.iterrows():\n",
    "        if len(str(x[\"text\"])) <= 10:\n",
    "            data.loc[i, \"text\"] = np.nan\n",
    "        if len(str(x[\"title\"])) <= 10:\n",
    "            data.loc[i, \"title\"] = np.nan\n",
    "\n",
    "    data.dropna(inplace=True)\n",
    "    data.reset_index(drop=True, inplace=True)\n",
    "    data.to_csv(\"data/data.csv\")\n",
    "    display(data[:300])"
   ],
   "metadata": {
    "collapsed": false
   }
  },
  {
   "cell_type": "code",
   "execution_count": null,
   "outputs": [],
   "source": [
    "if not os.path.exists(\"data/data.csv\"):\n",
    "    pre_process()"
   ],
   "metadata": {
    "collapsed": false
   }
  },
  {
   "cell_type": "markdown",
   "source": [
    "## Tokenization\n",
    "Uncomment function-call to redo tokenization for data/data.csv\n",
    "Result is saved in data/data_token.csv"
   ],
   "metadata": {
    "collapsed": false
   }
  },
  {
   "cell_type": "code",
   "execution_count": null,
   "outputs": [],
   "source": [
    "def tokenize():\n",
    "    stop = stopwords.words('english')\n",
    "    stemmer = SnowballStemmer('english')\n",
    "    punc = [u'\\u201c',u'\\u201d',u'\\u2018',u'\\u2019',u'\\u2024',u'\\u2025',u'\\u2026',u'\\u2027']\n",
    "    # print(punc)\n",
    "    data = pd.read_csv('data/data.csv', index_col=0)\n",
    "    titles = list()\n",
    "    texts = list()\n",
    "    for i, row in data.iterrows():\n",
    "        title = str(row[\"title\"])\n",
    "        text = str(row[\"text\"])\n",
    "        t1 = \"\"\n",
    "        for c in title:\n",
    "            if not (c in string.punctuation or c in punc):\n",
    "                t1 += c\n",
    "            else:\n",
    "                t1 += \" \"\n",
    "        t2 = \"\"\n",
    "        for c in text:\n",
    "            if not (c in string.punctuation or c in punc):\n",
    "                t2 += c\n",
    "            else:\n",
    "                t2 += \" \"\n",
    "        title_tokens = nltk.tokenize.word_tokenize(t1)\n",
    "        text_tokens = nltk.tokenize.word_tokenize(t2)\n",
    "        # title_filtered = [w.lower() for w in title_tokens if not w.lower() in string.punctuation]\n",
    "        # title_filtered = [w.lower() for w in title_filtered if not w.lower() in punc]\n",
    "        title_filtered = [w.lower() for w in title_tokens if not w.lower() in stop]\n",
    "        title_stemmed = [stemmer.stem(w) for w in title_filtered]\n",
    "        # text_filtered = [w.lower() for w in text_tokens if not w.lower() in string.punctuation]\n",
    "        # text_filtered = [w.lower() for w in text_filtered if not w.lower() in punc]\n",
    "        text_filtered = [w.lower() for w in text_tokens if not w.lower() in stop]\n",
    "        text_stemmed = [stemmer.stem(w) for w in text_filtered]\n",
    "        # print(title_stemmed)\n",
    "        # print(text_stemmed)\n",
    "        titles.append(title_stemmed)\n",
    "        texts.append(text_stemmed)\n",
    "        if i % 5000 == 0:\n",
    "            print(i)\n",
    "    d = {\"title\":titles, \"text\":texts, \"label\":data[\"label\"]}\n",
    "    data_cleaned = pd.DataFrame(data=d)\n",
    "    # data_cleaned[\"title\"] = titles\n",
    "    # data_cleaned[\"text\"] = texts\n",
    "    data_cleaned.to_csv(\"data/data_token.csv\")\n"
   ],
   "metadata": {
    "collapsed": false
   }
  },
  {
   "cell_type": "code",
   "execution_count": null,
   "outputs": [],
   "source": [
    "if not os.path.exists(\"data/data_token.csv\"):\n",
    "    tokenize()"
   ],
   "metadata": {
    "collapsed": false
   }
  },
  {
   "cell_type": "markdown",
   "source": [
    "## Bag of Words\n"
   ],
   "metadata": {
    "collapsed": false
   }
  },
  {
   "cell_type": "code",
   "execution_count": null,
   "outputs": [],
   "source": [
    "def make_bow(data_path):\n",
    "    data = pd.read_csv(data_path, index_col=0)\n",
    "    bow = []\n",
    "    bow_title = []\n",
    "    bow_text = []\n",
    "    bow_both = []\n",
    "    for i, row in data.iterrows():\n",
    "        words = row[\"title\"].split(\",\")\n",
    "        title = []\n",
    "        for word in words:\n",
    "            title.append(str(word).replace(\"'\", \"\").replace(\" \", \"\").replace(\"[\", \"\").replace(\"]\", \"\"))\n",
    "        words = row[\"text\"].split(\",\")\n",
    "        text = []\n",
    "        for word in words:\n",
    "            text.append(str(word).replace(\"'\", \"\").replace(\" \", \"\").replace(\"[\", \"\").replace(\"]\", \"\"))\n",
    "        dic_title = {}\n",
    "        dic_text = {}\n",
    "        dic_both = {}\n",
    "        for word in title:\n",
    "            if word in dic_title:\n",
    "                dic_title[word] = dic_title[word] + 1\n",
    "            else:\n",
    "                dic_title[word] = 1\n",
    "            if word in dic_both:\n",
    "                dic_both[word] = dic_both[word] + 1\n",
    "            else:\n",
    "                dic_both[word] = 1\n",
    "        for word in text:\n",
    "            if word in dic_text:\n",
    "                dic_text[word] = dic_text[word] + 1\n",
    "            else:\n",
    "                dic_text[word] = 1\n",
    "            if word in dic_both:\n",
    "                dic_both[word] = dic_both[word] + 1\n",
    "            else:\n",
    "                dic_both[word] = 1\n",
    "        bow_text.append(dic_text)\n",
    "        bow_title.append(dic_title)\n",
    "        bow_both.append(dic_both)\n",
    "    bow.append(bow_title)\n",
    "    bow.append(bow_text)\n",
    "    bow.append(bow_both)\n",
    "    return bow"
   ],
   "metadata": {
    "collapsed": false
   }
  },
  {
   "cell_type": "code",
   "execution_count": 215,
   "outputs": [],
   "source": [
    "# bow = [bow_title[],bow_text[],bow_both[]]\n",
    "# bow = make_bow('data_tokenized/data_token.csv') # was uncommented"
   ],
   "metadata": {
    "collapsed": false
   }
  },
  {
   "cell_type": "markdown",
   "source": [
    "## TFIDF with Cosine"
   ],
   "metadata": {
    "collapsed": false
   }
  },
  {
   "cell_type": "code",
   "execution_count": 216,
   "outputs": [],
   "source": [
    "def tf(bow_):\n",
    "    tf_ = []\n",
    "    for dic in bow_:\n",
    "        max_ = 0\n",
    "        for i in dic:\n",
    "            if dic[i] > max_:\n",
    "                max_ = dic[i]\n",
    "        tf_dic = {}\n",
    "        for word in dic:\n",
    "            tf_dic[word] = dic[word]/max_\n",
    "        tf_.append(tf_dic)\n",
    "    return tf_\n",
    "\n",
    "def idf(bow_):\n",
    "    df_ = {}\n",
    "    for dic in bow_:\n",
    "        for word in dic:\n",
    "            if word in df_:\n",
    "                df_[word] += 1\n",
    "            else:\n",
    "                df_[word] = 1\n",
    "    idf_ = {}\n",
    "    for word in df_:\n",
    "        idf_[word] = math.log10(len(bow)/df_[word])\n",
    "    return idf_\n",
    "\n",
    "def tf_idf(bow_):\n",
    "    tf_ = tf(bow_)\n",
    "    idf_ = idf(bow_)\n",
    "    tfidf = []\n",
    "    for dic in tf_:\n",
    "        tfidf_dic = {}\n",
    "        for word in dic:\n",
    "            tfidf_dic[word] = dic[word] * idf_[word]\n",
    "        tfidf.append(tfidf_dic)\n",
    "    return tfidf\n",
    "\n",
    "def cosineSim(dic_a, dic_b):\n",
    "    for word in dic_a:\n",
    "        if word not in dic_b:\n",
    "            dic_b[word] = 0\n",
    "    for word in dic_b:\n",
    "        if word not in dic_a:\n",
    "            dic_a[word] = 0\n",
    "    dot, sum_a, sum_b = 0,0,0\n",
    "    for word in dic_a:\n",
    "        a = dic_a[word]\n",
    "        b = dic_b[word]\n",
    "        dot += (a*b)\n",
    "        sum_a += math.pow(a,2)\n",
    "        sum_b += math.pow(b,2)\n",
    "    sqrt_sum_a = math.sqrt(sum_a)\n",
    "    sqrt_sum_b = math.sqrt(sum_b)\n",
    "    return dot / (sqrt_sum_a * sqrt_sum_b)\n",
    "\n",
    "def tfidf_cosine_ranking(word_, bow_):\n",
    "    tfidf_all = tf_idf(bow_)\n",
    "    list_query = [{word_: 1}]\n",
    "    tfidf_query = tf_idf(list_query)[0]\n",
    "    article_index = []\n",
    "    cosSim = []\n",
    "    cos_index = 0\n",
    "    for a in tfidf_all:\n",
    "        article_index.append(cos_index)\n",
    "        cosSim.append(cosineSim(a,tfidf_query))\n",
    "        cos_index += 1\n",
    "    return pd.DataFrame({'article': article_index ,'value': cosSim }).sort_values(by=['value'], ascending=False)\n",
    "\n"
   ],
   "metadata": {
    "collapsed": false
   }
  },
  {
   "cell_type": "code",
   "execution_count": 217,
   "outputs": [],
   "source": [
    "#cos_rank = tfidf_cosine_ranking('obama',bow[2])\n",
    "#print(cos_rank.head(5))"
   ],
   "metadata": {
    "collapsed": false
   }
  },
  {
   "cell_type": "markdown",
   "source": [
    "## bm25"
   ],
   "metadata": {
    "collapsed": false
   }
  },
  {
   "cell_type": "code",
   "execution_count": 218,
   "outputs": [],
   "source": [
    "def bm25_ranking(query_,index_):\n",
    "    data = pd.read_csv('data_tokenized/data_token.csv', index_col=0)\n",
    "    corpus = []\n",
    "    title = []\n",
    "    text = []\n",
    "    both = []\n",
    "    for i, row in data.iterrows():\n",
    "            words = row[\"title\"].split(\",\")\n",
    "            for word in words:\n",
    "                title.append(str(word).replace(\"'\", \"\").replace(\" \", \"\").replace(\"[\", \"\").replace(\"]\", \"\"))\n",
    "            words = row[\"text\"].split(\",\")\n",
    "            for word in words:\n",
    "                text.append(str(word).replace(\"'\", \"\").replace(\" \", \"\").replace(\"[\", \"\").replace(\"]\", \"\"))\n",
    "    if index_ == 0:\n",
    "        corpus = title\n",
    "    elif index_ == 1:\n",
    "        corpus = text\n",
    "    else:\n",
    "        for i in title:\n",
    "            both.append(title + text)\n",
    "        corpus = both\n",
    "\n",
    "    print(\"Starting bm25\")\n",
    "    bm25 = BM25Okapi(corpus)\n",
    "    bm25_scores = bm25.get_scores(query_.split(\" \"))\n",
    "\n",
    "    article_index = []\n",
    "    bm25_index = 0\n",
    "    for a in bm25_scores:\n",
    "        article_index.append(bm25_index)\n",
    "        bm25_index += 1\n",
    "    return pd.DataFrame({'article': article_index ,'value': bm25_scores }).sort_values(by=['value'], ascending=False)\n"
   ],
   "metadata": {
    "collapsed": false
   }
  },
  {
   "cell_type": "code",
   "execution_count": 219,
   "outputs": [],
   "source": [
    "# bm25_rank = bm25_ranking('sunday',bow[2]) # was uncommented\n",
    "# print(bm25_rank.head(5)) # was uncommented"
   ],
   "metadata": {
    "collapsed": false
   }
  },
  {
   "cell_type": "markdown",
   "source": [
    "## Creating and Training Word2Vec Model"
   ],
   "metadata": {
    "collapsed": false
   }
  },
  {
   "cell_type": "code",
   "execution_count": 220,
   "outputs": [
    {
     "name": "stdout",
     "output_type": "stream",
     "text": [
      "Model loaded from disc.\n"
     ]
    }
   ],
   "source": [
    "load_model_from_disc = True\n",
    "w2v_model = None\n",
    "data = pd.read_csv('data/data_token.csv', index_col=0)\n",
    "# for i, row in data.iterrows():\n",
    "#     print(type(row[\"title\"]))\n",
    "#     print(row)\n",
    "#     data.loc[i, \"title\"] = ast.literal_eval(row[\"title\"])\n",
    "#     data.loc[i, \"text\"] = ast.literal_eval(row[\"text\"])\n",
    "if load_model_from_disc:\n",
    "    try:\n",
    "        w2v_model = Word2Vec.load(\"word2vec.model\")\n",
    "    except:\n",
    "        pass\n",
    "\n",
    "if w2v_model is None or not load_model_from_disc:\n",
    "    if load_model_from_disc:\n",
    "        print(\"Could not load model from disc. Training model...\")\n",
    "    else:\n",
    "        print(\"Loading from disc deactivated. Training model...\")\n",
    "\n",
    "    class MySentences(object):\n",
    "        def __init__(self, data):\n",
    "            self.data = data\n",
    "\n",
    "        def __iter__(self):\n",
    "            for doc in pd.concat([data[\"text\"], data[\"title\"]]): #change to \"title\" or combine both\n",
    "                doc = ast.literal_eval(doc)\n",
    "                yield doc\n",
    "\n",
    "    sentences = MySentences(data)\n",
    "\n",
    "    cores = multiprocessing.cpu_count()\n",
    "    w2v_model = Word2Vec(min_count=20,\n",
    "                         window=2,\n",
    "                         sample=6e-5,\n",
    "                         alpha=0.03,\n",
    "                         min_alpha=0.0007,\n",
    "                         negative=20,\n",
    "                         workers=cores-1)\n",
    "\n",
    "    w2v_model.build_vocab(sentences, progress_per=10000)\n",
    "    t = time.time()\n",
    "    w2v_model.train(sentences, total_examples=w2v_model.corpus_count, epochs=3, report_delay=1)\n",
    "    print('Time to train the model: {} mins'.format(round((time.time() - t) / 60, 2)))\n",
    "    w2v_model.save(\"word2vec.model\")\n",
    "else:\n",
    "    print(\"Model loaded from disc.\")"
   ],
   "metadata": {
    "collapsed": false
   }
  },
  {
   "cell_type": "code",
   "execution_count": 221,
   "outputs": [
    {
     "data": {
      "text/plain": "-0.11904364"
     },
     "execution_count": 221,
     "metadata": {},
     "output_type": "execute_result"
    }
   ],
   "source": [
    "# calculate similarity\n",
    "w2v_model.wv.similarity(\"amazon\", 'nazi')"
   ],
   "metadata": {
    "collapsed": false
   }
  },
  {
   "cell_type": "code",
   "execution_count": 222,
   "outputs": [
    {
     "data": {
      "text/plain": "0.60530704"
     },
     "execution_count": 222,
     "metadata": {},
     "output_type": "execute_result"
    }
   ],
   "source": [
    "# calculate similarity\n",
    "w2v_model.wv.similarity(\"obama\", 'trump')"
   ],
   "metadata": {
    "collapsed": false
   }
  },
  {
   "cell_type": "code",
   "execution_count": 223,
   "outputs": [
    {
     "data": {
      "text/plain": "'amazon'"
     },
     "execution_count": 223,
     "metadata": {},
     "output_type": "execute_result"
    }
   ],
   "source": [
    "# find out which element doesn't match\n",
    "w2v_model.wv.doesnt_match(['amazon', 'obama', 'trump'])"
   ],
   "metadata": {
    "collapsed": false
   }
  },
  {
   "cell_type": "code",
   "execution_count": 224,
   "outputs": [
    {
     "data": {
      "text/plain": "[('barack', 0.607993483543396),\n ('presid', 0.4728606641292572),\n ('behest', 0.4636874198913574)]"
     },
     "execution_count": 224,
     "metadata": {},
     "output_type": "execute_result"
    }
   ],
   "source": [
    "# Which word is to obama as georg is to bush?\n",
    "w2v_model.wv.most_similar(positive=[\"obama\", \"georg\"], negative=[\"bush\"], topn=3)"
   ],
   "metadata": {
    "collapsed": false
   }
  },
  {
   "cell_type": "code",
   "execution_count": 225,
   "outputs": [
    {
     "data": {
      "text/plain": "[('barack', 0.832769513130188),\n ('administr', 0.6584988832473755),\n ('presid', 0.6397863626480103),\n ('predecessor', 0.625878632068634),\n ('trump', 0.6053071022033691),\n ('bush', 0.557529628276825),\n ('outgo', 0.5535241961479187),\n ('undo', 0.5471165180206299),\n ('holdov', 0.5300476551055908),\n ('clinton', 0.5224902629852295)]"
     },
     "execution_count": 225,
     "metadata": {},
     "output_type": "execute_result"
    }
   ],
   "source": [
    "# e.g. words most similar to obama\n",
    "w2v_model.wv.most_similar(positive=[\"obama\"])"
   ],
   "metadata": {
    "collapsed": false
   }
  },
  {
   "cell_type": "code",
   "execution_count": 226,
   "outputs": [
    {
     "data": {
      "text/plain": "[('barack', 0.7051833868026733),\n ('45th', 0.6659713387489319),\n ('successor', 0.6399291157722473),\n ('obama', 0.6397863626480103),\n ('administr', 0.6288126111030579),\n ('trump', 0.6117547750473022),\n ('donald', 0.6109979748725891),\n ('predecessor', 0.6096833348274231),\n ('pres', 0.594482958316803),\n ('presidenti', 0.5868942737579346)]"
     },
     "execution_count": 226,
     "metadata": {},
     "output_type": "execute_result"
    }
   ],
   "source": [
    "# e.g. words most similar to obama\n",
    "w2v_model.wv.most_similar(positive=[\"presid\"])"
   ],
   "metadata": {
    "collapsed": false
   }
  },
  {
   "cell_type": "markdown",
   "source": [
    "## Creating Doc2Vec\n",
    "word2vec for each word with average over document"
   ],
   "metadata": {
    "collapsed": false
   }
  },
  {
   "cell_type": "code",
   "execution_count": 227,
   "outputs": [],
   "source": [
    "# creates w2v representation for all documents and titles\n",
    "def doc2vec():\n",
    "    titles = list()\n",
    "    texts = list()\n",
    "    start = time.time()\n",
    "    for i, row in data.iterrows():\n",
    "        vec_title = np.zeros(shape=w2v_model.vector_size)\n",
    "        vec_text = np.zeros(shape=w2v_model.vector_size)\n",
    "        tit = ast.literal_eval(row[\"title\"])\n",
    "        tex = ast.literal_eval(row[\"text\"])\n",
    "        tit_cnt = 0\n",
    "        tex_cnt = 0\n",
    "        for word in tit:\n",
    "            try:\n",
    "                vec_title += w2v_model.wv[word]\n",
    "            except KeyError:\n",
    "                # print(\"Didn't find word {}\".format(word))\n",
    "                tit_cnt += 1\n",
    "                pass\n",
    "        for word in tex:\n",
    "            try:\n",
    "                vec_text += w2v_model.wv[word]\n",
    "            except KeyError:\n",
    "                # print(\"Didn't find word {}\".format(word))\n",
    "                tex_cnt += 1\n",
    "                pass\n",
    "        if len(tit) > tit_cnt:\n",
    "            vec_title /= (len(tit) - tit_cnt)\n",
    "        if len(tex) > tex_cnt:\n",
    "            vec_text /= (len(tex) - tex_cnt)\n",
    "        titles.append(vec_title.tolist())\n",
    "        texts.append(vec_text.tolist())\n",
    "        if i % 5000 == 0:\n",
    "            print(\"[{}/{}] - {:.1f}s\".format(i, len(data.index), time.time() - start))\n",
    "    end = time.time()\n",
    "    print(\"creating doc2vec took {:.1f}s\".format(end - start))\n",
    "    d = {\"title\":titles, \"text\":texts, \"label\":data[\"label\"]}\n",
    "    data_w2v = pd.DataFrame(data=d)\n",
    "    data_w2v.to_pickle(\"data/data_w2v.pkl\")\n",
    "    display(data_w2v[:100])"
   ],
   "metadata": {
    "collapsed": false
   }
  },
  {
   "cell_type": "code",
   "execution_count": 228,
   "outputs": [],
   "source": [
    "if not os.path.exists(\"data/data_w2v.pkl\"):\n",
    "    doc2vec()"
   ],
   "metadata": {
    "collapsed": false
   }
  },
  {
   "cell_type": "markdown",
   "source": [
    "## Train-Test-split and Dataloader Creation"
   ],
   "metadata": {
    "collapsed": false
   }
  },
  {
   "cell_type": "code",
   "execution_count": 229,
   "outputs": [],
   "source": [
    "def collate_batch(batch):\n",
    "    labels = list()\n",
    "    texts = list()\n",
    "    for (_text, _label) in batch:\n",
    "        labels.append(_label)\n",
    "        texts.append(_text)\n",
    "\n",
    "    return torch.tensor(texts), torch.tensor(labels)"
   ],
   "metadata": {
    "collapsed": false
   }
  },
  {
   "cell_type": "code",
   "execution_count": 230,
   "outputs": [],
   "source": [
    "embed_dim = 100\n",
    "batch_size = 100\n",
    "params = {'batch_size': batch_size,\n",
    "          'shuffle': True,\n",
    "          'num_workers': 0,\n",
    "          'collate_fn': collate_batch,\n",
    "          'drop_last': True}\n",
    "\n",
    "\n",
    "data_d2v = pd.read_pickle(\"data/data_w2v.pkl\")\n",
    "titles = list()\n",
    "texts = list()\n",
    "# print(\"interpreting data\")\n",
    "# for i, row in data_d2v.iterrows():\n",
    "#     titles.append(ast.literal_eval(row[\"title\"]))\n",
    "#     texts.append(ast.literal_eval(row[\"text\"]))\n",
    "# print(\"done interpreting data\")\n",
    "# data_d2v[\"title\"] = titles\n",
    "# data_d2v[\"text\"] = texts\n",
    "\n",
    "data_d2v_title = data_d2v[[\"title\", \"label\"]].copy()\n",
    "data_d2v_text = data_d2v[[\"text\", \"label\"]].copy()\n",
    "X_train_title, X_test_title, y_train_title, y_test_title = train_test_split(data_d2v_title[\"title\"], data_d2v_title[\"label\"], test_size=0.15, random_state=42, shuffle=True)\n",
    "X_train_text, X_test_text, y_train_text, y_test_text = train_test_split(data_d2v_text[\"text\"], data_d2v_text[\"label\"], test_size=0.15, random_state=42, shuffle=True)\n",
    "\n",
    "X_train_title.reset_index(drop=True, inplace=True)\n",
    "X_test_title.reset_index(drop=True, inplace=True)\n",
    "y_train_title.reset_index(drop=True, inplace=True)\n",
    "y_test_title.reset_index(drop=True, inplace=True)\n",
    "X_train_text.reset_index(drop=True, inplace=True)\n",
    "X_test_text.reset_index(drop=True, inplace=True)\n",
    "y_train_text.reset_index(drop=True, inplace=True)\n",
    "y_test_text.reset_index(drop=True, inplace=True)\n",
    "\n",
    "\n",
    "class data_set(Dataset):\n",
    "    def __init__(self, X, y):\n",
    "        super(Dataset, self).__init__()\n",
    "        assert len(X.index) == len(y.index)\n",
    "        self.X = X\n",
    "        self.y = y\n",
    "\n",
    "    def __len__(self):\n",
    "        return len(self.X.index)\n",
    "\n",
    "    def __getitem__(self, index):\n",
    "        return self.X[index], self.y[index]\n",
    "\n",
    "train_dataset_title = data_set(X_train_title, y_train_title)\n",
    "test_dataset_title = data_set(X_test_title, y_test_title)\n",
    "train_dataset_text = data_set(X_train_text, y_train_text)\n",
    "test_dataset_text = data_set(X_test_text, y_test_text)\n",
    "\n",
    "train_dataloader_title = DataLoader(train_dataset_title, **params)\n",
    "test_dataloader_title = DataLoader(test_dataset_title, **params)\n",
    "train_dataloader_text = DataLoader(train_dataset_text, **params)\n",
    "test_dataloader_text = DataLoader(test_dataset_text, **params)\n",
    "\n",
    "for batch, (X, y) in enumerate(train_dataloader_title):\n",
    "    # print(X)\n",
    "    # print(X.shape)\n",
    "    # print(y.shape)\n",
    "    break"
   ],
   "metadata": {
    "collapsed": false
   }
  },
  {
   "cell_type": "markdown",
   "source": [
    "## Helper Functions"
   ],
   "metadata": {
    "collapsed": false
   }
  },
  {
   "cell_type": "code",
   "execution_count": 231,
   "outputs": [],
   "source": [
    "def add_metrics_to_log(log, metrics, y_true, y_pred, prefix=''):\n",
    "    for metric in metrics:\n",
    "        q = metric(y_true, y_pred)\n",
    "        log[prefix + metric.__name__] = q\n",
    "    return\n",
    "\n",
    "def log_to_message(log, precision=4):\n",
    "    fmt = \"{0}: {1:.\" + str(precision) + \"f}\"\n",
    "    return \"    \".join(fmt.format(k, v) for k, v in log.items())\n",
    "\n",
    "class ProgressBar(object):\n",
    "    \"\"\"Cheers @ajratner\"\"\"\n",
    "\n",
    "    def __init__(self, n, length=40):\n",
    "        # Protect against division by zero\n",
    "        self.n      = max(1, n)\n",
    "        self.nf     = float(n)\n",
    "        self.length = length\n",
    "        # Precalculate the i values that should trigger a write operation\n",
    "        self.ticks = set([round(i/100.0 * n) for i in range(101)])\n",
    "        self.ticks.add(n-1)\n",
    "        self.bar(0)\n",
    "\n",
    "    def bar(self, i, message=\"\"):\n",
    "        \"\"\"Assumes i ranges through [0, n-1]\"\"\"\n",
    "        if i in self.ticks:\n",
    "            b = int(np.ceil(((i+1) / self.nf) * self.length))\n",
    "            sys.stdout.write(\"\\r[{0}{1}] {2}%\\t{3}\".format(\n",
    "                \"=\"*b, \" \"*(self.length-b), int(100*((i+1) / self.nf)), message\n",
    "            ))\n",
    "            sys.stdout.flush()\n",
    "\n",
    "    def close(self, message=\"\"):\n",
    "        # Move the bar to 100% before closing\n",
    "        self.bar(self.n-1)\n",
    "        sys.stdout.write(\"\\n{0}\\n\\n\".format(message))\n",
    "        sys.stdout.flush()"
   ],
   "metadata": {
    "collapsed": false
   }
  },
  {
   "cell_type": "markdown",
   "source": [
    "## Training Loop"
   ],
   "metadata": {
    "collapsed": false
   }
  },
  {
   "cell_type": "code",
   "execution_count": 232,
   "outputs": [],
   "source": [
    "epochs = 10\n",
    "\n",
    "def train(dataloader, model, loss_fn, optimizer):\n",
    "    start_time = time.time()\n",
    "    size = len(dataloader.dataset)\n",
    "    num_batches = len(dataloader)\n",
    "    total_loss = 0\n",
    "    f1 = 0\n",
    "    precision = 0\n",
    "    recall = 0\n",
    "    accuracy = 0\n",
    "    f1_score_ = BinaryF1Score().to(device)\n",
    "    precision_ = BinaryPrecision().to(device)\n",
    "    recall_ = BinaryRecall().to(device)\n",
    "    accuracy_ = BinaryAccuracy().to(device)\n",
    "    pb = ProgressBar(size/batch_size)\n",
    "    log = OrderedDict()\n",
    "    model.train()\n",
    "    for batch, (X, y) in enumerate(dataloader):\n",
    "        # Compute prediction error\n",
    "        X = X.to(device)\n",
    "        y = y.to(device)\n",
    "        pred = model(X)\n",
    "        loss = loss_fn(pred.squeeze(), y.float())\n",
    "        total_loss += loss.item()\n",
    "        f1 += f1_score_(pred.squeeze(), y)\n",
    "        precision += precision_(pred.squeeze(), y)\n",
    "        recall += recall_(pred.squeeze(), y)\n",
    "        accuracy += accuracy_(pred.squeeze(), y)\n",
    "        # Backpropagation\n",
    "        optimizer.zero_grad()\n",
    "        loss.backward()\n",
    "        optimizer.step()\n",
    "        log['loss'] = float(loss) / (batch + 1)\n",
    "        log['f1'] = float(f1) / (batch + 1)\n",
    "        log['accuracy'] = float(accuracy) / (batch + 1) #correct / ((batch + 1) * batch_size)\n",
    "        log['precision'] = float(precision) / (batch + 1)\n",
    "        log['recall'] = float(recall) / (batch + 1)\n",
    "        log['time'] = time.time() - start_time\n",
    "        pb.bar(batch, log_to_message(log))\n",
    "    pb.close(log_to_message(log))\n",
    "    return total_loss, (f1/num_batches).item(), (accuracy/num_batches).item(), (precision/num_batches).item(), (recall/num_batches).item(), time.time()-start_time\n",
    "\n",
    "def test(dataloader, model, loss_fn):\n",
    "    start_time = time.time()\n",
    "    size = len(dataloader.dataset)\n",
    "    num_batches = len(dataloader)\n",
    "    test_loss = 0\n",
    "    f1 = 0\n",
    "    precision = 0\n",
    "    recall = 0\n",
    "    accuracy = 0\n",
    "    f1_score_ = BinaryF1Score().to(device)\n",
    "    precision_ = BinaryPrecision().to(device)\n",
    "    recall_ = BinaryRecall().to(device)\n",
    "    accuracy_ = BinaryAccuracy().to(device)\n",
    "    pb = ProgressBar(size/batch_size)\n",
    "    log = OrderedDict()\n",
    "    model.eval()\n",
    "    with torch.no_grad():\n",
    "        for batch, (X, y) in enumerate(dataloader):\n",
    "            X = X.to(device)\n",
    "            y = y.to(device)\n",
    "            pred = model(X)\n",
    "            test_loss += loss_fn(pred.squeeze(), y.float())\n",
    "            f1 += f1_score_(pred.squeeze(), y)\n",
    "            precision += precision_(pred.squeeze(), y)\n",
    "            recall += recall_(pred.squeeze(), y)\n",
    "            accuracy += accuracy_(pred.squeeze(), y)\n",
    "            # Backpropagation\n",
    "            log['loss'] = float(test_loss) / (batch + 1)\n",
    "            log['f1'] = float(f1) / (batch + 1)\n",
    "            log['accuracy'] = float(accuracy) / (batch + 1) #correct / ((batch + 1) * batch_size)\n",
    "            log['precision'] = float(precision) / (batch + 1)\n",
    "            log['recall'] = float(recall) / (batch + 1)\n",
    "            log['time'] = time.time() - start_time\n",
    "            pb.bar(batch, log_to_message(log))\n",
    "    pb.close(log_to_message(log))\n",
    "    return test_loss.item(), (f1/num_batches).item(), (accuracy/num_batches).item(), (precision/num_batches).item(), (recall/num_batches).item(), time.time()-start_time\n",
    "\n",
    "def train_and_evaluate(train_dataloader, test_dataloader, model, loss_fn, optimizer, training=True):\n",
    "    if training:\n",
    "        for i in range(epochs):\n",
    "            print(\"Epoch {}: ------------------------------------------------------------------------------------------------------------------------\".format(i+1))\n",
    "            train(train_dataloader, model, loss_fn, optimizer)\n",
    "    print(\"Evaluation ------------------------------------------------------------------------------------------------------------------------\")\n",
    "    return test(test_dataloader, model, loss_fn)"
   ],
   "metadata": {
    "collapsed": false
   }
  },
  {
   "cell_type": "markdown",
   "source": [
    "## Simple Model for testing of training loop"
   ],
   "metadata": {
    "collapsed": false
   }
  },
  {
   "cell_type": "code",
   "execution_count": 233,
   "outputs": [],
   "source": [
    "class SimpleLinearModel(nn.Module):\n",
    "    def __init__(self):\n",
    "        super(SimpleLinearModel, self).__init__()\n",
    "        self.fc1 = nn.Linear(embed_dim, 128)\n",
    "        self.fc2 = nn.Linear(128, 64)\n",
    "        self.fc3 = nn.Linear(64, 32)\n",
    "        self.fc4 = nn.Linear(32, 1)\n",
    "        self.relu = nn.ReLU()\n",
    "\n",
    "    def forward(self, vec):\n",
    "        x = self.relu(self.fc1(vec))\n",
    "        x = self.relu(self.fc2(x))\n",
    "        x = self.relu(self.fc3(x))\n",
    "        return torch.sigmoid(self.fc4(x))\n",
    "\n",
    "model = SimpleLinearModel().to(device)\n",
    "\n",
    "loss_fn = nn.BCELoss()\n",
    "optimizer = torch.optim.Adam(model.parameters())\n",
    "\n",
    "\n",
    "# r = train_and_evaluate(train_dataloader_title, test_dataloader_title, model, loss_fn, optimizer)\n",
    "# results[\"simple_linear_model\"] = {}\n",
    "# results[\"simple_linear_model\"][\"title\"] = createDictElement(r)\n",
    "#\n",
    "# model = SimpleLinearModel().to(device)\n",
    "# loss_fn = nn.BCELoss()\n",
    "# optimizer = torch.optim.Adam(model.parameters())\n",
    "#\n",
    "# r = train_and_evaluate(train_dataloader_text, test_dataloader_text, model, loss_fn, optimizer)\n",
    "# results[\"simple_linear_model\"][\"text\"] = createDictElement(r)"
   ],
   "metadata": {
    "collapsed": false
   }
  },
  {
   "cell_type": "markdown",
   "source": [
    "## Simple Convolution Model"
   ],
   "metadata": {
    "collapsed": false
   }
  },
  {
   "cell_type": "code",
   "execution_count": 234,
   "outputs": [],
   "source": [
    "class SimpleConvolutionModel(nn.Module):\n",
    "    def __init__(self):\n",
    "        super(SimpleConvolutionModel, self).__init__()\n",
    "        self.fc1 = nn.Linear(embed_dim, 100)\n",
    "        self.conv = nn.Conv2d(in_channels=100, out_channels=100, kernel_size=3, stride=1, padding=1)\n",
    "        self.relu = nn.ReLU()\n",
    "        self.maxpool = nn.MaxPool2d(kernel_size=1, stride=1)\n",
    "        self.fc2 = nn.Linear(100, 1)\n",
    "\n",
    "    def forward(self, x):\n",
    "        x = self.fc1(x)\n",
    "        x = self.conv(x.unsqueeze(1))\n",
    "        x = self.relu(x)\n",
    "        x = self.maxpool(x)\n",
    "        x = x.squeeze()\n",
    "        x = torch.sigmoid(self.fc2(x))\n",
    "        return x\n",
    "\n",
    "\n",
    "model = SimpleConvolutionModel().to(device)\n",
    "\n",
    "loss_fn = nn.CrossEntropyLoss()\n",
    "optimizer = torch.optim.SGD(model.parameters(), lr=0.01)\n",
    "results[\"simple_convolution_model\"] = {}\n",
    "\n",
    "# r = train_and_evaluate(train_dataloader_title, test_dataloader_title, model, loss_fn, optimizer)\n",
    "# results[\"simple_convolution_model\"][\"title\"] = createDictElement(r)\n",
    "\n",
    "model = SimpleConvolutionModel().to(device)\n",
    "\n",
    "loss_fn = nn.CrossEntropyLoss()\n",
    "optimizer = torch.optim.SGD(model.parameters(), lr=0.01)\n",
    "\n",
    "# r = train_and_evaluate(train_dataloader_text, test_dataloader_text, model, loss_fn, optimizer)\n",
    "# results[\"simple_convolution_model\"][\"text\"] = createDictElement(r)"
   ],
   "metadata": {
    "collapsed": false
   }
  },
  {
   "cell_type": "code",
   "execution_count": 235,
   "outputs": [
    {
     "name": "stdout",
     "output_type": "stream",
     "text": [
      "Epoch 1: ------------------------------------------------------------------------------------------------------------------------\n",
      "[========                                ] 19%\tloss: 0.0060    f1: 0.5466    accuracy: 0.5003    precision: 0.4954    recall: 0.7242    time: 2.3326"
     ]
    },
    {
     "ename": "KeyboardInterrupt",
     "evalue": "",
     "output_type": "error",
     "traceback": [
      "\u001B[1;31m---------------------------------------------------------------------------\u001B[0m",
      "\u001B[1;31mKeyboardInterrupt\u001B[0m                         Traceback (most recent call last)",
      "Cell \u001B[1;32mIn[235], line 34\u001B[0m\n\u001B[0;32m     31\u001B[0m optimizer \u001B[38;5;241m=\u001B[39m torch\u001B[38;5;241m.\u001B[39moptim\u001B[38;5;241m.\u001B[39mAdam(model\u001B[38;5;241m.\u001B[39mparameters())\n\u001B[0;32m     32\u001B[0m results[\u001B[38;5;124m\"\u001B[39m\u001B[38;5;124mlstm_model\u001B[39m\u001B[38;5;124m\"\u001B[39m] \u001B[38;5;241m=\u001B[39m {}\n\u001B[1;32m---> 34\u001B[0m r \u001B[38;5;241m=\u001B[39m \u001B[43mtrain_and_evaluate\u001B[49m\u001B[43m(\u001B[49m\u001B[43mtrain_dataloader_title\u001B[49m\u001B[43m,\u001B[49m\u001B[43m \u001B[49m\u001B[43mtest_dataloader_title\u001B[49m\u001B[43m,\u001B[49m\u001B[43m \u001B[49m\u001B[43mmodel\u001B[49m\u001B[43m,\u001B[49m\u001B[43m \u001B[49m\u001B[43mloss_fn\u001B[49m\u001B[43m,\u001B[49m\u001B[43m \u001B[49m\u001B[43moptimizer\u001B[49m\u001B[43m)\u001B[49m\n\u001B[0;32m     35\u001B[0m results[\u001B[38;5;124m\"\u001B[39m\u001B[38;5;124mlstm_model\u001B[39m\u001B[38;5;124m\"\u001B[39m][\u001B[38;5;124m\"\u001B[39m\u001B[38;5;124mtitle\u001B[39m\u001B[38;5;124m\"\u001B[39m] \u001B[38;5;241m=\u001B[39m createDictElement(r)\n\u001B[0;32m     37\u001B[0m model \u001B[38;5;241m=\u001B[39m FA_KES()\u001B[38;5;241m.\u001B[39mto(device)\n",
      "Cell \u001B[1;32mIn[232], line 85\u001B[0m, in \u001B[0;36mtrain_and_evaluate\u001B[1;34m(train_dataloader, test_dataloader, model, loss_fn, optimizer, training)\u001B[0m\n\u001B[0;32m     83\u001B[0m     \u001B[38;5;28;01mfor\u001B[39;00m i \u001B[38;5;129;01min\u001B[39;00m \u001B[38;5;28mrange\u001B[39m(epochs):\n\u001B[0;32m     84\u001B[0m         \u001B[38;5;28mprint\u001B[39m(\u001B[38;5;124m\"\u001B[39m\u001B[38;5;124mEpoch \u001B[39m\u001B[38;5;132;01m{}\u001B[39;00m\u001B[38;5;124m: ------------------------------------------------------------------------------------------------------------------------\u001B[39m\u001B[38;5;124m\"\u001B[39m\u001B[38;5;241m.\u001B[39mformat(i\u001B[38;5;241m+\u001B[39m\u001B[38;5;241m1\u001B[39m))\n\u001B[1;32m---> 85\u001B[0m         \u001B[43mtrain\u001B[49m\u001B[43m(\u001B[49m\u001B[43mtrain_dataloader\u001B[49m\u001B[43m,\u001B[49m\u001B[43m \u001B[49m\u001B[43mmodel\u001B[49m\u001B[43m,\u001B[49m\u001B[43m \u001B[49m\u001B[43mloss_fn\u001B[49m\u001B[43m,\u001B[49m\u001B[43m \u001B[49m\u001B[43moptimizer\u001B[49m\u001B[43m)\u001B[49m\n\u001B[0;32m     86\u001B[0m \u001B[38;5;28mprint\u001B[39m(\u001B[38;5;124m\"\u001B[39m\u001B[38;5;124mEvaluation ------------------------------------------------------------------------------------------------------------------------\u001B[39m\u001B[38;5;124m\"\u001B[39m)\n\u001B[0;32m     87\u001B[0m \u001B[38;5;28;01mreturn\u001B[39;00m test(test_dataloader, model, loss_fn)\n",
      "Cell \u001B[1;32mIn[232], line 26\u001B[0m, in \u001B[0;36mtrain\u001B[1;34m(dataloader, model, loss_fn, optimizer)\u001B[0m\n\u001B[0;32m     24\u001B[0m loss \u001B[38;5;241m=\u001B[39m loss_fn(pred\u001B[38;5;241m.\u001B[39msqueeze(), y\u001B[38;5;241m.\u001B[39mfloat())\n\u001B[0;32m     25\u001B[0m total_loss \u001B[38;5;241m+\u001B[39m\u001B[38;5;241m=\u001B[39m loss\u001B[38;5;241m.\u001B[39mitem()\n\u001B[1;32m---> 26\u001B[0m f1 \u001B[38;5;241m+\u001B[39m\u001B[38;5;241m=\u001B[39m \u001B[43mf1_score_\u001B[49m\u001B[43m(\u001B[49m\u001B[43mpred\u001B[49m\u001B[38;5;241;43m.\u001B[39;49m\u001B[43msqueeze\u001B[49m\u001B[43m(\u001B[49m\u001B[43m)\u001B[49m\u001B[43m,\u001B[49m\u001B[43m \u001B[49m\u001B[43my\u001B[49m\u001B[43m)\u001B[49m\n\u001B[0;32m     27\u001B[0m precision \u001B[38;5;241m+\u001B[39m\u001B[38;5;241m=\u001B[39m precision_(pred\u001B[38;5;241m.\u001B[39msqueeze(), y)\n\u001B[0;32m     28\u001B[0m recall \u001B[38;5;241m+\u001B[39m\u001B[38;5;241m=\u001B[39m recall_(pred\u001B[38;5;241m.\u001B[39msqueeze(), y)\n",
      "File \u001B[1;32m~\\AppData\\Local\\Programs\\Python\\Python310\\lib\\site-packages\\torch\\nn\\modules\\module.py:1130\u001B[0m, in \u001B[0;36mModule._call_impl\u001B[1;34m(self, *input, **kwargs)\u001B[0m\n\u001B[0;32m   1126\u001B[0m \u001B[38;5;66;03m# If we don't have any hooks, we want to skip the rest of the logic in\u001B[39;00m\n\u001B[0;32m   1127\u001B[0m \u001B[38;5;66;03m# this function, and just call forward.\u001B[39;00m\n\u001B[0;32m   1128\u001B[0m \u001B[38;5;28;01mif\u001B[39;00m \u001B[38;5;129;01mnot\u001B[39;00m (\u001B[38;5;28mself\u001B[39m\u001B[38;5;241m.\u001B[39m_backward_hooks \u001B[38;5;129;01mor\u001B[39;00m \u001B[38;5;28mself\u001B[39m\u001B[38;5;241m.\u001B[39m_forward_hooks \u001B[38;5;129;01mor\u001B[39;00m \u001B[38;5;28mself\u001B[39m\u001B[38;5;241m.\u001B[39m_forward_pre_hooks \u001B[38;5;129;01mor\u001B[39;00m _global_backward_hooks\n\u001B[0;32m   1129\u001B[0m         \u001B[38;5;129;01mor\u001B[39;00m _global_forward_hooks \u001B[38;5;129;01mor\u001B[39;00m _global_forward_pre_hooks):\n\u001B[1;32m-> 1130\u001B[0m     \u001B[38;5;28;01mreturn\u001B[39;00m forward_call(\u001B[38;5;241m*\u001B[39m\u001B[38;5;28minput\u001B[39m, \u001B[38;5;241m*\u001B[39m\u001B[38;5;241m*\u001B[39mkwargs)\n\u001B[0;32m   1131\u001B[0m \u001B[38;5;66;03m# Do not call functions when jit is used\u001B[39;00m\n\u001B[0;32m   1132\u001B[0m full_backward_hooks, non_full_backward_hooks \u001B[38;5;241m=\u001B[39m [], []\n",
      "File \u001B[1;32m~\\AppData\\Local\\Programs\\Python\\Python310\\lib\\site-packages\\torchmetrics\\metric.py:234\u001B[0m, in \u001B[0;36mMetric.forward\u001B[1;34m(self, *args, **kwargs)\u001B[0m\n\u001B[0;32m    232\u001B[0m     \u001B[38;5;28mself\u001B[39m\u001B[38;5;241m.\u001B[39m_forward_cache \u001B[38;5;241m=\u001B[39m \u001B[38;5;28mself\u001B[39m\u001B[38;5;241m.\u001B[39m_forward_full_state_update(\u001B[38;5;241m*\u001B[39margs, \u001B[38;5;241m*\u001B[39m\u001B[38;5;241m*\u001B[39mkwargs)\n\u001B[0;32m    233\u001B[0m \u001B[38;5;28;01melse\u001B[39;00m:\n\u001B[1;32m--> 234\u001B[0m     \u001B[38;5;28mself\u001B[39m\u001B[38;5;241m.\u001B[39m_forward_cache \u001B[38;5;241m=\u001B[39m \u001B[38;5;28mself\u001B[39m\u001B[38;5;241m.\u001B[39m_forward_reduce_state_update(\u001B[38;5;241m*\u001B[39margs, \u001B[38;5;241m*\u001B[39m\u001B[38;5;241m*\u001B[39mkwargs)\n\u001B[0;32m    236\u001B[0m \u001B[38;5;28;01mreturn\u001B[39;00m \u001B[38;5;28mself\u001B[39m\u001B[38;5;241m.\u001B[39m_forward_cache\n",
      "File \u001B[1;32m~\\AppData\\Local\\Programs\\Python\\Python310\\lib\\site-packages\\torchmetrics\\metric.py:300\u001B[0m, in \u001B[0;36mMetric._forward_reduce_state_update\u001B[1;34m(self, *args, **kwargs)\u001B[0m\n\u001B[0;32m    297\u001B[0m \u001B[38;5;28mself\u001B[39m\u001B[38;5;241m.\u001B[39m_enable_grad \u001B[38;5;241m=\u001B[39m \u001B[38;5;28;01mTrue\u001B[39;00m  \u001B[38;5;66;03m# allow grads for batch computation\u001B[39;00m\n\u001B[0;32m    299\u001B[0m \u001B[38;5;66;03m# calculate batch state and compute batch value\u001B[39;00m\n\u001B[1;32m--> 300\u001B[0m \u001B[38;5;28mself\u001B[39m\u001B[38;5;241m.\u001B[39mupdate(\u001B[38;5;241m*\u001B[39margs, \u001B[38;5;241m*\u001B[39m\u001B[38;5;241m*\u001B[39mkwargs)\n\u001B[0;32m    301\u001B[0m batch_val \u001B[38;5;241m=\u001B[39m \u001B[38;5;28mself\u001B[39m\u001B[38;5;241m.\u001B[39mcompute()\n\u001B[0;32m    303\u001B[0m \u001B[38;5;66;03m# reduce batch and global state\u001B[39;00m\n",
      "File \u001B[1;32m~\\AppData\\Local\\Programs\\Python\\Python310\\lib\\site-packages\\torchmetrics\\metric.py:388\u001B[0m, in \u001B[0;36mMetric._wrap_update.<locals>.wrapped_func\u001B[1;34m(*args, **kwargs)\u001B[0m\n\u001B[0;32m    386\u001B[0m \u001B[38;5;28;01mwith\u001B[39;00m torch\u001B[38;5;241m.\u001B[39mset_grad_enabled(\u001B[38;5;28mself\u001B[39m\u001B[38;5;241m.\u001B[39m_enable_grad):\n\u001B[0;32m    387\u001B[0m     \u001B[38;5;28;01mtry\u001B[39;00m:\n\u001B[1;32m--> 388\u001B[0m         update(\u001B[38;5;241m*\u001B[39margs, \u001B[38;5;241m*\u001B[39m\u001B[38;5;241m*\u001B[39mkwargs)\n\u001B[0;32m    389\u001B[0m     \u001B[38;5;28;01mexcept\u001B[39;00m \u001B[38;5;167;01mRuntimeError\u001B[39;00m \u001B[38;5;28;01mas\u001B[39;00m err:\n\u001B[0;32m    390\u001B[0m         \u001B[38;5;28;01mif\u001B[39;00m \u001B[38;5;124m\"\u001B[39m\u001B[38;5;124mExpected all tensors to be on\u001B[39m\u001B[38;5;124m\"\u001B[39m \u001B[38;5;129;01min\u001B[39;00m \u001B[38;5;28mstr\u001B[39m(err):\n",
      "File \u001B[1;32m~\\AppData\\Local\\Programs\\Python\\Python310\\lib\\site-packages\\torchmetrics\\classification\\stat_scores.py:174\u001B[0m, in \u001B[0;36mBinaryStatScores.update\u001B[1;34m(self, preds, target)\u001B[0m\n\u001B[0;32m    172\u001B[0m \u001B[38;5;28;01mif\u001B[39;00m \u001B[38;5;28mself\u001B[39m\u001B[38;5;241m.\u001B[39mvalidate_args:\n\u001B[0;32m    173\u001B[0m     _binary_stat_scores_tensor_validation(preds, target, \u001B[38;5;28mself\u001B[39m\u001B[38;5;241m.\u001B[39mmultidim_average, \u001B[38;5;28mself\u001B[39m\u001B[38;5;241m.\u001B[39mignore_index)\n\u001B[1;32m--> 174\u001B[0m preds, target \u001B[38;5;241m=\u001B[39m \u001B[43m_binary_stat_scores_format\u001B[49m\u001B[43m(\u001B[49m\u001B[43mpreds\u001B[49m\u001B[43m,\u001B[49m\u001B[43m \u001B[49m\u001B[43mtarget\u001B[49m\u001B[43m,\u001B[49m\u001B[43m \u001B[49m\u001B[38;5;28;43mself\u001B[39;49m\u001B[38;5;241;43m.\u001B[39;49m\u001B[43mthreshold\u001B[49m\u001B[43m,\u001B[49m\u001B[43m \u001B[49m\u001B[38;5;28;43mself\u001B[39;49m\u001B[38;5;241;43m.\u001B[39;49m\u001B[43mignore_index\u001B[49m\u001B[43m)\u001B[49m\n\u001B[0;32m    175\u001B[0m tp, fp, tn, fn \u001B[38;5;241m=\u001B[39m _binary_stat_scores_update(preds, target, \u001B[38;5;28mself\u001B[39m\u001B[38;5;241m.\u001B[39mmultidim_average)\n\u001B[0;32m    176\u001B[0m \u001B[38;5;28mself\u001B[39m\u001B[38;5;241m.\u001B[39m_update_state(tp, fp, tn, fn)\n",
      "File \u001B[1;32m~\\AppData\\Local\\Programs\\Python\\Python310\\lib\\site-packages\\torchmetrics\\functional\\classification\\stat_scores.py:101\u001B[0m, in \u001B[0;36m_binary_stat_scores_format\u001B[1;34m(preds, target, threshold, ignore_index)\u001B[0m\n\u001B[0;32m     94\u001B[0m \u001B[38;5;124;03m\"\"\"Convert all input to label format.\u001B[39;00m\n\u001B[0;32m     95\u001B[0m \n\u001B[0;32m     96\u001B[0m \u001B[38;5;124;03m- If preds tensor is floating point, applies sigmoid if pred tensor not in [0,1] range\u001B[39;00m\n\u001B[0;32m     97\u001B[0m \u001B[38;5;124;03m- If preds tensor is floating point, thresholds afterwards\u001B[39;00m\n\u001B[0;32m     98\u001B[0m \u001B[38;5;124;03m- Mask all datapoints that should be ignored with negative values\u001B[39;00m\n\u001B[0;32m     99\u001B[0m \u001B[38;5;124;03m\"\"\"\u001B[39;00m\n\u001B[0;32m    100\u001B[0m \u001B[38;5;28;01mif\u001B[39;00m preds\u001B[38;5;241m.\u001B[39mis_floating_point():\n\u001B[1;32m--> 101\u001B[0m     \u001B[38;5;28;01mif\u001B[39;00m \u001B[38;5;129;01mnot\u001B[39;00m torch\u001B[38;5;241m.\u001B[39mall((\u001B[38;5;241m0\u001B[39m \u001B[38;5;241m<\u001B[39m\u001B[38;5;241m=\u001B[39m preds) \u001B[38;5;241m*\u001B[39m (preds \u001B[38;5;241m<\u001B[39m\u001B[38;5;241m=\u001B[39m \u001B[38;5;241m1\u001B[39m)):\n\u001B[0;32m    102\u001B[0m         \u001B[38;5;66;03m# preds is logits, convert with sigmoid\u001B[39;00m\n\u001B[0;32m    103\u001B[0m         preds \u001B[38;5;241m=\u001B[39m preds\u001B[38;5;241m.\u001B[39msigmoid()\n\u001B[0;32m    104\u001B[0m     preds \u001B[38;5;241m=\u001B[39m preds \u001B[38;5;241m>\u001B[39m threshold\n",
      "\u001B[1;31mKeyboardInterrupt\u001B[0m: "
     ]
    }
   ],
   "source": [
    "class FA_KES(nn.Module):\n",
    "    def __init__(self):\n",
    "        super(FA_KES, self).__init__()\n",
    "        self.fc1 = nn.Linear(embed_dim, 100)\n",
    "        # self.embed = nn.Embedding(\n",
    "        #     num_embeddings=len(w2v_model.wv),\n",
    "        #     embedding_dim=100)\n",
    "        self.conv = nn.Conv1d(in_channels=100, out_channels=100, kernel_size=6, stride=1, padding=1)\n",
    "        self.relu = nn.ReLU()\n",
    "        self.maxpool = nn.MaxPool1d(kernel_size=2, stride=1)\n",
    "        # self.fc2 = nn.Linear(95, 1)\n",
    "        self.lstm = nn.LSTM(96, 32, 3, bidirectional=True)\n",
    "        self.dropout = nn.Dropout(0.1)\n",
    "        self.fc3 = nn.Linear(64, 1)\n",
    "\n",
    "    def forward(self, x):\n",
    "        x = self.fc1(x)\n",
    "        x = self.relu(self.conv(x))\n",
    "        x = self.maxpool(x)\n",
    "        x = x.squeeze()\n",
    "        x, _ = self.lstm(x)\n",
    "        x = self.dropout(x)\n",
    "        x = torch.sigmoid(self.fc3(x))\n",
    "\n",
    "        return x\n",
    "\n",
    "\n",
    "model = FA_KES().to(device)\n",
    "\n",
    "loss_fn = nn.BCELoss()\n",
    "optimizer = torch.optim.Adam(model.parameters())\n",
    "results[\"lstm_model\"] = {}\n",
    "\n",
    "r = train_and_evaluate(train_dataloader_title, test_dataloader_title, model, loss_fn, optimizer)\n",
    "results[\"lstm_model\"][\"title\"] = createDictElement(r)\n",
    "\n",
    "model = FA_KES().to(device)\n",
    "\n",
    "loss_fn = nn.BCELoss()\n",
    "optimizer = torch.optim.Adam(model.parameters())\n",
    "\n",
    "r = train_and_evaluate(train_dataloader_text, test_dataloader_text, model, loss_fn, optimizer)\n",
    "results[\"lstm_model\"][\"text\"] = createDictElement(r)\n",
    "\n"
   ],
   "metadata": {
    "collapsed": false
   }
  },
  {
   "cell_type": "markdown",
   "source": [
    "## Support Vector Machine\n",
    "\n",
    "Using a support vector machine (SVM) to label between fake and real news.\n",
    "First we are using the text as input afterwards just the titles."
   ],
   "metadata": {
    "collapsed": false
   }
  },
  {
   "cell_type": "code",
   "execution_count": null,
   "outputs": [],
   "source": [
    "def svm(X_train_data, y_train_data, X_test_data, y_test_data):\n",
    "    X_train = X_train_data.tolist()\n",
    "    X_test = X_test_data.tolist()\n",
    "    start_time = time.time()\n",
    "    clf = SVC(kernel='rbf')\n",
    "    print(\"fitting...\")\n",
    "    clf.fit(X_train,y_train_data)\n",
    "    print(\"predicting...\")\n",
    "    y_pred = clf.predict(X_test)\n",
    "    return 0, f1_score(y_test_data,y_pred), accuracy_score(y_test_data, y_pred), precision_score(y_test_data, y_pred), recall_score(y_test_data, y_pred), time.time()-start_time\n"
   ],
   "metadata": {
    "collapsed": false
   }
  },
  {
   "cell_type": "code",
   "execution_count": null,
   "outputs": [],
   "source": [
    "r = svm(X_train_text, y_train_text, X_test_text, y_test_text)\n",
    "loss, f1_score_text, accuracy_text, precision_text, recall_text, time_text = r\n",
    "print(\"Accuracy for text: {:.2f}%\\nF1 score for text: {:.2f}%\\nPrecision score for text: {:.2f}%\\nRecall score for text: {:.2f}%\".format(accuracy_text*100, f1_score_text*100, precision_text*100, recall_text*100))\n",
    "results[\"support_vector_machine\"] = {}\n",
    "results[\"support_vector_machine\"][\"text\"] = createDictElement(r)"
   ],
   "metadata": {
    "collapsed": false
   }
  },
  {
   "cell_type": "code",
   "execution_count": null,
   "outputs": [],
   "source": [
    "r = svm(X_train_title, y_train_title, X_test_title, y_test_title)\n",
    "loss, f1_score_title, accuracy_title, precision_title, recall_title, time_title = r\n",
    "print(\"Accuracy for title: {:.2f}%\\nF1 score for title: {:.2f}%\\nPrecision score for title: {:.2f}%\\nRecall score for title: {:.2f}%\".format(accuracy_title*100, f1_score_title*100, precision_title*100, recall_title*100))\n",
    "results[\"support_vector_machine\"][\"title\"] = createDictElement(r)"
   ],
   "metadata": {
    "collapsed": false
   }
  },
  {
   "cell_type": "markdown",
   "source": [
    "## Random Forest Algorithm\n",
    "\n",
    "Using the random forest algorithm (RF) to label between fake and real news.\n",
    "First we are using the text as input afterwards just the titles."
   ],
   "metadata": {
    "collapsed": false
   }
  },
  {
   "cell_type": "code",
   "execution_count": null,
   "outputs": [],
   "source": [
    "def random_forest(X_train, X_test, y_train, y_test, name, crit='gini'):\n",
    "    start_time = time.time()\n",
    "    rf = RandomForestClassifier(n_estimators = 1000, random_state = 42, verbose=0, n_jobs=-1, criterion=crit)\n",
    "    rf.fit(X_train.tolist(), y_train.tolist())\n",
    "    y_pred = rf.predict(X_test.tolist())\n",
    "    acc = accuracy_score(y_test.tolist(), y_pred)\n",
    "    f1 = f1_score(y_test.tolist(), y_pred)\n",
    "    prec = precision_score(y_test.tolist(), y_pred)\n",
    "    rec = recall_score(y_test.tolist(), y_pred)\n",
    "    print(\"accuracy for random forest with {} criterion {}: {:.2f}%\".format(crit, name, acc*100))\n",
    "    print(\"f1 score for random forest with {} criterion{}: {:.2f}%\".format(crit, name, f1*100))\n",
    "    print(\"precision score random forest with {} criterion for {}: {:.2f}%\".format(crit, name, prec*100))\n",
    "    print(\"recall score for random forest with {} criterion {}: {:.2f}%\".format(crit, name, rec*100))\n",
    "    return 0, f1, acc, prec, rec, time.time()-start_time\n",
    "\n",
    "results[\"random_forest\"] = {}\n",
    "r = random_forest(X_train_text, X_test_text, y_train_text, y_test_text, \"w2v text\")\n",
    "results[\"random_forest\"][\"text\"] = createDictElement(r)\n",
    "r = random_forest(X_train_title, X_test_title, y_train_title, y_test_title, \"w2v title\")\n",
    "results[\"random_forest\"][\"title\"] = createDictElement(r)"
   ],
   "metadata": {
    "collapsed": false
   }
  },
  {
   "cell_type": "code",
   "execution_count": null,
   "outputs": [],
   "source": [
    "print(results)"
   ],
   "metadata": {
    "collapsed": false
   }
  },
  {
   "cell_type": "markdown",
   "source": [
    "## Prinicipal Component Analysis"
   ],
   "metadata": {
    "collapsed": false
   },
   "outputs": [
    {
     "name": "stderr",
     "output_type": "stream",
     "text": [
      "Could not connect to 127.0.0.1: 50702\n",
      "Traceback (most recent call last):\n",
      "  File \"C:\\Program Files\\JetBrains\\PyCharm 2022.2.2\\plugins\\python\\helpers\\pydev\\_pydevd_bundle\\pydevd_comm.py\", line 463, in start_client\n",
      "    s.connect((host, port))\n",
      "ConnectionRefusedError: [WinError 10061] Es konnte keine Verbindung hergestellt werden, da der Zielcomputer die Verbindung verweigerte\n",
      "Traceback (most recent call last):\n",
      "  File \"C:\\Program Files\\JetBrains\\PyCharm 2022.2.2\\plugins\\python\\helpers-pro\\jupyter_debug\\pydev_jupyter_utils.py\", line 81, in attach_to_debugger\n",
      "    debugger.connect(pydev_localhost.get_localhost(), debugger_port)\n",
      "  File \"C:\\Program Files\\JetBrains\\PyCharm 2022.2.2\\plugins\\python\\helpers\\pydev\\pydevd.py\", line 660, in connect\n",
      "    s = start_client(host, port)\n",
      "  File \"C:\\Program Files\\JetBrains\\PyCharm 2022.2.2\\plugins\\python\\helpers\\pydev\\_pydevd_bundle\\pydevd_comm.py\", line 463, in start_client\n",
      "    s.connect((host, port))\n",
      "ConnectionRefusedError: [WinError 10061] Es konnte keine Verbindung hergestellt werden, da der Zielcomputer die Verbindung verweigerte\n",
      "Failed to connect to target debugger.\n"
     ]
    }
   ],
   "execution_count": 27
  },
  {
   "cell_type": "code",
   "execution_count": null,
   "outputs": [],
   "source": [
    "def pca_(X_test, y_test):\n",
    "    pca = PCA()\n",
    "    pipe = Pipeline([('scaler', StandardScaler()), ('pca', pca)])\n",
    "    plt.figure(figsize=(8, 6))\n",
    "    Xt = pipe.fit_transform(X_test.tolist())\n",
    "    plot = plt.scatter(Xt[:,0], Xt[:,1], c=y_test.tolist(), alpha=0.6, s=0.9, cmap='plasma')\n",
    "    plt.legend(handles=plot.legend_elements()[0], labels=[\"real news\", \"fake news\"])\n",
    "    plt.show()\n",
    "\n",
    "pca_(X_test_text, y_test_text)\n",
    "pca_(X_test_title, y_test_title)"
   ],
   "metadata": {
    "collapsed": false
   }
  },
  {
   "cell_type": "code",
   "execution_count": null,
   "outputs": [
    {
     "data": {
      "text/plain": "                                                                                                                                    title  \\\n2   ['bobby', 'jindal', 'raised', 'hindu', 'uses', 'story', 'christian', 'conversion', 'woo', 'evangelicals', 'potential', '2016', 'bid']   \n9                                               ['may', 'brexit', 'offer', 'would', 'hurt', 'cost', 'eu', 'citizens', 'eu', 'parliament']   \n10                                            ['schumer', 'calls', 'trump', 'appoint', 'official', 'oversee', 'puerto', 'rico', 'relief']   \n12                         ['change', 'expected', 'espn', 'political', 'agenda', 'despite', 'huge', 'subscriber', 'decline', 'breitbart']   \n13                                                       ['billionaire', 'odebrecht', 'brazil', 'scandal', 'released', 'house', 'arrest']   \n15                                                      ['u', 'n', 'seeks', 'humanitarian', 'pause', 'sanaa', 'streets', 'battlegrounds']   \n17                                                        ['second', 'judge', 'says', 'clinton', 'email', 'setup', 'may', 'bad', 'faith']   \n24                                         ['supreme', 'court', 'hear', 'appeal', 'texas', 'voter', 'id', 'case', 'new', 'york', 'times']   \n25                                                               ['islamic', 'state', 'driven', 'last', 'stronghold', 'northern', 'iraq']   \n26                     ['senators', 'propose', 'giving', 'states', 'option', 'keep', 'affordable', 'care', 'act', 'new', 'york', 'times']   \n\n                                                                                                                                                                                                                                                                                                                                                                                                                                                                                                                                                                                                                                                                                                                                                                                                                                                                                                                                                                                                                                                                                                                                                                                                                                                                                                                                                                                                                                                                                                                                                                                                                                                                                                                                                                                                                                                                                                                                                                                                                                                                                                                                                                                                                                                                                                                                                                                                                                                                                                                                                                                                                                                                                                                                                                                                                                                                                                                                                                                                                                                                                                                                                                                                                                                                                                                                                                                                                                                                                                                                                                                                                                                                                                                                                                                                                                                                                                                                                                                                                                                                                                                                                                                                                                                                                                                                                                                                                                                                                                                                                                                                                                                                                                                                                                                                                                                                                                                                                                                                                                                                                                                                                                                                                                                                                                                                                                                                                                                                                                                                                                                                                                                                                                                                                                                                                                                                                                                                                                                                                                                                                                                                                                                                                                                                                                                                                                                                                                                                                                                                                                                                                                                                                                                                                                                                                                                                                                                                                                                                                                                                                                                                                                                                                                                                                                                                                                                                                                                                                                                                                                                                                                                                                                                                                                                                                                                                                                                                                                                                                                                                                                                                                 text  \\\n2   ['dozen', 'politically', 'active', 'pastors', 'came', 'private', 'dinner', 'friday', 'night', 'hear', 'conversion', 'story', 'unique', 'context', 'presidential', 'politics', 'louisiana', 'gov', 'bobby', 'jindal', 'traveled', 'hinduism', 'protestant', 'christianity', 'ultimately', 'became', 'calls', 'evangelical', 'catholic', 'two', 'hours', 'jindal', '42', 'recalled', 'talking', 'girl', 'high', 'school', 'wanted', 'save', 'soul', 'reading', 'bible', 'closet', 'parents', 'would', 'see', 'feeling', 'stir', 'watching', 'movie', 'senior', 'year', 'depicted', 'jesus', 'cross', 'struck', 'struck', 'hard', 'jindal', 'told', 'pastors', 'son', 'god', 'died', 'sins', 'jindal', 'session', 'christian', 'clergy', 'lead', 'congregations', 'early', 'presidential', 'battleground', 'states', 'iowa', 'south', 'carolina', 'part', 'behind', 'scenes', 'effort', 'louisiana', 'governor', 'find', 'political', 'base', 'could', 'help', 'propel', 'top', 'tier', 'republican', 'candidates', 'seeking', 'run', 'white', 'house', '2016', 'known', 'gop', 'circles', 'mostly', 'mastery', 'policy', 'issues', 'health', 'care', 'jindal', 'rhodes', 'scholar', 'graduate', 'ivy', 'league', 'brown', 'university', 'obvious', 'pool', 'activist', 'supporters', 'help', 'drive', 'excitement', 'outside', 'home', 'state', 'harnessing', 'religious', 'experience', 'way', 'begun', 'appeal', 'parts', 'gop', 'influential', 'core', 'religious', 'conservatives', 'many', 'yet', 'find', 'favorite', 'among', 'republicans', 'eyeing', 'presidential', 'race', 'potential', '2016', 'gop', 'candidates', 'wooing', 'evangelical', 'base', 'including', 'sens', 'rand', 'paul', 'ky', 'ted', 'cruz', 'tex', 'indiana', 'gov', 'mike', 'pence', 'weekend', 'lynchburg', '—', 'mecca', 'sorts', 'evangelicals', 'home', 'liberty', 'university', 'founded', '1970s', 'rev', 'jerry', 'falwell', '—', 'jindal', 'appeared', 'make', 'progress', 'addition', 'dinner', 'pastors', 'delivered', 'well', 'received', 'call', 'action', 'address', '40', '000', 'christian', 'conservatives', 'gathered', 'liberty', 'commencement', 'ceremony', 'talking', 'faith', 'assailing', 'said', 'president', 'obama', 'record', 'attacking', 'religious', 'liberty', 'pastors', 'came', 'meet', 'jindal', 'said', 'intimate', 'descriptions', 'experiences', 'stood', 'convictions', 'takes', 'communicate', 'said', 'brad', 'sherman', 'solid', 'rock', 'christian', 'church', 'coralville', 'iowa', 'sherman', 'helped', 'former', 'arkansas', 'governor', 'mike', 'huckabee', 'winning', '2008', 'campaign', 'delegates', 'iowa', 'another', 'huckabee', 'admirer', 'rev', 'c', 'mitchell', 'brooks', 'second', 'baptist', 'church', 'belton', 'c', 'said', 'jindal', 'commitment', 'christian', 'values', 'compelling', 'story', 'put', 'par', 'huckabee', 'baptist', 'preacher', 'entering', 'politics', 'visiting', 'pastors', 'flew', 'lynchburg', 'weekend', 'invitation', 'american', 'renewal', 'project', 'well', 'funded', 'nonprofit', 'group', 'encourages', 'evangelical', 'christians', 'engage', 'civic', 'arena', 'voter', 'guides', 'get', 'vote', 'drives', 'programs', 'train', 'pastors', 'grass', 'roots', 'activism', 'group', 'founder', 'david', 'lane', 'built', 'pastor', 'network', 'politically', 'important', 'states', 'iowa', 'missouri', 'ohio', 'south', 'carolina', 'led', 'trips', 'israel', 'paul', 'others', 'seeking', 'make', 'inroads', 'evangelical', 'activists', 'group', 'lane', 'invited', 'lynchburg', 'included', 'donald', 'wild\\xadmon', 'retired', 'minister', 'founder', 'american', 'family', 'association', 'prominent', 'evangelical', 'activist', 'group', 'influence', 'network', '140', 'christian', 'radio', 'stations', 'pastors', 'lane', 'organization', 'brought', 'lynchburg', 'met', 'jindal', 'said', 'captured', 'interest', 'recently', 'stepped', 'forward', 'defend', 'phil', 'robertson', 'patriarch', 'duck', 'dynasty', 'television', 'show', 'family', 'amid', 'controversy', 'disparaging', 'remarks', 'made', 'gays', 'interview', 'gq', 'magazine', 'throughout', 'lynchburg', 'visit', 'jindal', 'presented', 'willing', 'culture', 'warrior', 'commencement', 'address', 'saturday', 'took', 'cause', 'twin', 'brothers', 'whose', 'hgtv', 'reality', 'series', 'renovating', 'reselling', 'houses', 'flip', 'forward', 'canceled', 'last', 'week', 'web', 'site', 'revealed', 'protested', 'sex', 'marriage', '2012', 'democratic', 'national', 'convention', 'charlotte', 'siblings', 'jason', 'david', 'benham', 'liberty', 'graduates', 'attended', 'graduation', 'private', 'lunch', 'jindal', 'called', 'action', 'another', 'demonstration', 'intolerance', 'entertainment', 'industry', 'guys', 'protested', 'republican', 'party', 'convention', 'instead', 'canceling', 'show', 'hgtv', 'would', 'probably', 'given', 'raise', 'jindal', 'said', 'liberty', 'crowd', 'applauded', 'cited', 'hobby', 'lobby', 'craft', 'store', 'chain', 'faced', 'legal', 'challenge', 'refusing', 'provide', 'employees', 'insurance', 'coverage', 'contraceptives', 'required', 'affordable', 'care', 'act', 'members', 'family', 'owns', 'hobby', 'lobby', 'become', 'heroes', 'many', 'religious', 'conservatives', 'said', 'morally', 'opposed', 'use', 'certain', 'types', 'birth', 'control', 'considered', 'requirement', 'violation', 'first', 'amendment', 'right', 'religious', 'freedom', 'family', 'committed', 'honor', 'lord', 'generous', 'employers', 'paying', 'well', 'minimum', 'wage', 'increasing', 'salaries', 'four', 'years', 'row', 'even', 'midst', 'enduring', 'recession', 'jindal', 'told', 'liberty', 'graduates', 'none', 'matters', 'obama', 'administration', 'pastors', 'came', 'see', 'jindal', 'action', 'governor', 'story', 'highlight', 'weekend', 'many', 'ways', 'unlike', 'aspiring', 'president', 'activists', 'met', 'piyush', 'jindal', 'born', '1971', 'four', 'months', 'parents', 'arrived', 'baton', 'rouge', 'la', 'native', 'india', 'changed', 'name', 'bobby', 'young', 'boy', 'adopting', 'name', 'character', 'favorite', 'television', 'show', 'brady', 'bunch', 'decision', 'become', 'christian', 'told', 'pastors', 'come', 'one', 'moment', 'lightning', 'epiphany', 'instead', 'said', 'happened', 'phases', 'growing', 'small', 'seeds', 'planted', 'time', 'jindal', 'recalled', 'closest', 'friend', 'grade', 'school', 'gave', 'bible', 'name', 'emblazoned', 'gold', 'cover', 'christmas', 'present', 'struck', 'initially', 'unimpressive', 'gift', 'jindal', 'told', 'pastors', 'world', 'would', 'spend', 'good', 'money', 'bible', 'everyone', 'knows', 'get', 'one', 'free', 'hotel', 'recalled', 'thinking', 'time', 'gold', 'lettering', 'meant', 'give', 'away', 'return', 'religious', 'education', 'reached', 'higher', 'plane', 'junior', 'year', 'high', 'school', 'told', 'dinner', 'audience', 'wanted', 'ask', 'pretty', 'girl', 'date', 'hallway', 'conversation', 'started', 'talking', 'faith', 'god', 'opposition', 'abortion', 'girl', 'invited', 'visit', 'church', 'jindal', 'said', 'skeptical', 'set', 'investigate', 'fanciful', 'claims', 'made', 'girl', 'friends', 'started', 'reading', 'bible', 'closet', 'home', 'unsure', 'parents', 'would', 'react', 'said', 'stirring', 'moment', 'saw', 'christ', 'depicted', 'cross', 'religious', 'movie', 'bible', 'existence', 'suddenly', 'seemed', 'clearer', 'jindal', 'told', 'pastors', 'jindal', 'dwell', 'subsequent', 'conversion', 'catholicism', 'years', 'later', 'college', 'said', 'immersed', 'traditions', 'church', 'touched', 'briefly', 'commencement', 'address', 'noting', 'passing', 'best', 'described', 'evangelical', 'catholic', 'mostly', 'sought', 'showcase', 'ways', 'shares', 'values', 'christian', 'conservatives', 'read', 'words', 'jesus', 'christ', 'realized', 'true', 'jindal', 'told', 'graduates', 'saturday', 'offering', 'less', 'detailed', 'accounting', 'conversion', 'done', 'night', 'pastors', 'used', 'think', 'found', 'god', 'believe', 'accurate', 'say', 'found']   \n9                                                                                                                                                                                                                                                                                                                                                                                                                                                                                                                                                                                                                                                                                                                                                                                                                                                                                                                                                                                                                                                                                                                                                                                                                                                                                                                                                                                                                                                                                                                                                                                                                                                                                                                                                                                                                                                                                                                                                                                                                                                                                                                                                                                                                                                                                                                                                                                                                                                                                                                                                                                                                                                                                                                                                                                                                                                                                                                                                                                                                                                                                                                                                                                                                                                                                                                                                                                                                                                                                                                                                                                                                                                                                                                                                                                                                                                                                                                                                                                                                                                                                                                                                                                                                                                                                                                                                                                                                                                                                                                                                                                                                                                                                                                                                                                                                                                                                                                                                                                                                                                                                                                                                                                                                                                                                                                                                                                                                                                                                                                                                                                                                                                                                                                                    ['brussels', 'reuters', 'british', 'prime', 'minister', 'theresa', 'may', 'offer', 'settled', 'status', 'eu', 'residents', 'flawed', 'leave', 'fewer', 'rights', 'brexit', 'european', 'parliament', 'brexit', 'coordinator', 'said', 'tuesday', 'family', 'five', 'could', 'face', 'bill', '360', 'pounds', 'acquire', 'new', 'status', 'guy', 'verhofstadt', 'told', 'may', 'brexit', 'secretary', 'david', 'davis', 'letter', 'seen', 'reuters', 'significant', 'amount', 'family', 'low', 'income', 'listing', 'three', 'concerns', 'eu', 'legislature', 'must', 'approve', 'treaty', 'march', '2019', 'exit', 'verhofstadt', 'told', 'davis', 'proposals', 'eu', 'citizens', 'definitely', 'notice', 'deterioration', 'status', 'result', 'brexit', 'parliament', 'aim', 'along', 'eu', 'citizens', 'uk', 'citizens', 'eu', '27', 'notice', 'difference', 'verhofstadt', 'former', 'belgian', 'prime', 'minister', 'wrote', 'response', 'davis', 'written', 'parliament', 'complained', 'last', 'week', 'remained', 'major', 'issues', 'settled', 'rights', '3', 'million', 'eu', 'citizens', 'britain', 'tuesday', 'told', 'reporters', 'parliament', 'determined', 'expatriates', 'become', 'victims', 'brexit', 'may', 'unveiled', 'details', 'last', 'week', 'system', 'aimed', 'giving', 'people', 'already', 'britain', 'quick', 'cheap', 'way', 'asserting', 'rights', 'stay', 'indefinitely', 'issue', 'along', 'much', 'britain', 'owes', 'new', 'eu', 'uk', 'border', 'across', 'ireland', 'one', 'eu', 'wants', 'outline', 'agreement', 'opening', 'talks', 'future', 'trade', 'verhofstadt', 'said', 'lawmakers', 'dismissing', 'british', 'efforts', 'streamline', 'applications', 'saw', 'flaws', 'nature', 'settled', 'status', 'well', 'cost', 'similar', 'acquiring', 'british', 'passport', 'cited', 'three', 'others', 'europeans', 'simply', 'declare', 'whole', 'household', 'resident', 'without', 'needing', 'application', 'process', 'burden', 'proof', 'british', 'authorities', 'deny', 'rights', 'stringent', 'conditions', 'criminal', 'records', 'could', 'mean', 'eu', 'residents', 'including', 'permanent', 'resident', 'status', 'deported', 'failing', 'gain', 'settled', 'status', 'eu', 'residents', 'would', 'lose', 'rights', 'bring', 'relatives', 'britain', 'new', 'status', 'would', 'give', 'rights', 'british', 'people', 'fewer', 'rights', 'eu', 'citizens']   \n10                                                                                                                                                                                                                                                                                                                                                                                                                                                                                                                                                                                                                                                                                                                                                                                                                                                                                                                                                                                                                                                                                                                                                                                                                                                                                                                                                                                                                                                                                                                                                                                                                                                                                                                                                                                                                                                                                                                                                                                                                                                                                                                                                                                                                                                                                                                                                                                                                                                                                                                                                                                                                                                                                                                                                                                                                                                                                                                                                                                                                                                                                                                                                                                                                                                                                                                                                                                                                                                                                                                                                                                                                                                                                                                                                                                                                                                                                                                                                                                                                                                                                                                                                                                                                                                                                                                                                                                                                                                                                                                                                                                                                                                                                                                                                                                                                                                                                                                                                                                                                                                                                                                                                                                                                                                                                                           ['washington', 'reuters', 'charles', 'schumer', 'top', 'democrat', 'u', 'senate', 'called', 'president', 'donald', 'trump', 'sunday', 'name', 'single', 'official', 'oversee', 'coordinate', 'relief', 'efforts', 'hurricane', 'ravaged', 'puerto', 'rico', 'schumer', 'along', 'representatives', 'nydia', 'velàzquez', 'jose', 'serrano', 'said', 'ceo', 'response', 'recovery', 'needed', 'manage', 'complex', 'ongoing', 'federal', 'response', 'territory', 'millions', 'americans', 'remain', 'without', 'power', 'supplies', 'statement', 'schumer', 'said', 'current', 'federal', 'response', 'hurricane', 'maria', 'impact', 'island', 'disorganized', 'slow', 'footed', 'mismanaged', 'person', 'ability', 'bring', 'federal', 'agencies', 'together', 'cut', 'red', 'tape', 'public', 'private', 'side', 'help', 'turn', 'lights', 'back', 'get', 'clean', 'water', 'flowing', 'help', 'bring', 'recovery', 'millions', 'americans', 'gone', 'long', 'worst', 'conditions', 'said', 'white', 'house', 'immediately', 'respond', 'request', 'comment', 'democrats', 'contended', 'naming', 'lone', 'individual', 'manage', 'government', 'relief', 'efforts', 'critical', 'particularly', 'given', 'federal', 'emergency', 'management', 'agency', 'already', 'stretched', 'thin', 'dealing', 'crises', 'aftermath', 'hurricane', 'harvey', 'texas', 'wildfires', 'california', 'severity', 'puerto', 'rico', 'crisis', 'million', 'people', 'clean', 'water', 'millions', 'without', 'power', 'nearly', 'month', 'hurricane', 'maria', 'made', 'landfall', 'demand', 'single', 'person', 'focus', 'exclusively', 'relief', 'recovery', 'democrats', 'said', 'forty', 'nine', 'people', 'died', 'puerto', 'rico', 'officially', 'dozens', 'missing', 'hurricane', 'extensive', 'damage', 'island', 'power', 'grid', 'destroying', 'homes', 'roads', 'vital', 'infrastructure', 'bankrupt', 'territory', 'struggling', 'provide', 'basic', 'services', 'like', 'running', 'water', 'pay', 'bills', 'tragically', 'clear', 'administration', 'caught', 'flat', 'footed', 'maria', 'hit', 'puerto', 'rico', 'said', 'velàzquez', 'appointing', 'ceo', 'response', 'recovery', 'last', 'put', 'one', 'person', 'authority', 'charge', 'manage', 'response', 'ensure', 'finally', 'getting', 'people', 'puerto', 'rico', 'aid', 'need', 'thursday', 'trump', 'said', 'federal', 'response', '10', 'scale', 'one', '10', 'meeting', 'puerto', 'rico', 'governor', 'ricardo', 'rossello', 'governor', 'asked', 'white', 'house', 'congress', 'least', '4', '6', 'billion', 'block', 'grants', 'types', 'funding', 'senator', 'marco', 'rubio', 'called', 'congress', 'modify', '18', '7', 'billion', 'aid', 'package', 'areas', 'damaged', 'recent', 'swath', 'hurricanes', 'ensure', 'puerto', 'rico', 'quickly', 'access', 'funds']   \n12                                                                                                                                                                                                                                                                                                                                                                                                                                                                                                                                                                                                                                                                                                                                                                                                                                                                                                                                                                                                                                                                                                                                                                                                                                                                                                                                                                                                                                                                                                                                                                                                                                                                                                                                                                                                                                                                                                                                                                                                                                                                                                                                                                                                                                                                                                                                                                                                                                                                                                                                                                                                                                                                                                                                                                                                                                                                                                                                                                                                                                                                                                                                                                                                                                                                                                                                                                                                                                                                                                                                                                                                                                                                                                                                                                                                                                                                                                                                                                                                                                                                                                                                                                                                                                                                                                                                                                                                                                                                                                                                                                                                                                                                                                                                                                                                                                                                                                                                                    ['sports', 'fans', 'turn', 'espn', 'protest', 'network', 'social', 'political', 'agenda', 'parent', 'company', 'disney', 'decision', 'extend', 'current', 'ceo', 'bob', 'iger', 'contract', '2019', 'means', 'world', 'leader', 'sports', 'entertainment', 'continue', 'merry', 'way', 'alienating', 'large', 'segment', 'americans', 'breitbart', 'reported', 'november', 'espn', 'lost', '3', '2', 'million', 'subscribers', 'year', 'moreover', 'last', 'years', 'sports', 'network', 'lost', '300', '000', 'subscribers', 'month', 'october', 'alone', 'beleaguered', 'network', 'lost', '621', '000', 'subscribers', 'decision', 'keep', 'iger', 'instead', 'moving', 'another', 'direction', 'promoting', 'coo', 'thomas', 'staggs', 'spot', 'number', 'substantial', 'business', 'implications', 'espn', 'awful', 'announcing', 'reports', 'outside', 'least', 'seems', 'like', 'iger', 'quite', 'satisfied', 'espn', 'leadership', 'network', 'path', 'fronts', 'specifically', 'regularly', 'spoken', 'important', 'espn', 'skinny', 'bundles', 'including', 'streaming', 'options', 'sling', 'directv', 'espn', 'forthcoming', 'offering', 'views', 'necessarily', 'shared', 'different', 'ceo', 'staggs', 'example', 'spoke', 'much', 'importance', 'traditional', 'bundle', 'disney', 'ceo', 'views', 'might', 'focus', 'side', 'conversely', 'another', 'disney', 'ceo', 'might', 'want', 'espn', 'quickly', 'go', 'larger', 'way', 'standalone', 'access', 'espn', 'content', 'including', 'tv', 'channels', 'rather', 'starting', 'light', 'approach', 'iger', 'seems', 'promoting', 'putting', 'circumstances', 'aside', 'crux', 'espn', 'continuing', 'political', 'social', 'agenda', 'derives', 'fact', 'iger', 'strident', 'lifelong', 'democrat', 'one', 'committed', 'fact', 'disney', 'stalwart', 'hillary', 'clinton', 'fundraiser', 'last', 'summer', 'along', 'supporters', 'entertainment', 'mogul', 'haim', 'saban', 'chernin', 'group', 'chairman', 'ceo', 'peter', 'chernin', 'entertainment', 'sports', 'executive', 'casey', 'wasserman', 'get', 'idea', 'iger', 'taste', 'social', 'issues', 'one', 'proposed', 'entertainment', 'ideas', 'filmic', 'version', 'girls', 'popular', 'television', 'show', 'starring', 'lena', 'dunham', 'somewhat', 'surprisingly', 'chagrin', 'many', 'supporters', 'shareholders', 'iger', 'serving', 'president', 'donald', 'trump', 'strategic', 'policy', 'forum', 'council', 'ceos', 'iger', 'agrees', 'trump', 'shutting', 'certain', 'tax', 'loopholes', 'strongly', 'supports', 'lowering', 'corporate', 'tax', 'rates', 'surprise', 'earlier', 'month', 'iger', 'reportedly', 'defended', 'participation', 'trump', 'mastermind', 'group', 'asserting', 'think', 'opportunity', 'express', 'views', 'think', 'value', 'company', 'shareholders', 'insisting', 'iger', 'informs', 'adversarial', 'view', 'administration', 'includes', 'immigration', 'yet', 'ceo', 'argues', 'claims', 'asserting', 'espn', 'politically', 'slanted', 'complete', 'exaggeration', 'said', 'looks', 'like', 'espn', 'cable', 'subscription', 'downward', 'spiral', 'persist', 'long', 'iger', 'remains', 'disney', 'top', 'executive']   \n13                                                                                                                                                                                                                                                                                                                                                                                                                                                                                                                                                                                                                                                                                                                                                                                                                                                                                                                                                                                                                                                                                                                                                                                                                                                                                                                                                                                                                                                                                                                                                                                                                                                                                                                                                                                                                                                                                                                                                                                                                                                                                                                                                                                                                                                                                                                                                                                                                                                                                                                                                                                                                                                                                                                                                                                                                                                                                                                                                                                                                                                                                                                                                                                                                                                                                                                                                                                                                                                                                                                                                                                                                                                                                                                                                                                                                                                                                                                                                                                                                                                                                                                                                                                                                                                                                                                                                                                                                                                                                                                                                                                                                                                                                                                                                                                                                                                                                                                                                                                                                                                                                                                                                                                                                                                                                                                                                                                                                                                                                                                                                                                                                                                                                                                                                                                                                                                                                                                                                                                                                                                                                                                                                                                                                                                                                                                   ['rio', 'de', 'janeiro', 'sao', 'paulo', 'reuters', 'billionaire', 'marcelo', 'odebrecht', 'highest', 'profile', 'executive', 'imprisoned', 'brazil', 'massive', 'graft', 'scandal', 'released', 'jail', 'tuesday', 'continue', 'sentence', 'corruption', 'house', 'arrest', 'according', 'federal', 'court', 'former', 'chief', 'executive', 'officer', 'odebrecht', 'sa', 'odbes', 'ul', 'latin', 'america', 'largest', 'construction', 'firm', 'arrested', '2015', 'investigation', 'dubbed', 'car', 'wash', 'exposed', 'billions', 'dollars', 'kickbacks', 'politicians', 'executives', 'state', 'run', 'companies', 'exchange', 'inflated', 'contracts', 'odebrecht', 'set', 'travel', 'sao', 'paulo', 'begin', 'house', 'arrest', 'electronic', 'surveillance', 'tuesday', 'according', 'federal', 'court', 'parana', 'representative', 'former', 'executive', 'said', 'remained', 'committed', 'collaborating', 'authorities', 'leniency', 'deal', 'odebrecht', 'first', 'sentenced', '19', 'years', 'prison', 'one', 'many', 'cases', 'related', 'car', 'wash', 'reduced', '10', 'years', 'signed', 'leniency', 'deal', 'last', 'december', 'exchange', 'paying', 'nearly', '2', 'billion', 'fine', 'admitting', 'guilt', 'providing', 'evidence', 'authorities', 'already', 'served', 'two', 'half', 'years', 'prison', 'deal', 'must', 'serve', 'another', 'two', 'half', 'years', 'house', 'arrest', 'permitted', 'leave', 'home', 'work', 'another', 'two', 'half', 'years', 'required', 'community', 'service', 'rest', '10', 'year', 'sentence', 'separately', 'tuesday', 'brazil', 'antitrust', 'watchdog', 'cade', 'said', 'investigating', 'two', 'alleged', 'cartels', 'involved', 'bidding', 'sao', 'paulo', 'infrastructure', 'projects', 'receiving', 'information', 'provided', 'odebrecht', 'executives']   \n15                                                                                                                                                                                                                                                                                                                                                                                                                                                                                                                                                                                                                                                                                                                                                                                                                                                                                                                                                                                                                                                                                                                                                                                                                                                                                                                                                                                                                                                                                                                                                                                                                                                                                                                                                                                                                                                                                                                                                                                                                                                                                                                                                                                                                                                                                                                                                                                                                                                                                                                                                                                                                                                                                                                                                                                                                                                                                                                                                                                                                                                                                                                                                                                                                                                                                                                                                                                                                                                                                                                                                                                                                                                                                                                                                                                                                                                                                                                                                                                                                                                                                                                                                                                                                                                                                                                                                                                                                                                                                                                                                                                                                                                                                                                                                                                                                                                                                                                                                                                                                                                                                                                                                                                                                                                                                                                                                                                                                                                                                                                                                                                                                                                                                                                                                                                                                                                                                                                                                                                                                                                                                                                                                                                                                                                                                                                                                                                                                                                                                                                                                                                                                                                                                                                                                                                                                                                                                                                                                                                                                                                                                                                                               ['geneva', 'reuters', 'united', 'nations', 'called', 'monday', 'humanitarian', 'pause', 'yemeni', 'capital', 'sanaa', 'tuesday', 'allow', 'civilians', 'leave', 'homes', 'aid', 'workers', 'reach', 'wounded', 'get', 'medical', 'care', 'jamie', 'mcgoldrick', 'u', 'n', 'humanitarian', 'coordinator', 'yemen', 'said', 'statement', 'streets', 'sanaa', 'become', 'battlegrounds', 'aid', 'workers', 'remain', 'lockdown', 'thus', 'call', 'parties', 'conflict', 'urgently', 'enable', 'humanitarian', 'pause', 'tuesday', '5', 'december', '10', '00', '16', '00', 'p', 'allow', 'civilians', 'leave', 'homes', 'seek', 'assistance', 'protection', 'facilitate', 'movement', 'aid', 'workers', 'ensure', 'continuity', 'life', 'saving', 'programs', 'said', 'mcgoldrick', 'warned', 'warring', 'parties', 'deliberate', 'attacks', 'civilians', 'civilian', 'medical', 'infrastructure', 'clear', 'violations', 'international', 'humanitarian', 'law', 'may', 'constitute', 'war', 'crimes']   \n17                                                                                                                                                                                                                                                                                                                                                                                                                                                                                                                                                                                                                                                                                                                                                                                                                                                                                                                                                                                                                                                                                                                                                                                                                                                                                                                                                                                                                                                                                                                                                                                                                                                                                                                                                                                                                                                                                                                                                                                                                                                                                                                                                                                                                                                                                                                                                                                                                                                                                                                                                                                                                                                                                                                                                                                                                                                                                                                                                                                                                                                                                                                                                                                                                                                                                                                                                                                                                                                                                                                                                                                                                                                                                                                                                                                                                                                                                                                                                                                                                                                                                                                                                                                                                                                                                                                                                                                                                                                                                                                                                                                                                                                                                                                                                                                                                                                                                                                                                                                                                                                                                                                                                                                                                                                                                                                                                                ['new', 'york', 'reuters', 'second', 'federal', 'judge', 'taken', 'rare', 'step', 'allowing', 'group', 'suing', 'records', 'hillary', 'clinton', 'time', 'u', 'secretary', 'state', 'seek', 'sworn', 'testimony', 'officials', 'saying', 'evidence', 'government', 'wrong', 'bad', 'faith', 'language', 'judge', 'royce', 'lamberth', 'order', 'undercut', 'democratic', 'presidential', 'contender', 'assertion', 'allowed', 'set', 'private', 'email', 'server', 'home', 'work', 'country', 'top', 'diplomat', 'arrangement', 'particularly', 'unusual', 'described', 'clinton', 'email', 'arrangement', 'extraordinary', 'order', 'filed', 'tuesday', 'federal', 'district', 'court', 'washington', 'referring', 'state', 'department', 'clinton', 'clinton', 'aides', 'said', 'constantly', 'shifting', 'admissions', 'government', 'former', 'government', 'officials', 'spokesmen', 'clinton', 'immediately', 'respond', 'request', 'comment', 'case', 'civil', 'matter', 'order', 'adds', 'legal', 'uncertainty', 'overshadowed', 'clinton', 'campaign', 'democratic', 'nominee', 'nov', '8', 'presidential', 'election', 'fbi', 'also', 'conducting', 'criminal', 'inquiry', 'arrangement', 'emerged', 'classified', 'government', 'secrets', 'ended', 'clinton', 'unsecured', 'email', 'account', 'clinton', 'said', 'think', 'charged', 'crime', 'lamberth', 'order', 'granted', 'request', 'judicial', 'watch', 'conservative', 'watchdog', 'group', 'suing', 'department', 'open', 'records', 'laws', 'gather', 'evidence', 'including', 'sworn', 'testimony', 'group', 'filed', 'several', 'lawsuits', 'including', 'one', 'seeking', 'records', '2012', 'attack', 'benghazi', 'libya', 'killed', 'u', 'ambassador', 'christopher', 'stevens', 'three', 'americans', 'evidence', 'government', 'wrong', 'bad', 'faith', 'limited', 'discovery', 'appropriate', 'even', 'though', 'exceedingly', 'rare', 'foia', 'freedom', 'information', 'cases', 'lamberth', 'noted', 'order', 'government', 'normally', 'given', 'benefit', 'doubt', 'properly', 'searched', 'produced', 'records', 'since', 'email', 'arrangement', 'came', 'public', 'knowledge', 'year', 'ago', 'state', 'department', 'found', 'defending', 'clinton', 'scores', 'lawsuits', 'groups', 'individuals', 'news', 'outlets', 'say', 'wrongly', 'denied', 'access', 'clinton', 'federal', 'records', 'clinton', 'left', 'department', '2013', 'return', 'email', 'records', 'government', 'nearly', 'two', 'years', 'later', 'last', 'month', 'judge', 'emmet', 'sullivan', 'overseeing', 'separate', 'judicial', 'watch', 'lawsuit', 'clinton', 'related', 'records', 'allowed', 'similar', 'motion', 'discovery', 'story', 'refiles', 'fix', 'date', 'presidential', 'election', 'paragraph', '6']   \n24                                                                                                                                                                                                                                                                                                                                                                                                                                                                                                                                                                                                                                                                                                                                                                                                                                                                                                                                                                                                                                                                                                                                                                                                                                                                                                                                                                                                                                                                                                                                                                                                                                                                                                                                                                                                                                                                                                                                                                                                                                                                                                                                                                                                                                                                                                                                                                                                                                                                                                                                                                                                                                                                                                                                                                                                                                                                                                                                                                                                                                                                                                                                                                                                                                                                                                                                                                                                                                                                                                                                                                                                                                                                                                                                                                                                                                                                                                                                                                                                                                                                                                                                                                                                                                                                                                                                                                                                                                                                                                                                                                                                  ['washington', '—', 'supreme', 'court', 'rejected', 'monday', 'appeal', 'texas', 'officials', 'seeking', 'restore', 'state', 'strict', 'voter', 'id', 'law', 'court', 'custom', 'brief', 'order', 'case', 'abbott', 'v', 'veasey', 'gave', 'reasons', 'turning', 'appeal', 'chief', 'justice', 'john', 'g', 'roberts', 'jr', 'issued', 'unusual', 'statement', 'explaining', 'supreme', 'court', 'remains', 'free', 'consider', 'case', 'proceedings', 'lower', 'courts', 'texas', 'law', 'enacted', '2011', 'requires', 'voters', 'seeking', 'cast', 'ballots', 'polls', 'present', 'photo', 'identification', 'like', 'texas', 'driver', 'gun', 'license', 'military', 'id', 'passport', 'federal', 'courts', 'repeatedly', 'ruled', 'law', 'racially', 'discriminatory', 'texas', 'law', 'first', 'blocked', 'section', '5', 'federal', 'voting', 'rights', 'act', 'required', 'states', 'localities', 'history', 'discrimination', 'obtain', 'federal', 'permission', 'changing', 'voting', 'procedures', 'supreme', 'court', 'effectively', 'struck', 'section', '5', '2013', 'shelby', 'county', 'v', 'holder', 'alabama', 'case', 'texas', 'officials', 'announced', 'would', 'start', 'enforcing', 'id', 'law', 'trial', '2014', 'judge', 'nelva', 'gonzales', 'ramos', 'federal', 'district', 'court', 'corpus', 'christi', 'struck', 'law', 'oct', '9', 'opinion', 'said', 'adopted', 'unconstitutional', 'discriminatory', 'purpose', 'effect', 'disenfranchise', 'disproportionate', 'number', 'hispanics', '2015', 'panel', 'united', 'states', 'court', 'appeals', 'fifth', 'circuit', 'new', 'orleans', 'vacated', 'part', 'ruling', 'concerning', 'law', 'purpose', 'affirmed', 'part', 'concerning', 'effect', 'last', 'july', 'full', 'fifth', 'circuit', 'largely', 'adopted', 'panel', 'distinctions', 'reasoning', 'returned', 'case', 'trial', 'court', 'consider', 'appropriate', 'remedy', 'texas', 'officials', 'nonetheless', 'asked', 'supreme', 'court', 'review', 'appeals', 'court', 'ruling', 'immediately', 'people', 'groups', 'challenging', 'law', 'officials', 'said', 'presented', 'evidence', 'law', 'resulted', 'diminished', 'minority', 'political', 'participation', 'prevented', 'even', 'single', 'person', 'voting', 'challengers', 'responded', '600', '000', 'registered', 'voters', 'texas', '5', 'percent', 'registered', 'voters', 'state', 'lacked', 'required', 'forms', 'id', 'law', 'said', 'disproportionately', 'affects', 'minority', 'voters', 'statistically', 'significant', 'rate', 'monday', 'chief', 'justice', 'roberts', 'wrote', 'case', 'would', 'better', 'suited', 'supreme', 'court', 'review', 'lower', 'courts', 'completed', 'work', 'ken', 'paxton', 'texas', 'attorney', 'general', 'said', 'disappointed', 'court', 'immediately', 'take', 'case', 'chief', 'justice', 'roberts', 'made', 'clear', 'case', 'even', 'stronger', 'posture', 'supreme', 'court', 'review', 'proceedings', 'lower', 'courts', 'mr', 'paxton', 'said', 'statement', 'texas', 'enacted', 'common', 'sense', 'voter', 'id', 'law', 'safeguard', 'integrity', 'elections', 'continue', 'fight', 'law', 'j', 'gerald', 'hebert', 'campaign', 'legal', 'center', 'represents', 'voters', 'challenging', 'law', 'said', 'pleased', 'justices', 'recognize', 'case', 'merit', 'review', 'time', 'texas', 'ranks', 'poorly', 'voter', 'participation', 'work', 'ensure', 'every', 'eligible', 'voter', 'state', 'able', 'cast', 'ballot', 'going', 'forward', 'mr', 'hebert', 'said', 'statement']   \n25                                                                                                                                                                                                                                                                                                                                                                                                                                                                                                                                                                                                                                                                                                                                                                                                                                                                                                                                                                                                                                                                                                                                                                                                                                                                                                                                                                                                                                                                                                                                                                                                                                                                                                                                                                                                                                                                                                                                                                                                                                                                                                                                                                                                                                                                                                                                                                                                                                                                                                                                                            ['baghdad', 'reuters', 'iraqi', 'forces', 'announced', 'thursday', 'captured', 'islamic', 'state', 'last', 'stronghold', 'northern', 'iraq', 'leaving', 'militant', 'group', 'holed', 'near', 'syrian', 'border', 'self', 'proclaimed', 'caliphate', 'shrinks', 'town', 'hawija', 'surrounding', 'areas', 'fell', 'offensive', 'u', 'backed', 'iraqi', 'government', 'troops', 'iranian', 'trained', 'armed', 'shi', 'ite', 'paramilitary', 'groups', 'known', 'popular', 'mobilisation', 'fighting', 'took', 'place', 'north', 'east', 'town', 'militants', 'surrounded', 'fall', 'hawija', 'lies', 'near', 'kurdish', 'held', 'oil', 'city', 'kirkuk', 'area', 'remains', 'control', 'islamic', 'state', 'iraq', 'stretch', 'alongside', 'western', 'border', 'syria', 'militant', 'group', 'also', 'retreat', 'capture', 'hawija', 'boost', 'iraqi', 'government', 'faces', 'separate', 'crisis', 'north', 'country', 'kurdish', 'minority', 'last', 'month', 'voted', 'overwhelmingly', 'support', 'independence', 'autonomous', 'region', 'hawija', 'state', 'tv', 'showed', 'footage', 'iraqi', 'forces', 'raising', 'flags', 'one', 'town', 'squares', 'humvees', 'patrolled', 'empty', 'streets', 'littered', 'car', 'wrecks', 'houses', 'riddled', 'bullets', 'shattered', 'storefronts', 'graphics', 'iraqi', 'kurds', 'independence', 'push', 'army', '9th', 'armored', 'division', 'federal', 'police', 'emergency', 'response', 'division', 'popular', 'mobilisation', 'liberated', 'hawija', 'said', 'statement', 'joint', 'operations', 'commander', 'lieutenant', 'general', 'abdul', 'ameer', 'rasheed', 'yarallah', 'thick', 'black', 'smoke', 'rose', 'areas', 'surrounding', 'hawija', 'oil', 'wells', 'set', 'fire', 'militants', 'prevent', 'air', 'detection', 'capture', 'hawija', 'brings', 'iraqi', 'forces', 'direct', 'contact', 'kurdish', 'peshmerga', 'fighters', 'control', 'kirkuk', 'multi', 'ethnic', 'region', 'claimed', 'baghdad', 'kurdistan', 'regional', 'government', 'krg', 'kirkuk', 'shaped', 'flashpoint', 'last', 'month', 'krg', 'included', 'city', 'referendum', 'kurdish', 'independence', 'northern', 'iraq', 'want', 'aggression', 'confrontations', 'federal', 'authority', 'must', 'imposed', 'disputed', 'areas', 'iraqi', 'prime', 'minister', 'haider', 'al', 'abadi', 'told', 'news', 'conference', 'paris', 'french', 'president', 'emmanuel', 'macron', 'macron', 'offered', 'mediate', 'iraqi', 'government', 'kurdish', 'regional', 'authorities', 'promised', 'maintain', 'military', 'presence', 'islamic', 'state', 'defeated', 'iraqi', 'government', 'imposed', 'sanctions', 'response', 'independence', 'vote', 'abadi', 'said', 'could', 'understand', 'kurds', 'aspirations', 'provided', 'expressed', 'accordance', 'constitution', 'outcome', 'referendum', 'raised', 'concerns', 'iraq', 'abroad', 'conflict', 'might', 'break', 'along', 'ethnic', 'lines', 'potentially', 'weakening', 'campaign', 'islamic', 'state', 'turkey', 'battling', 'three', 'decade', 'old', 'insurgency', 'kurdish', 'militants', 'led', 'regional', 'opposition', 'iraqi', 'kurds', 'independence', 'hopes', 'stepping', 'rhetoric', 'issue', 'president', 'tayyip', 'erdogan', 'said', 'turkey', 'would', 'soon', 'close', 'border', 'northern', 'iraq', 'shut', 'air', 'space', 'response', 'referendum', 'added', 'turkey', 'iran', 'iraq', 'would', 'jointly', 'decide', 'closing', 'flow', 'oil', 'northern', 'iraq', 'vital', 'source', 'earnings', 'iraqi', 'kurdistan', 'wednesday', 'russian', 'president', 'vladimir', 'putin', 'whose', 'country', 'big', 'energy', 'interests', 'kurdistan', 'said', 'one', 'interest', 'cut', 'oil', 'supplies', 'territory', 'erdogan', 'said', 'decision', 'made', 'closing', 'oil', 'taps', 'region', 'made', 'us', 'turkey', 'iran', 'iraq', 'central', 'government', 'together', 'erdogan', 'stance', 'backed', 'iran', 'meeting', 'erdogan', 'tehran', 'wednesday', 'supreme', 'leader', 'ayatollah', 'ali', 'khamenei', 'said', 'iran', 'turkey', 'prevent', 'iraqi', 'kurds', 'declaring', 'independence', 'relations', 'cool', 'shi', 'ite', 'iran', 'mainly', 'sunni', 'turkey', 'alarmed', 'independence', 'vote', 'fearing', 'encourage', 'separatism', 'among', 'kurdish', 'populations', 'kurds', 'region', 'fourth', 'largest', 'ethnic', 'group', 'spread', 'across', 'iran', 'turkey', 'syria', 'iraq', 'oppose', 'moves', 'towards', 'kurdish', 'state', 'iraq', 'launched', 'offensive', 'sept', '21', 'dislodge', 'islamic', 'state', 'hawija', 'area', '78', '000', 'people', 'estimated', 'trapped', 'according', 'united', 'nations', 'militants', 'control', 'border', 'town', 'al', 'qaim', 'region', 'surrounding', 'also', 'hold', 'parts', 'syrian', 'side', 'border', 'area', 'control', 'shrinking', 'retreat', 'face', 'two', 'different', 'sets', 'hostile', 'forces', 'u', 'backed', 'kurdish', 'led', 'coalition', 'syrian', 'government', 'troops', 'foreign', 'shi', 'ite', 'militias', 'backed', 'iran', 'russia', 'islamic', 'state', 'cross', 'border', 'caliphate', 'effectively', 'collapsed', 'july', 'u', 'backed', 'iraqi', 'forces', 'captured', 'mosul', 'group', 'de', 'facto', 'capital', 'iraq', 'grueling', 'battle', 'lasted', 'nine', 'months', 'militants', 'leader', 'abu', 'bakr', 'al', 'baghdadi', 'declared', 'caliphate', 'mosul', 'mid', '2014', 'released', 'audio', 'recording', 'last', 'week', 'indicated', 'alive', 'several', 'reports', 'killed', 'urged', 'followers', 'keep', 'fight', 'despite', 'setbacks']   \n26                                                                                                                                                                                                                                                                                                                                                                                                                                                                                                                                                                                                                                                                                                                                                                                                                                                                                                                                                                                                                                                                                                                                                                                                                                                                                                                                                                                                                                                                                                                                                                                                                                                                                                                                                                                                                                                                                                                                                                                                                                                                                                                                                                                                                                                                                                                                                                                                                                                    ['washington', '—', 'several', 'republican', 'senators', 'monday', 'proposed', 'partial', 'replacement', 'affordable', 'care', 'act', 'would', 'allow', 'states', 'continue', 'operating', 'law', 'choose', 'proposal', 'meant', 'appeal', 'critics', 'supporters', 'former', 'president', 'barack', 'obama', 'signature', 'health', 'law', 'plan', 'attacked', 'democrats', 'step', 'back', 'affordable', 'care', 'act', 'protections', 'unlikely', 'win', 'acceptance', 'conservative', 'republicans', 'want', 'get', 'rid', 'law', 'tax', 'increases', 'soon', 'possible', 'anything', 'proposal', '—', 'senators', 'bill', 'cassidy', 'louisiana', 'medical', 'doctor', 'susan', 'collins', 'maine', 'moderate', 'republican', '—', 'may', 'show', 'difficult', 'republicans', 'enact', 'replacement', 'affordable', 'care', 'act', 'legislation', 'pass', 'muster', 'conservative', 'house', 'may', 'win', 'enough', 'support', 'senate', 'bill', 'broad', 'appeal', 'senate', 'may', 'fail', 'house', 'proposal', 'states', 'could', 'stay', 'affordable', 'care', 'act', 'could', 'receive', 'similar', 'amount', 'federal', 'money', 'consumers', 'could', 'use', 'pay', 'medical', 'care', 'health', 'insurance', 'moving', 'locus', 'repeal', 'state', 'government', 'mr', 'cassidy', 'said', 'states', 'right', 'choose', 'proposal', 'shares', 'features', 'house', 'republican', 'proposals', 'would', 'encourage', 'greater', 'use', 'health', 'savings', 'accounts', 'eliminate', 'requirement', 'americans', 'insurance', 'pay', 'tax', 'penalty', 'option', 'states', 'keep', 'affordable', 'care', 'act', 'alive', 'rankle', 'conservative', 'republicans', 'trying', 'nearly', 'seven', 'years', 'blow', 'obamacare', 'flawed', 'failing', 'fixable', 'needs', 'fully', 'repealed', 'said', 'representative', 'mark', 'meadows', 'north', 'carolina', 'chairman', 'house', 'freedom', 'caucus', 'stalemate', 'house', 'senate', 'would', 'leave', 'place', 'mr', 'obama', 'health', 'law', 'efforts', 'president', 'trump', 'congress', 'undermine', 'could', 'send', 'health', 'insurance', 'markets', 'tailspin', 'friday', 'one', 'first', 'official', 'acts', 'president', 'mr', 'trump', 'signed', 'executive', 'order', 'could', 'allow', 'officials', 'ease', 'enforcement', 'mandate', 'requiring', 'americans', 'insurance', 'supporters', 'affordable', 'care', 'act', 'panned', 'proposal', 'millions', 'americans', 'would', 'kicked', 'plans', 'costs', 'deductibles', 'consumers', 'would', 'skyrocket', 'protections', 'people', 'conditions', 'cancer', 'would', 'gutted', 'said', 'senate', 'democratic', 'leader', 'chuck', 'schumer', 'new', 'york', 'ronald', 'f', 'pollack', 'executive', 'director', 'families', 'usa', 'consumer', 'group', 'said', 'bill', 'falls', 'way', 'short', 'providing', 'protections', 'coverage', 'people', 'affordable', 'care', 'act', 'ms', 'collins', 'said', 'bill', 'would', 'allow', 'states', 'keep', 'affordable', 'care', 'act', 'working', 'residents', 'predicted', 'states', 'would', 'choose', 'something', 'different', 'bill', 'states', 'could', 'enroll', 'people', 'would', 'otherwise', 'uninsured', 'health', 'plans', 'providing', 'basic', 'coverage', 'health', 'plans', 'intended', 'protect', 'consumers', 'catastrophic', 'medical', 'expenses', 'would', 'cover', 'generic', 'versions', 'prescription', 'drugs', 'would', 'also', 'cover', 'recommended', 'childhood', 'immunizations', 'without', 'states', 'would', 'contract', 'one', 'insurers', 'offer', 'coverage', 'consumers', 'could', 'buy', 'robust', 'coverage', 'want', 'mr', 'cassidy', 'said', 'could', 'automatically', 'enrolled', 'default', 'health', 'plans', 'providing', 'basic', 'coverage', 'state', 'could', 'say', 'eligible', 'enrolled', 'unless', 'choose', 'explained', 'passive', 'enrollment', 'would', 'provide', 'insurers', 'large', 'pool', 'customers', 'including', 'many', 'healthy', 'people', 'without', 'coercion', 'individual', 'mandate', 'mr', 'cassidy', 'said', 'think', 'could', 'cover', 'people', 'obamacare', 'mr', 'cassidy', 'said', 'although', 'acknowledged', 'effects', 'bill', 'analyzed', 'congressional', 'budget', 'office', 'serves', 'capitol', 'hill', 'official', 'scorekeeper', 'state', 'opts', 'affordable', 'care', 'act', 'many', 'federal', 'insurance', 'standards', 'established', 'law', 'would', 'longer', 'apply', 'bill', 'would', 'repeal', 'federal', 'benefit', 'mandates', 'often', 'force', 'americans', 'pay', 'coverage', 'need', 'afford', 'mr', 'cassidy', 'said', 'protections', 'would', 'remain', 'place', 'parents', 'would', 'still', 'allowed', 'keep', 'children', 'insurance', 'age', '26', 'insurers', 'could', 'impose', 'annual', 'lifetime', 'limits', 'benefits', 'bill', 'called', 'patient', 'freedom', 'act', 'would', 'eliminate', 'unpopular', 'individual', 'mandate', 'also', 'federal', 'requirement', 'larger', 'employers', 'offer', 'coverage', 'employees', 'mr', 'cassidy', 'said', 'senators', 'shelley', 'moore', 'capito', 'west', 'virginia', 'johnny', 'isakson', 'georgia', 'republicans', 'also', 'sponsors', 'bill', 'senate', 'majority', 'leader', 'mitch', 'mcconnell', 'republican', 'kentucky', '2', 'senate', 'republican', 'john', 'cornyn', 'texas', 'sponsors', 'similar', 'bill', 'mr', 'cassidy', 'introduced', '2015', 'legislative', 'landscape', 'different', 'republicans', 'congress', 'repeal', 'affordable', 'care', 'act', 'support', 'mr', 'trump', 'senate', 'need', 'help', 'democrats', 'adopt', 'replacement', 'republicans', 'eight', 'votes', 'shy', '60', 'needed', 'stop', 'filibuster']   \n\n    label  \n2       0  \n9       0  \n10      0  \n12      0  \n13      0  \n15      0  \n17      0  \n24      0  \n25      0  \n26      0  ",
      "text/html": "<div>\n<style scoped>\n    .dataframe tbody tr th:only-of-type {\n        vertical-align: middle;\n    }\n\n    .dataframe tbody tr th {\n        vertical-align: top;\n    }\n\n    .dataframe thead th {\n        text-align: right;\n    }\n</style>\n<table border=\"1\" class=\"dataframe\">\n  <thead>\n    <tr style=\"text-align: right;\">\n      <th></th>\n      <th>title</th>\n      <th>text</th>\n      <th>label</th>\n    </tr>\n  </thead>\n  <tbody>\n    <tr>\n      <th>2</th>\n      <td>['bobby', 'jindal', 'raised', 'hindu', 'uses', 'story', 'christian', 'conversion', 'woo', 'evangelicals', 'potential', '2016', 'bid']</td>\n      <td>['dozen', 'politically', 'active', 'pastors', 'came', 'private', 'dinner', 'friday', 'night', 'hear', 'conversion', 'story', 'unique', 'context', 'presidential', 'politics', 'louisiana', 'gov', 'bobby', 'jindal', 'traveled', 'hinduism', 'protestant', 'christianity', 'ultimately', 'became', 'calls', 'evangelical', 'catholic', 'two', 'hours', 'jindal', '42', 'recalled', 'talking', 'girl', 'high', 'school', 'wanted', 'save', 'soul', 'reading', 'bible', 'closet', 'parents', 'would', 'see', 'feeling', 'stir', 'watching', 'movie', 'senior', 'year', 'depicted', 'jesus', 'cross', 'struck', 'struck', 'hard', 'jindal', 'told', 'pastors', 'son', 'god', 'died', 'sins', 'jindal', 'session', 'christian', 'clergy', 'lead', 'congregations', 'early', 'presidential', 'battleground', 'states', 'iowa', 'south', 'carolina', 'part', 'behind', 'scenes', 'effort', 'louisiana', 'governor', 'find', 'political', 'base', 'could', 'help', 'propel', 'top', 'tier', 'republican', 'candidates', 'seeking', 'run', 'white', 'house', '2016', 'known', 'gop', 'circles', 'mostly', 'mastery', 'policy', 'issues', 'health', 'care', 'jindal', 'rhodes', 'scholar', 'graduate', 'ivy', 'league', 'brown', 'university', 'obvious', 'pool', 'activist', 'supporters', 'help', 'drive', 'excitement', 'outside', 'home', 'state', 'harnessing', 'religious', 'experience', 'way', 'begun', 'appeal', 'parts', 'gop', 'influential', 'core', 'religious', 'conservatives', 'many', 'yet', 'find', 'favorite', 'among', 'republicans', 'eyeing', 'presidential', 'race', 'potential', '2016', 'gop', 'candidates', 'wooing', 'evangelical', 'base', 'including', 'sens', 'rand', 'paul', 'ky', 'ted', 'cruz', 'tex', 'indiana', 'gov', 'mike', 'pence', 'weekend', 'lynchburg', '—', 'mecca', 'sorts', 'evangelicals', 'home', 'liberty', 'university', 'founded', '1970s', 'rev', 'jerry', 'falwell', '—', 'jindal', 'appeared', 'make', 'progress', 'addition', 'dinner', 'pastors', 'delivered', 'well', 'received', 'call', 'action', 'address', '40', '000', 'christian', 'conservatives', 'gathered', 'liberty', 'commencement', 'ceremony', 'talking', 'faith', 'assailing', 'said', 'president', 'obama', 'record', 'attacking', 'religious', 'liberty', 'pastors', 'came', 'meet', 'jindal', 'said', 'intimate', 'descriptions', 'experiences', 'stood', 'convictions', 'takes', 'communicate', 'said', 'brad', 'sherman', 'solid', 'rock', 'christian', 'church', 'coralville', 'iowa', 'sherman', 'helped', 'former', 'arkansas', 'governor', 'mike', 'huckabee', 'winning', '2008', 'campaign', 'delegates', 'iowa', 'another', 'huckabee', 'admirer', 'rev', 'c', 'mitchell', 'brooks', 'second', 'baptist', 'church', 'belton', 'c', 'said', 'jindal', 'commitment', 'christian', 'values', 'compelling', 'story', 'put', 'par', 'huckabee', 'baptist', 'preacher', 'entering', 'politics', 'visiting', 'pastors', 'flew', 'lynchburg', 'weekend', 'invitation', 'american', 'renewal', 'project', 'well', 'funded', 'nonprofit', 'group', 'encourages', 'evangelical', 'christians', 'engage', 'civic', 'arena', 'voter', 'guides', 'get', 'vote', 'drives', 'programs', 'train', 'pastors', 'grass', 'roots', 'activism', 'group', 'founder', 'david', 'lane', 'built', 'pastor', 'network', 'politically', 'important', 'states', 'iowa', 'missouri', 'ohio', 'south', 'carolina', 'led', 'trips', 'israel', 'paul', 'others', 'seeking', 'make', 'inroads', 'evangelical', 'activists', 'group', 'lane', 'invited', 'lynchburg', 'included', 'donald', 'wild\\xadmon', 'retired', 'minister', 'founder', 'american', 'family', 'association', 'prominent', 'evangelical', 'activist', 'group', 'influence', 'network', '140', 'christian', 'radio', 'stations', 'pastors', 'lane', 'organization', 'brought', 'lynchburg', 'met', 'jindal', 'said', 'captured', 'interest', 'recently', 'stepped', 'forward', 'defend', 'phil', 'robertson', 'patriarch', 'duck', 'dynasty', 'television', 'show', 'family', 'amid', 'controversy', 'disparaging', 'remarks', 'made', 'gays', 'interview', 'gq', 'magazine', 'throughout', 'lynchburg', 'visit', 'jindal', 'presented', 'willing', 'culture', 'warrior', 'commencement', 'address', 'saturday', 'took', 'cause', 'twin', 'brothers', 'whose', 'hgtv', 'reality', 'series', 'renovating', 'reselling', 'houses', 'flip', 'forward', 'canceled', 'last', 'week', 'web', 'site', 'revealed', 'protested', 'sex', 'marriage', '2012', 'democratic', 'national', 'convention', 'charlotte', 'siblings', 'jason', 'david', 'benham', 'liberty', 'graduates', 'attended', 'graduation', 'private', 'lunch', 'jindal', 'called', 'action', 'another', 'demonstration', 'intolerance', 'entertainment', 'industry', 'guys', 'protested', 'republican', 'party', 'convention', 'instead', 'canceling', 'show', 'hgtv', 'would', 'probably', 'given', 'raise', 'jindal', 'said', 'liberty', 'crowd', 'applauded', 'cited', 'hobby', 'lobby', 'craft', 'store', 'chain', 'faced', 'legal', 'challenge', 'refusing', 'provide', 'employees', 'insurance', 'coverage', 'contraceptives', 'required', 'affordable', 'care', 'act', 'members', 'family', 'owns', 'hobby', 'lobby', 'become', 'heroes', 'many', 'religious', 'conservatives', 'said', 'morally', 'opposed', 'use', 'certain', 'types', 'birth', 'control', 'considered', 'requirement', 'violation', 'first', 'amendment', 'right', 'religious', 'freedom', 'family', 'committed', 'honor', 'lord', 'generous', 'employers', 'paying', 'well', 'minimum', 'wage', 'increasing', 'salaries', 'four', 'years', 'row', 'even', 'midst', 'enduring', 'recession', 'jindal', 'told', 'liberty', 'graduates', 'none', 'matters', 'obama', 'administration', 'pastors', 'came', 'see', 'jindal', 'action', 'governor', 'story', 'highlight', 'weekend', 'many', 'ways', 'unlike', 'aspiring', 'president', 'activists', 'met', 'piyush', 'jindal', 'born', '1971', 'four', 'months', 'parents', 'arrived', 'baton', 'rouge', 'la', 'native', 'india', 'changed', 'name', 'bobby', 'young', 'boy', 'adopting', 'name', 'character', 'favorite', 'television', 'show', 'brady', 'bunch', 'decision', 'become', 'christian', 'told', 'pastors', 'come', 'one', 'moment', 'lightning', 'epiphany', 'instead', 'said', 'happened', 'phases', 'growing', 'small', 'seeds', 'planted', 'time', 'jindal', 'recalled', 'closest', 'friend', 'grade', 'school', 'gave', 'bible', 'name', 'emblazoned', 'gold', 'cover', 'christmas', 'present', 'struck', 'initially', 'unimpressive', 'gift', 'jindal', 'told', 'pastors', 'world', 'would', 'spend', 'good', 'money', 'bible', 'everyone', 'knows', 'get', 'one', 'free', 'hotel', 'recalled', 'thinking', 'time', 'gold', 'lettering', 'meant', 'give', 'away', 'return', 'religious', 'education', 'reached', 'higher', 'plane', 'junior', 'year', 'high', 'school', 'told', 'dinner', 'audience', 'wanted', 'ask', 'pretty', 'girl', 'date', 'hallway', 'conversation', 'started', 'talking', 'faith', 'god', 'opposition', 'abortion', 'girl', 'invited', 'visit', 'church', 'jindal', 'said', 'skeptical', 'set', 'investigate', 'fanciful', 'claims', 'made', 'girl', 'friends', 'started', 'reading', 'bible', 'closet', 'home', 'unsure', 'parents', 'would', 'react', 'said', 'stirring', 'moment', 'saw', 'christ', 'depicted', 'cross', 'religious', 'movie', 'bible', 'existence', 'suddenly', 'seemed', 'clearer', 'jindal', 'told', 'pastors', 'jindal', 'dwell', 'subsequent', 'conversion', 'catholicism', 'years', 'later', 'college', 'said', 'immersed', 'traditions', 'church', 'touched', 'briefly', 'commencement', 'address', 'noting', 'passing', 'best', 'described', 'evangelical', 'catholic', 'mostly', 'sought', 'showcase', 'ways', 'shares', 'values', 'christian', 'conservatives', 'read', 'words', 'jesus', 'christ', 'realized', 'true', 'jindal', 'told', 'graduates', 'saturday', 'offering', 'less', 'detailed', 'accounting', 'conversion', 'done', 'night', 'pastors', 'used', 'think', 'found', 'god', 'believe', 'accurate', 'say', 'found']</td>\n      <td>0</td>\n    </tr>\n    <tr>\n      <th>9</th>\n      <td>['may', 'brexit', 'offer', 'would', 'hurt', 'cost', 'eu', 'citizens', 'eu', 'parliament']</td>\n      <td>['brussels', 'reuters', 'british', 'prime', 'minister', 'theresa', 'may', 'offer', 'settled', 'status', 'eu', 'residents', 'flawed', 'leave', 'fewer', 'rights', 'brexit', 'european', 'parliament', 'brexit', 'coordinator', 'said', 'tuesday', 'family', 'five', 'could', 'face', 'bill', '360', 'pounds', 'acquire', 'new', 'status', 'guy', 'verhofstadt', 'told', 'may', 'brexit', 'secretary', 'david', 'davis', 'letter', 'seen', 'reuters', 'significant', 'amount', 'family', 'low', 'income', 'listing', 'three', 'concerns', 'eu', 'legislature', 'must', 'approve', 'treaty', 'march', '2019', 'exit', 'verhofstadt', 'told', 'davis', 'proposals', 'eu', 'citizens', 'definitely', 'notice', 'deterioration', 'status', 'result', 'brexit', 'parliament', 'aim', 'along', 'eu', 'citizens', 'uk', 'citizens', 'eu', '27', 'notice', 'difference', 'verhofstadt', 'former', 'belgian', 'prime', 'minister', 'wrote', 'response', 'davis', 'written', 'parliament', 'complained', 'last', 'week', 'remained', 'major', 'issues', 'settled', 'rights', '3', 'million', 'eu', 'citizens', 'britain', 'tuesday', 'told', 'reporters', 'parliament', 'determined', 'expatriates', 'become', 'victims', 'brexit', 'may', 'unveiled', 'details', 'last', 'week', 'system', 'aimed', 'giving', 'people', 'already', 'britain', 'quick', 'cheap', 'way', 'asserting', 'rights', 'stay', 'indefinitely', 'issue', 'along', 'much', 'britain', 'owes', 'new', 'eu', 'uk', 'border', 'across', 'ireland', 'one', 'eu', 'wants', 'outline', 'agreement', 'opening', 'talks', 'future', 'trade', 'verhofstadt', 'said', 'lawmakers', 'dismissing', 'british', 'efforts', 'streamline', 'applications', 'saw', 'flaws', 'nature', 'settled', 'status', 'well', 'cost', 'similar', 'acquiring', 'british', 'passport', 'cited', 'three', 'others', 'europeans', 'simply', 'declare', 'whole', 'household', 'resident', 'without', 'needing', 'application', 'process', 'burden', 'proof', 'british', 'authorities', 'deny', 'rights', 'stringent', 'conditions', 'criminal', 'records', 'could', 'mean', 'eu', 'residents', 'including', 'permanent', 'resident', 'status', 'deported', 'failing', 'gain', 'settled', 'status', 'eu', 'residents', 'would', 'lose', 'rights', 'bring', 'relatives', 'britain', 'new', 'status', 'would', 'give', 'rights', 'british', 'people', 'fewer', 'rights', 'eu', 'citizens']</td>\n      <td>0</td>\n    </tr>\n    <tr>\n      <th>10</th>\n      <td>['schumer', 'calls', 'trump', 'appoint', 'official', 'oversee', 'puerto', 'rico', 'relief']</td>\n      <td>['washington', 'reuters', 'charles', 'schumer', 'top', 'democrat', 'u', 'senate', 'called', 'president', 'donald', 'trump', 'sunday', 'name', 'single', 'official', 'oversee', 'coordinate', 'relief', 'efforts', 'hurricane', 'ravaged', 'puerto', 'rico', 'schumer', 'along', 'representatives', 'nydia', 'velàzquez', 'jose', 'serrano', 'said', 'ceo', 'response', 'recovery', 'needed', 'manage', 'complex', 'ongoing', 'federal', 'response', 'territory', 'millions', 'americans', 'remain', 'without', 'power', 'supplies', 'statement', 'schumer', 'said', 'current', 'federal', 'response', 'hurricane', 'maria', 'impact', 'island', 'disorganized', 'slow', 'footed', 'mismanaged', 'person', 'ability', 'bring', 'federal', 'agencies', 'together', 'cut', 'red', 'tape', 'public', 'private', 'side', 'help', 'turn', 'lights', 'back', 'get', 'clean', 'water', 'flowing', 'help', 'bring', 'recovery', 'millions', 'americans', 'gone', 'long', 'worst', 'conditions', 'said', 'white', 'house', 'immediately', 'respond', 'request', 'comment', 'democrats', 'contended', 'naming', 'lone', 'individual', 'manage', 'government', 'relief', 'efforts', 'critical', 'particularly', 'given', 'federal', 'emergency', 'management', 'agency', 'already', 'stretched', 'thin', 'dealing', 'crises', 'aftermath', 'hurricane', 'harvey', 'texas', 'wildfires', 'california', 'severity', 'puerto', 'rico', 'crisis', 'million', 'people', 'clean', 'water', 'millions', 'without', 'power', 'nearly', 'month', 'hurricane', 'maria', 'made', 'landfall', 'demand', 'single', 'person', 'focus', 'exclusively', 'relief', 'recovery', 'democrats', 'said', 'forty', 'nine', 'people', 'died', 'puerto', 'rico', 'officially', 'dozens', 'missing', 'hurricane', 'extensive', 'damage', 'island', 'power', 'grid', 'destroying', 'homes', 'roads', 'vital', 'infrastructure', 'bankrupt', 'territory', 'struggling', 'provide', 'basic', 'services', 'like', 'running', 'water', 'pay', 'bills', 'tragically', 'clear', 'administration', 'caught', 'flat', 'footed', 'maria', 'hit', 'puerto', 'rico', 'said', 'velàzquez', 'appointing', 'ceo', 'response', 'recovery', 'last', 'put', 'one', 'person', 'authority', 'charge', 'manage', 'response', 'ensure', 'finally', 'getting', 'people', 'puerto', 'rico', 'aid', 'need', 'thursday', 'trump', 'said', 'federal', 'response', '10', 'scale', 'one', '10', 'meeting', 'puerto', 'rico', 'governor', 'ricardo', 'rossello', 'governor', 'asked', 'white', 'house', 'congress', 'least', '4', '6', 'billion', 'block', 'grants', 'types', 'funding', 'senator', 'marco', 'rubio', 'called', 'congress', 'modify', '18', '7', 'billion', 'aid', 'package', 'areas', 'damaged', 'recent', 'swath', 'hurricanes', 'ensure', 'puerto', 'rico', 'quickly', 'access', 'funds']</td>\n      <td>0</td>\n    </tr>\n    <tr>\n      <th>12</th>\n      <td>['change', 'expected', 'espn', 'political', 'agenda', 'despite', 'huge', 'subscriber', 'decline', 'breitbart']</td>\n      <td>['sports', 'fans', 'turn', 'espn', 'protest', 'network', 'social', 'political', 'agenda', 'parent', 'company', 'disney', 'decision', 'extend', 'current', 'ceo', 'bob', 'iger', 'contract', '2019', 'means', 'world', 'leader', 'sports', 'entertainment', 'continue', 'merry', 'way', 'alienating', 'large', 'segment', 'americans', 'breitbart', 'reported', 'november', 'espn', 'lost', '3', '2', 'million', 'subscribers', 'year', 'moreover', 'last', 'years', 'sports', 'network', 'lost', '300', '000', 'subscribers', 'month', 'october', 'alone', 'beleaguered', 'network', 'lost', '621', '000', 'subscribers', 'decision', 'keep', 'iger', 'instead', 'moving', 'another', 'direction', 'promoting', 'coo', 'thomas', 'staggs', 'spot', 'number', 'substantial', 'business', 'implications', 'espn', 'awful', 'announcing', 'reports', 'outside', 'least', 'seems', 'like', 'iger', 'quite', 'satisfied', 'espn', 'leadership', 'network', 'path', 'fronts', 'specifically', 'regularly', 'spoken', 'important', 'espn', 'skinny', 'bundles', 'including', 'streaming', 'options', 'sling', 'directv', 'espn', 'forthcoming', 'offering', 'views', 'necessarily', 'shared', 'different', 'ceo', 'staggs', 'example', 'spoke', 'much', 'importance', 'traditional', 'bundle', 'disney', 'ceo', 'views', 'might', 'focus', 'side', 'conversely', 'another', 'disney', 'ceo', 'might', 'want', 'espn', 'quickly', 'go', 'larger', 'way', 'standalone', 'access', 'espn', 'content', 'including', 'tv', 'channels', 'rather', 'starting', 'light', 'approach', 'iger', 'seems', 'promoting', 'putting', 'circumstances', 'aside', 'crux', 'espn', 'continuing', 'political', 'social', 'agenda', 'derives', 'fact', 'iger', 'strident', 'lifelong', 'democrat', 'one', 'committed', 'fact', 'disney', 'stalwart', 'hillary', 'clinton', 'fundraiser', 'last', 'summer', 'along', 'supporters', 'entertainment', 'mogul', 'haim', 'saban', 'chernin', 'group', 'chairman', 'ceo', 'peter', 'chernin', 'entertainment', 'sports', 'executive', 'casey', 'wasserman', 'get', 'idea', 'iger', 'taste', 'social', 'issues', 'one', 'proposed', 'entertainment', 'ideas', 'filmic', 'version', 'girls', 'popular', 'television', 'show', 'starring', 'lena', 'dunham', 'somewhat', 'surprisingly', 'chagrin', 'many', 'supporters', 'shareholders', 'iger', 'serving', 'president', 'donald', 'trump', 'strategic', 'policy', 'forum', 'council', 'ceos', 'iger', 'agrees', 'trump', 'shutting', 'certain', 'tax', 'loopholes', 'strongly', 'supports', 'lowering', 'corporate', 'tax', 'rates', 'surprise', 'earlier', 'month', 'iger', 'reportedly', 'defended', 'participation', 'trump', 'mastermind', 'group', 'asserting', 'think', 'opportunity', 'express', 'views', 'think', 'value', 'company', 'shareholders', 'insisting', 'iger', 'informs', 'adversarial', 'view', 'administration', 'includes', 'immigration', 'yet', 'ceo', 'argues', 'claims', 'asserting', 'espn', 'politically', 'slanted', 'complete', 'exaggeration', 'said', 'looks', 'like', 'espn', 'cable', 'subscription', 'downward', 'spiral', 'persist', 'long', 'iger', 'remains', 'disney', 'top', 'executive']</td>\n      <td>0</td>\n    </tr>\n    <tr>\n      <th>13</th>\n      <td>['billionaire', 'odebrecht', 'brazil', 'scandal', 'released', 'house', 'arrest']</td>\n      <td>['rio', 'de', 'janeiro', 'sao', 'paulo', 'reuters', 'billionaire', 'marcelo', 'odebrecht', 'highest', 'profile', 'executive', 'imprisoned', 'brazil', 'massive', 'graft', 'scandal', 'released', 'jail', 'tuesday', 'continue', 'sentence', 'corruption', 'house', 'arrest', 'according', 'federal', 'court', 'former', 'chief', 'executive', 'officer', 'odebrecht', 'sa', 'odbes', 'ul', 'latin', 'america', 'largest', 'construction', 'firm', 'arrested', '2015', 'investigation', 'dubbed', 'car', 'wash', 'exposed', 'billions', 'dollars', 'kickbacks', 'politicians', 'executives', 'state', 'run', 'companies', 'exchange', 'inflated', 'contracts', 'odebrecht', 'set', 'travel', 'sao', 'paulo', 'begin', 'house', 'arrest', 'electronic', 'surveillance', 'tuesday', 'according', 'federal', 'court', 'parana', 'representative', 'former', 'executive', 'said', 'remained', 'committed', 'collaborating', 'authorities', 'leniency', 'deal', 'odebrecht', 'first', 'sentenced', '19', 'years', 'prison', 'one', 'many', 'cases', 'related', 'car', 'wash', 'reduced', '10', 'years', 'signed', 'leniency', 'deal', 'last', 'december', 'exchange', 'paying', 'nearly', '2', 'billion', 'fine', 'admitting', 'guilt', 'providing', 'evidence', 'authorities', 'already', 'served', 'two', 'half', 'years', 'prison', 'deal', 'must', 'serve', 'another', 'two', 'half', 'years', 'house', 'arrest', 'permitted', 'leave', 'home', 'work', 'another', 'two', 'half', 'years', 'required', 'community', 'service', 'rest', '10', 'year', 'sentence', 'separately', 'tuesday', 'brazil', 'antitrust', 'watchdog', 'cade', 'said', 'investigating', 'two', 'alleged', 'cartels', 'involved', 'bidding', 'sao', 'paulo', 'infrastructure', 'projects', 'receiving', 'information', 'provided', 'odebrecht', 'executives']</td>\n      <td>0</td>\n    </tr>\n    <tr>\n      <th>15</th>\n      <td>['u', 'n', 'seeks', 'humanitarian', 'pause', 'sanaa', 'streets', 'battlegrounds']</td>\n      <td>['geneva', 'reuters', 'united', 'nations', 'called', 'monday', 'humanitarian', 'pause', 'yemeni', 'capital', 'sanaa', 'tuesday', 'allow', 'civilians', 'leave', 'homes', 'aid', 'workers', 'reach', 'wounded', 'get', 'medical', 'care', 'jamie', 'mcgoldrick', 'u', 'n', 'humanitarian', 'coordinator', 'yemen', 'said', 'statement', 'streets', 'sanaa', 'become', 'battlegrounds', 'aid', 'workers', 'remain', 'lockdown', 'thus', 'call', 'parties', 'conflict', 'urgently', 'enable', 'humanitarian', 'pause', 'tuesday', '5', 'december', '10', '00', '16', '00', 'p', 'allow', 'civilians', 'leave', 'homes', 'seek', 'assistance', 'protection', 'facilitate', 'movement', 'aid', 'workers', 'ensure', 'continuity', 'life', 'saving', 'programs', 'said', 'mcgoldrick', 'warned', 'warring', 'parties', 'deliberate', 'attacks', 'civilians', 'civilian', 'medical', 'infrastructure', 'clear', 'violations', 'international', 'humanitarian', 'law', 'may', 'constitute', 'war', 'crimes']</td>\n      <td>0</td>\n    </tr>\n    <tr>\n      <th>17</th>\n      <td>['second', 'judge', 'says', 'clinton', 'email', 'setup', 'may', 'bad', 'faith']</td>\n      <td>['new', 'york', 'reuters', 'second', 'federal', 'judge', 'taken', 'rare', 'step', 'allowing', 'group', 'suing', 'records', 'hillary', 'clinton', 'time', 'u', 'secretary', 'state', 'seek', 'sworn', 'testimony', 'officials', 'saying', 'evidence', 'government', 'wrong', 'bad', 'faith', 'language', 'judge', 'royce', 'lamberth', 'order', 'undercut', 'democratic', 'presidential', 'contender', 'assertion', 'allowed', 'set', 'private', 'email', 'server', 'home', 'work', 'country', 'top', 'diplomat', 'arrangement', 'particularly', 'unusual', 'described', 'clinton', 'email', 'arrangement', 'extraordinary', 'order', 'filed', 'tuesday', 'federal', 'district', 'court', 'washington', 'referring', 'state', 'department', 'clinton', 'clinton', 'aides', 'said', 'constantly', 'shifting', 'admissions', 'government', 'former', 'government', 'officials', 'spokesmen', 'clinton', 'immediately', 'respond', 'request', 'comment', 'case', 'civil', 'matter', 'order', 'adds', 'legal', 'uncertainty', 'overshadowed', 'clinton', 'campaign', 'democratic', 'nominee', 'nov', '8', 'presidential', 'election', 'fbi', 'also', 'conducting', 'criminal', 'inquiry', 'arrangement', 'emerged', 'classified', 'government', 'secrets', 'ended', 'clinton', 'unsecured', 'email', 'account', 'clinton', 'said', 'think', 'charged', 'crime', 'lamberth', 'order', 'granted', 'request', 'judicial', 'watch', 'conservative', 'watchdog', 'group', 'suing', 'department', 'open', 'records', 'laws', 'gather', 'evidence', 'including', 'sworn', 'testimony', 'group', 'filed', 'several', 'lawsuits', 'including', 'one', 'seeking', 'records', '2012', 'attack', 'benghazi', 'libya', 'killed', 'u', 'ambassador', 'christopher', 'stevens', 'three', 'americans', 'evidence', 'government', 'wrong', 'bad', 'faith', 'limited', 'discovery', 'appropriate', 'even', 'though', 'exceedingly', 'rare', 'foia', 'freedom', 'information', 'cases', 'lamberth', 'noted', 'order', 'government', 'normally', 'given', 'benefit', 'doubt', 'properly', 'searched', 'produced', 'records', 'since', 'email', 'arrangement', 'came', 'public', 'knowledge', 'year', 'ago', 'state', 'department', 'found', 'defending', 'clinton', 'scores', 'lawsuits', 'groups', 'individuals', 'news', 'outlets', 'say', 'wrongly', 'denied', 'access', 'clinton', 'federal', 'records', 'clinton', 'left', 'department', '2013', 'return', 'email', 'records', 'government', 'nearly', 'two', 'years', 'later', 'last', 'month', 'judge', 'emmet', 'sullivan', 'overseeing', 'separate', 'judicial', 'watch', 'lawsuit', 'clinton', 'related', 'records', 'allowed', 'similar', 'motion', 'discovery', 'story', 'refiles', 'fix', 'date', 'presidential', 'election', 'paragraph', '6']</td>\n      <td>0</td>\n    </tr>\n    <tr>\n      <th>24</th>\n      <td>['supreme', 'court', 'hear', 'appeal', 'texas', 'voter', 'id', 'case', 'new', 'york', 'times']</td>\n      <td>['washington', '—', 'supreme', 'court', 'rejected', 'monday', 'appeal', 'texas', 'officials', 'seeking', 'restore', 'state', 'strict', 'voter', 'id', 'law', 'court', 'custom', 'brief', 'order', 'case', 'abbott', 'v', 'veasey', 'gave', 'reasons', 'turning', 'appeal', 'chief', 'justice', 'john', 'g', 'roberts', 'jr', 'issued', 'unusual', 'statement', 'explaining', 'supreme', 'court', 'remains', 'free', 'consider', 'case', 'proceedings', 'lower', 'courts', 'texas', 'law', 'enacted', '2011', 'requires', 'voters', 'seeking', 'cast', 'ballots', 'polls', 'present', 'photo', 'identification', 'like', 'texas', 'driver', 'gun', 'license', 'military', 'id', 'passport', 'federal', 'courts', 'repeatedly', 'ruled', 'law', 'racially', 'discriminatory', 'texas', 'law', 'first', 'blocked', 'section', '5', 'federal', 'voting', 'rights', 'act', 'required', 'states', 'localities', 'history', 'discrimination', 'obtain', 'federal', 'permission', 'changing', 'voting', 'procedures', 'supreme', 'court', 'effectively', 'struck', 'section', '5', '2013', 'shelby', 'county', 'v', 'holder', 'alabama', 'case', 'texas', 'officials', 'announced', 'would', 'start', 'enforcing', 'id', 'law', 'trial', '2014', 'judge', 'nelva', 'gonzales', 'ramos', 'federal', 'district', 'court', 'corpus', 'christi', 'struck', 'law', 'oct', '9', 'opinion', 'said', 'adopted', 'unconstitutional', 'discriminatory', 'purpose', 'effect', 'disenfranchise', 'disproportionate', 'number', 'hispanics', '2015', 'panel', 'united', 'states', 'court', 'appeals', 'fifth', 'circuit', 'new', 'orleans', 'vacated', 'part', 'ruling', 'concerning', 'law', 'purpose', 'affirmed', 'part', 'concerning', 'effect', 'last', 'july', 'full', 'fifth', 'circuit', 'largely', 'adopted', 'panel', 'distinctions', 'reasoning', 'returned', 'case', 'trial', 'court', 'consider', 'appropriate', 'remedy', 'texas', 'officials', 'nonetheless', 'asked', 'supreme', 'court', 'review', 'appeals', 'court', 'ruling', 'immediately', 'people', 'groups', 'challenging', 'law', 'officials', 'said', 'presented', 'evidence', 'law', 'resulted', 'diminished', 'minority', 'political', 'participation', 'prevented', 'even', 'single', 'person', 'voting', 'challengers', 'responded', '600', '000', 'registered', 'voters', 'texas', '5', 'percent', 'registered', 'voters', 'state', 'lacked', 'required', 'forms', 'id', 'law', 'said', 'disproportionately', 'affects', 'minority', 'voters', 'statistically', 'significant', 'rate', 'monday', 'chief', 'justice', 'roberts', 'wrote', 'case', 'would', 'better', 'suited', 'supreme', 'court', 'review', 'lower', 'courts', 'completed', 'work', 'ken', 'paxton', 'texas', 'attorney', 'general', 'said', 'disappointed', 'court', 'immediately', 'take', 'case', 'chief', 'justice', 'roberts', 'made', 'clear', 'case', 'even', 'stronger', 'posture', 'supreme', 'court', 'review', 'proceedings', 'lower', 'courts', 'mr', 'paxton', 'said', 'statement', 'texas', 'enacted', 'common', 'sense', 'voter', 'id', 'law', 'safeguard', 'integrity', 'elections', 'continue', 'fight', 'law', 'j', 'gerald', 'hebert', 'campaign', 'legal', 'center', 'represents', 'voters', 'challenging', 'law', 'said', 'pleased', 'justices', 'recognize', 'case', 'merit', 'review', 'time', 'texas', 'ranks', 'poorly', 'voter', 'participation', 'work', 'ensure', 'every', 'eligible', 'voter', 'state', 'able', 'cast', 'ballot', 'going', 'forward', 'mr', 'hebert', 'said', 'statement']</td>\n      <td>0</td>\n    </tr>\n    <tr>\n      <th>25</th>\n      <td>['islamic', 'state', 'driven', 'last', 'stronghold', 'northern', 'iraq']</td>\n      <td>['baghdad', 'reuters', 'iraqi', 'forces', 'announced', 'thursday', 'captured', 'islamic', 'state', 'last', 'stronghold', 'northern', 'iraq', 'leaving', 'militant', 'group', 'holed', 'near', 'syrian', 'border', 'self', 'proclaimed', 'caliphate', 'shrinks', 'town', 'hawija', 'surrounding', 'areas', 'fell', 'offensive', 'u', 'backed', 'iraqi', 'government', 'troops', 'iranian', 'trained', 'armed', 'shi', 'ite', 'paramilitary', 'groups', 'known', 'popular', 'mobilisation', 'fighting', 'took', 'place', 'north', 'east', 'town', 'militants', 'surrounded', 'fall', 'hawija', 'lies', 'near', 'kurdish', 'held', 'oil', 'city', 'kirkuk', 'area', 'remains', 'control', 'islamic', 'state', 'iraq', 'stretch', 'alongside', 'western', 'border', 'syria', 'militant', 'group', 'also', 'retreat', 'capture', 'hawija', 'boost', 'iraqi', 'government', 'faces', 'separate', 'crisis', 'north', 'country', 'kurdish', 'minority', 'last', 'month', 'voted', 'overwhelmingly', 'support', 'independence', 'autonomous', 'region', 'hawija', 'state', 'tv', 'showed', 'footage', 'iraqi', 'forces', 'raising', 'flags', 'one', 'town', 'squares', 'humvees', 'patrolled', 'empty', 'streets', 'littered', 'car', 'wrecks', 'houses', 'riddled', 'bullets', 'shattered', 'storefronts', 'graphics', 'iraqi', 'kurds', 'independence', 'push', 'army', '9th', 'armored', 'division', 'federal', 'police', 'emergency', 'response', 'division', 'popular', 'mobilisation', 'liberated', 'hawija', 'said', 'statement', 'joint', 'operations', 'commander', 'lieutenant', 'general', 'abdul', 'ameer', 'rasheed', 'yarallah', 'thick', 'black', 'smoke', 'rose', 'areas', 'surrounding', 'hawija', 'oil', 'wells', 'set', 'fire', 'militants', 'prevent', 'air', 'detection', 'capture', 'hawija', 'brings', 'iraqi', 'forces', 'direct', 'contact', 'kurdish', 'peshmerga', 'fighters', 'control', 'kirkuk', 'multi', 'ethnic', 'region', 'claimed', 'baghdad', 'kurdistan', 'regional', 'government', 'krg', 'kirkuk', 'shaped', 'flashpoint', 'last', 'month', 'krg', 'included', 'city', 'referendum', 'kurdish', 'independence', 'northern', 'iraq', 'want', 'aggression', 'confrontations', 'federal', 'authority', 'must', 'imposed', 'disputed', 'areas', 'iraqi', 'prime', 'minister', 'haider', 'al', 'abadi', 'told', 'news', 'conference', 'paris', 'french', 'president', 'emmanuel', 'macron', 'macron', 'offered', 'mediate', 'iraqi', 'government', 'kurdish', 'regional', 'authorities', 'promised', 'maintain', 'military', 'presence', 'islamic', 'state', 'defeated', 'iraqi', 'government', 'imposed', 'sanctions', 'response', 'independence', 'vote', 'abadi', 'said', 'could', 'understand', 'kurds', 'aspirations', 'provided', 'expressed', 'accordance', 'constitution', 'outcome', 'referendum', 'raised', 'concerns', 'iraq', 'abroad', 'conflict', 'might', 'break', 'along', 'ethnic', 'lines', 'potentially', 'weakening', 'campaign', 'islamic', 'state', 'turkey', 'battling', 'three', 'decade', 'old', 'insurgency', 'kurdish', 'militants', 'led', 'regional', 'opposition', 'iraqi', 'kurds', 'independence', 'hopes', 'stepping', 'rhetoric', 'issue', 'president', 'tayyip', 'erdogan', 'said', 'turkey', 'would', 'soon', 'close', 'border', 'northern', 'iraq', 'shut', 'air', 'space', 'response', 'referendum', 'added', 'turkey', 'iran', 'iraq', 'would', 'jointly', 'decide', 'closing', 'flow', 'oil', 'northern', 'iraq', 'vital', 'source', 'earnings', 'iraqi', 'kurdistan', 'wednesday', 'russian', 'president', 'vladimir', 'putin', 'whose', 'country', 'big', 'energy', 'interests', 'kurdistan', 'said', 'one', 'interest', 'cut', 'oil', 'supplies', 'territory', 'erdogan', 'said', 'decision', 'made', 'closing', 'oil', 'taps', 'region', 'made', 'us', 'turkey', 'iran', 'iraq', 'central', 'government', 'together', 'erdogan', 'stance', 'backed', 'iran', 'meeting', 'erdogan', 'tehran', 'wednesday', 'supreme', 'leader', 'ayatollah', 'ali', 'khamenei', 'said', 'iran', 'turkey', 'prevent', 'iraqi', 'kurds', 'declaring', 'independence', 'relations', 'cool', 'shi', 'ite', 'iran', 'mainly', 'sunni', 'turkey', 'alarmed', 'independence', 'vote', 'fearing', 'encourage', 'separatism', 'among', 'kurdish', 'populations', 'kurds', 'region', 'fourth', 'largest', 'ethnic', 'group', 'spread', 'across', 'iran', 'turkey', 'syria', 'iraq', 'oppose', 'moves', 'towards', 'kurdish', 'state', 'iraq', 'launched', 'offensive', 'sept', '21', 'dislodge', 'islamic', 'state', 'hawija', 'area', '78', '000', 'people', 'estimated', 'trapped', 'according', 'united', 'nations', 'militants', 'control', 'border', 'town', 'al', 'qaim', 'region', 'surrounding', 'also', 'hold', 'parts', 'syrian', 'side', 'border', 'area', 'control', 'shrinking', 'retreat', 'face', 'two', 'different', 'sets', 'hostile', 'forces', 'u', 'backed', 'kurdish', 'led', 'coalition', 'syrian', 'government', 'troops', 'foreign', 'shi', 'ite', 'militias', 'backed', 'iran', 'russia', 'islamic', 'state', 'cross', 'border', 'caliphate', 'effectively', 'collapsed', 'july', 'u', 'backed', 'iraqi', 'forces', 'captured', 'mosul', 'group', 'de', 'facto', 'capital', 'iraq', 'grueling', 'battle', 'lasted', 'nine', 'months', 'militants', 'leader', 'abu', 'bakr', 'al', 'baghdadi', 'declared', 'caliphate', 'mosul', 'mid', '2014', 'released', 'audio', 'recording', 'last', 'week', 'indicated', 'alive', 'several', 'reports', 'killed', 'urged', 'followers', 'keep', 'fight', 'despite', 'setbacks']</td>\n      <td>0</td>\n    </tr>\n    <tr>\n      <th>26</th>\n      <td>['senators', 'propose', 'giving', 'states', 'option', 'keep', 'affordable', 'care', 'act', 'new', 'york', 'times']</td>\n      <td>['washington', '—', 'several', 'republican', 'senators', 'monday', 'proposed', 'partial', 'replacement', 'affordable', 'care', 'act', 'would', 'allow', 'states', 'continue', 'operating', 'law', 'choose', 'proposal', 'meant', 'appeal', 'critics', 'supporters', 'former', 'president', 'barack', 'obama', 'signature', 'health', 'law', 'plan', 'attacked', 'democrats', 'step', 'back', 'affordable', 'care', 'act', 'protections', 'unlikely', 'win', 'acceptance', 'conservative', 'republicans', 'want', 'get', 'rid', 'law', 'tax', 'increases', 'soon', 'possible', 'anything', 'proposal', '—', 'senators', 'bill', 'cassidy', 'louisiana', 'medical', 'doctor', 'susan', 'collins', 'maine', 'moderate', 'republican', '—', 'may', 'show', 'difficult', 'republicans', 'enact', 'replacement', 'affordable', 'care', 'act', 'legislation', 'pass', 'muster', 'conservative', 'house', 'may', 'win', 'enough', 'support', 'senate', 'bill', 'broad', 'appeal', 'senate', 'may', 'fail', 'house', 'proposal', 'states', 'could', 'stay', 'affordable', 'care', 'act', 'could', 'receive', 'similar', 'amount', 'federal', 'money', 'consumers', 'could', 'use', 'pay', 'medical', 'care', 'health', 'insurance', 'moving', 'locus', 'repeal', 'state', 'government', 'mr', 'cassidy', 'said', 'states', 'right', 'choose', 'proposal', 'shares', 'features', 'house', 'republican', 'proposals', 'would', 'encourage', 'greater', 'use', 'health', 'savings', 'accounts', 'eliminate', 'requirement', 'americans', 'insurance', 'pay', 'tax', 'penalty', 'option', 'states', 'keep', 'affordable', 'care', 'act', 'alive', 'rankle', 'conservative', 'republicans', 'trying', 'nearly', 'seven', 'years', 'blow', 'obamacare', 'flawed', 'failing', 'fixable', 'needs', 'fully', 'repealed', 'said', 'representative', 'mark', 'meadows', 'north', 'carolina', 'chairman', 'house', 'freedom', 'caucus', 'stalemate', 'house', 'senate', 'would', 'leave', 'place', 'mr', 'obama', 'health', 'law', 'efforts', 'president', 'trump', 'congress', 'undermine', 'could', 'send', 'health', 'insurance', 'markets', 'tailspin', 'friday', 'one', 'first', 'official', 'acts', 'president', 'mr', 'trump', 'signed', 'executive', 'order', 'could', 'allow', 'officials', 'ease', 'enforcement', 'mandate', 'requiring', 'americans', 'insurance', 'supporters', 'affordable', 'care', 'act', 'panned', 'proposal', 'millions', 'americans', 'would', 'kicked', 'plans', 'costs', 'deductibles', 'consumers', 'would', 'skyrocket', 'protections', 'people', 'conditions', 'cancer', 'would', 'gutted', 'said', 'senate', 'democratic', 'leader', 'chuck', 'schumer', 'new', 'york', 'ronald', 'f', 'pollack', 'executive', 'director', 'families', 'usa', 'consumer', 'group', 'said', 'bill', 'falls', 'way', 'short', 'providing', 'protections', 'coverage', 'people', 'affordable', 'care', 'act', 'ms', 'collins', 'said', 'bill', 'would', 'allow', 'states', 'keep', 'affordable', 'care', 'act', 'working', 'residents', 'predicted', 'states', 'would', 'choose', 'something', 'different', 'bill', 'states', 'could', 'enroll', 'people', 'would', 'otherwise', 'uninsured', 'health', 'plans', 'providing', 'basic', 'coverage', 'health', 'plans', 'intended', 'protect', 'consumers', 'catastrophic', 'medical', 'expenses', 'would', 'cover', 'generic', 'versions', 'prescription', 'drugs', 'would', 'also', 'cover', 'recommended', 'childhood', 'immunizations', 'without', 'states', 'would', 'contract', 'one', 'insurers', 'offer', 'coverage', 'consumers', 'could', 'buy', 'robust', 'coverage', 'want', 'mr', 'cassidy', 'said', 'could', 'automatically', 'enrolled', 'default', 'health', 'plans', 'providing', 'basic', 'coverage', 'state', 'could', 'say', 'eligible', 'enrolled', 'unless', 'choose', 'explained', 'passive', 'enrollment', 'would', 'provide', 'insurers', 'large', 'pool', 'customers', 'including', 'many', 'healthy', 'people', 'without', 'coercion', 'individual', 'mandate', 'mr', 'cassidy', 'said', 'think', 'could', 'cover', 'people', 'obamacare', 'mr', 'cassidy', 'said', 'although', 'acknowledged', 'effects', 'bill', 'analyzed', 'congressional', 'budget', 'office', 'serves', 'capitol', 'hill', 'official', 'scorekeeper', 'state', 'opts', 'affordable', 'care', 'act', 'many', 'federal', 'insurance', 'standards', 'established', 'law', 'would', 'longer', 'apply', 'bill', 'would', 'repeal', 'federal', 'benefit', 'mandates', 'often', 'force', 'americans', 'pay', 'coverage', 'need', 'afford', 'mr', 'cassidy', 'said', 'protections', 'would', 'remain', 'place', 'parents', 'would', 'still', 'allowed', 'keep', 'children', 'insurance', 'age', '26', 'insurers', 'could', 'impose', 'annual', 'lifetime', 'limits', 'benefits', 'bill', 'called', 'patient', 'freedom', 'act', 'would', 'eliminate', 'unpopular', 'individual', 'mandate', 'also', 'federal', 'requirement', 'larger', 'employers', 'offer', 'coverage', 'employees', 'mr', 'cassidy', 'said', 'senators', 'shelley', 'moore', 'capito', 'west', 'virginia', 'johnny', 'isakson', 'georgia', 'republicans', 'also', 'sponsors', 'bill', 'senate', 'majority', 'leader', 'mitch', 'mcconnell', 'republican', 'kentucky', '2', 'senate', 'republican', 'john', 'cornyn', 'texas', 'sponsors', 'similar', 'bill', 'mr', 'cassidy', 'introduced', '2015', 'legislative', 'landscape', 'different', 'republicans', 'congress', 'repeal', 'affordable', 'care', 'act', 'support', 'mr', 'trump', 'senate', 'need', 'help', 'democrats', 'adopt', 'replacement', 'republicans', 'eight', 'votes', 'shy', '60', 'needed', 'stop', 'filibuster']</td>\n      <td>0</td>\n    </tr>\n  </tbody>\n</table>\n</div>"
     },
     "metadata": {},
     "output_type": "display_data"
    },
    {
     "data": {
      "text/plain": "                                                                                                                                                        title  \\\n0         ['law', 'enforcement', 'high', 'alert', 'following', 'threats', 'cops', 'whites', '9', '11by', 'blacklivesmatter', 'fyf911', 'terrorists', 'video']   \n1   ['unbelievable', 'obama', 'attorney', 'general', 'says', 'charlotte', 'rioters', 'peaceful', 'protesters', 'home', 'state', 'north', 'carolina', 'video']   \n3                                  ['satan', '2', 'russia', 'unvelis', 'image', 'terrifying', 'new', 'supernuke', '–', 'western', 'world', 'takes', 'notice']   \n4                                                                    ['time', 'christian', 'group', 'sues', 'amazon', 'splc', 'designation', 'hate', 'group']   \n5                                                    ['dr', 'ben', 'carson', 'targeted', 'irs', 'never', 'audit', 'spoke', 'national', 'prayer', 'breakfast']   \n6                      ['sports', 'bar', 'owner', 'bans', 'nfl', 'games', 'show', 'true', 'american', 'sports', 'like', 'speak', 'rural', 'america', 'video']   \n7                                                                    ['latest', 'pipeline', 'leak', 'underscores', 'dangers', 'dakota', 'access', 'pipeline']   \n8                                                                              ['gop', 'senator', 'smacked', 'punchable', 'alt', 'right', 'nazi', 'internet']   \n11                                               ['watch', 'hilarious', 'ad', 'calls', 'question', 'health', 'aging', 'clinton', 'crime', 'family', 'bosses']   \n14                                                                 ['british', 'woman', 'loses', 'virginity', 'asylum', 'seeking', 'rapist', 'way', 'church']   \n\n                                                                                                                                                                                                                                                                                                                                                                                                                                                                                                                                                                                                                                                                                                                                                                                                                                                                                                                                                                                                                                                                                                                                                                                                                                                                                                                                                                                                                                                                                                                                                                                                                                                                                                                                                                                                                                                                                                                                                                                                                                                                                                                                                                                                                                                                                                                                                                                                                                                                                                                                                                                                                                                                                                                                                                                                                                                                                                                                                                                                                                                                                                                                                                                                                                                                                                                                                                                                                                                                                                                                                                                                                                                                                                                                                                                                                                                                                                                                                                                                                                                                                                                                                                                                                                                                                                                                                                                                                                                                                                                                                                                                                                                                                                                                                                                                                                                                                                                                                                                                                                                             text  \\\n0                                                                                                                                                                                                   ['comment', 'expected', 'barack', 'obama', 'members', 'fyf911', 'fukyoflag', 'blacklivesmatter', 'movements', 'called', 'lynching', 'hanging', 'white', 'people', 'cops', 'encouraged', 'others', 'radio', 'show', 'tuesday', 'night', 'turn', 'tide', 'kill', 'white', 'people', 'cops', 'send', 'message', 'killing', 'black', 'people', 'america', 'one', 'f', 'yoflag', 'organizers', 'called', 'sunshine', 'radio', 'blog', 'show', 'hosted', 'texas', 'called', 'sunshine', 'f', 'ing', 'opinion', 'radio', 'show', 'snapshot', 'fyf911', 'lolatwhitefear', 'twitter', 'page', '9', '53', 'p', 'shows', 'urging', 'supporters', 'call', 'fyf911', 'tonight', 'continue', 'dismantle', 'illusion', 'white', 'snapshot', 'twitter', 'radio', 'call', 'invite', 'fyf911the', 'radio', 'show', 'aired', '10', '00', 'p', 'eastern', 'standard', 'time', 'show', 'callers', 'clearly', 'call', 'lynching', 'killing', 'white', 'people', '2', '39', 'minute', 'clip', 'radio', 'show', 'heard', 'provided', 'breitbart', 'texas', 'someone', 'would', 'like', 'referred', 'hannibal', 'already', 'received', 'death', 'threats', 'result', 'interrupting', 'fyf911', 'conference', 'calls', 'unidentified', 'black', 'man', 'said', 'mother', 'f', 'kers', 'start', 'f', 'ing', 'like', 'us', 'bunch', 'ni', 'ers', 'takin', 'one', 'us', 'roll', 'said', 'cause', 'already', 'roll', 'gangs', 'anyway', 'six', 'seven', 'black', 'mother', 'f', 'ckers', 'see', 'white', 'person', 'lynch', 'ass', 'let', 'turn', 'tables', 'conspired', 'cops', 'started', 'losing', 'people', 'state', 'emergency', 'speculated', 'one', 'two', 'things', 'would', 'happen', 'big', 'ass', 'r', 'war', 'ni', 'ers', 'going', 'start', 'backin', 'already', 'getting', 'killed', 'f', 'k', 'got', 'lose', 'sunshine', 'could', 'heard', 'saying', 'yep', 'true', 'f', 'king', 'true', 'said', 'need', 'turn', 'tables', 'kids', 'getting', 'shot', 'somebody', 'needs', 'become', 'sacrifice', 'side', 'said', 'everybody', 'whatever', 'like', 'say', 'everybody', 'different', 'position', 'war', 'continued', 'give', 'f', 'k', 'anyway', 'said', 'might', 'well', 'utilized', 'turn', 'tables', 'n', 'ers', 'said', 'way', 'start', 'lookin', 'like', 'havin', 'many', 'casualties', 'causalities', 'side', 'instead', 'killing', 'black', 'people', 'black', 'lives', 'matter', 'mother', 'f', 'kers', 'got', 'make', 'matter', 'find', 'mother', 'f', 'ker', 'alone', 'snap', 'ass', 'f', 'hang', 'damn', 'tree', 'take', 'picture', 'send', 'mother', 'f', 'kers', 'need', 'one', 'example', 'people', 'start', 'watchin', 'turn', 'tables', 'said', 'said', 'start', 'trickle', 'effect', 'said', 'one', 'white', 'person', 'hung', 'flat', 'hanging', 'start', 'trickle', 'effect', 'continued', 'black', 'people', 'good', 'starting', 'trends', 'said', 'get', 'upper', 'hand', 'another', 'black', 'man', 'spoke', 'saying', 'needed', 'kill', 'cops', 'killing', 'us', 'first', 'black', 'male', 'said', 'best', 'method', 'right', 'breitbart', 'texas', 'previously', 'reported', 'sunshine', 'upset', 'racist', 'white', 'people', 'infiltrated', 'disrupted', 'one', 'conference', 'calls', 'subsequently', 'released', 'phone', 'number', 'one', 'infiltrators', 'veteran', 'immediately', 'started', 'receiving', 'threatening', 'calls', 'one', 'f', 'yoflag', 'movement', 'supporters', 'allegedly', 'told', 'veteran', 'infiltrated', 'publicly', 'posted', 'conference', 'call', 'going', 'rape', 'gut', 'pregnant', 'wife', 'f', 'ing', 'piece', 'sh', 'unborn', 'creature', 'hung', 'tree', 'breitbart', 'texas', 'previously', 'encountered', 'sunshine', 'sandra', 'bland', 'protest', 'waller', 'county', 'jail', 'texas', 'said', 'white', 'people', 'killed', 'told', 'journalists', 'photographers', 'see', 'nappy', 'ass', 'hair', 'head', 'means', 'one', 'militant', 'negroes', 'said', 'protest', 'redneck', 'mother', 'f', 'kers', 'murdered', 'sandra', 'bland', 'nappy', 'hair', 'like', 'fyf911', 'black', 'radicals', 'say', 'holding', 'imperial', 'powers', 'actually', 'responsible', 'terrorist', 'attacks', 'september', '11th', 'accountable', 'day', 'reported', 'breitbart', 'texas', 'several', 'websites', 'twitter', 'handles', 'movement', 'palmetto', 'star', 'describes', 'one', 'head', 'organizers', 'said', 'youtube', 'video', 'supporters', 'burning', 'symbols', 'illusion', 'superiority', 'false', 'white', 'supremacy', 'like', 'american', 'flag', 'british', 'flag', 'police', 'uniforms', 'ku', 'klux', 'klan', 'hoods', 'sierra', 'mcgrone', 'nocturnus', 'libertus', 'posted', 'help', 'young', 'afrikan', 'clean', 'rag', 'oppression', 'posted', 'two', 'photos', 'one', 'appears', 'photo', 'black', 'man', 'wiping', 'naked', 'butts', 'american', 'flag', 'entire', 'story', 'breitbart', 'news']   \n1                                                                                                                                                                                                                                                                                                                                                                                                                                                                                                                                                                                                                                                                                                                                                                                                                                                                                                                                                                                                                                                                                                                                                                                                                                                                                                                                                                                                                                                                                                                                                                                                                                                                                                                                                                                                                                                                                                                                                                                                                                                                                                                                                                                                                                                                                                                                                                                                                                                                                                                                                                                                                                                                                                                                                                                                                                                                                                                                                                                                                                                                                                                                                                                                                                                                                                                                                                                                                                                                                                                                                                                                                                                                                                                                                                                                                                                                                                                                                                                                                                                                                                                                                                                                                                                                                                                                                                                                                                                                                                                                                                                                                                                                                                                                                                                                                               ['demonstrators', 'gathered', 'last', 'night', 'exercising', 'constitutional', 'protected', 'right', 'peaceful', 'protest', 'order', 'raise', 'issues', 'create', 'change', 'loretta', 'lynch', 'aka', 'eric', 'holder', 'skirt']   \n3                                                                                                                                                                                                                                                                                                                                                                                                                                                                                                                                                                                                                                                                                                                                                                                                                                                                                                                                                                                                                                                                                                                                                                                                                                                                                                                                                                                                                                                                                                                                                                                                                                                                                                                                                                                                                                                                                                                                                                                                                                                                                                                                                                                                                                                                                                                                                                                                                                                                                                                                                                                                                                                                                                                                                                                                                                                                                           ['rs', '28', 'sarmat', 'missile', 'dubbed', 'satan', '2', 'replace', 'ss', '18', 'flies', '4', '3', 'miles', '7km', 'per', 'sec', 'range', '6', '213', 'miles', '10', '000km', 'weapons', 'perceived', 'part', 'increasingly', 'aggressive', 'russia', 'could', 'deliver', 'warhead', '40', 'megatons', '–', '2', '000', 'times', 'powerful', 'atom', 'bombs', 'dropped', 'hiroshima', 'nagasaki', '1945', 'libby', 'plummer', 'gareth', 'davie', 'russia', 'unveiled', 'chilling', 'pictures', 'largest', 'ever', 'nuclear', 'missile', 'capable', 'destroying', 'area', 'size', 'france', 'rs', '28', 'sarmat', 'missile', 'dubbed', 'satan', '2', 'nato', 'top', 'speed', '4', '3', 'miles', '7km', 'per', 'second', 'designed', 'outfox', 'anti', 'missile', 'shield', 'systems', 'new', 'sarmat', 'missile', 'could', 'deliver', 'warheads', '40', 'megatons', '–', '2', '000', 'times', 'powerful', 'atom', 'bombs', 'dropped', 'hiroshima', 'nagasaki', '1945', 'scroll', 'video', 'russian', 'president', 'vladimir', 'putin', 'reportedly', 'planning', 'replace', 'country', 'older', 'ss', '18', 'satan', 'weapons', 'new', 'missiles', 'amid', 'string', 'recent', 'disagreements', 'west', 'kremlin', 'stepped', 'rhetoric', 'west', 'carried', 'series', 'manoeuvres', 'infuriated', 'politicians', 'us', 'uk', 'pictures', 'revealed', 'online', 'chief', 'designers', 'makeyev', 'rocket', 'design', 'bureau', 'message', 'posted', 'alongside', 'picture', 'said', 'accordance', 'decree', 'russian', 'government', 'state', 'defense', 'order', '2010', 'planning', 'period', '2012', '2013', 'makeyev', 'rocket', 'design', 'bureau', 'instructed', 'start', 'design', 'development', 'work', 'sarmat', 'rs', '28', 'sarmat', 'missile', 'said', 'contain', '16', 'nuclear', 'warheads', 'capable', 'destroying', 'area', 'size', 'france', 'texas', 'according', 'russian', 'news', 'network', 'zvezda', 'owned', 'russia', 'ministry', 'defence', 'weapon', 'also', 'able', 'evade', 'radar', 'expected', 'range', '6', '213', 'miles', '10', '000', 'km', 'would', 'allow', 'moscow', 'attack', 'london', 'entire', 'article', 'click', 'link']   \n4                                                                                                                                                                                                                                                                                                                                                                                                                                                                                                                                                                                                                                                                                                                                                                                                                                                                                                                                                                                                                                                                                                                                                                                                                                                                                                                                                                                                                                                                                                                                                                                                                                                                                                                                                                                                                                                                                                                                                                                                                                                                                                                                                                                                                                                                                                                                                                                                                                                                                                                                                                                                                                                                                                                                                                                                                                                                                                                                                                                                                                                                                                                                                                                                                                                                                                                                                                                                                                                                                 ['say', 'one', 'time', 'someone', 'sued', 'southern', 'poverty', 'law', 'center', 'tuesday', 'james', 'kennedy', 'ministries', 'djkm', 'filed', 'lawsuit', 'southern', 'poverty', 'law', 'center', 'splc', 'charity', 'navigation', 'organization', 'guidestar', 'amazon', 'defamation', 'religious', 'discrimination', 'trafficking', 'falsehood', 'splc', 'listed', 'djkm', 'hate', 'group', 'guidestar', 'also', 'categorized', 'terms', 'amazon', 'kept', 'ministry', 'charity', 'donation', 'program', 'amazon', 'smile', 'embarked', 'today', 'journey', 'right', 'terrible', 'wrong', 'dr', 'frank', 'wright', 'president', 'ceo', 'djkm', 'said', 'statement', 'tuesday', 'knowingly', 'label', 'christian', 'ministries', 'hate', 'groups', 'solely', 'subscribing', 'historic', 'christian', 'faith', 'either', 'woefully', 'uninformed', 'willfully', 'deceitful', 'case', 'southern', 'poverty', 'law', 'center', 'lawsuit', 'alleges', 'latter', 'splc', 'labeled', 'djkm', 'anti', 'lgbt', 'hate', 'group', 'opposition', 'sex', 'marriage', 'transgenderism', 'false', 'illegal', 'characterizations', 'chilling', 'effect', 'free', 'exercise', 'religion', 'religious', 'free', 'speech', 'people', 'faith', 'wright', 'declared', 'given', 'splc', 'opportunity', 'retract', 'undertaken', 'legal', 'action', 'seeking', 'trial', 'jury', 'peers', 'preserve', 'rights', 'law', 'defend', 'religious', 'free', 'speech', 'rights', 'americans', 'djkm', 'president', 'concluded', 'lawsuit', 'laid', 'charges', 'splc', 'guidestar', 'amazon', 'read', 'pjm']   \n5                                                                                                                                                                                                                                                                                                                                                                                                                                                                                                                                                                                                                                                                                                                                                                                                                                                                                                                                                                                                                                                                                                                                                                                                                                                                                                                                                                                                                                                                                                                                                                                                                                                                                                                                                                                                                                                                                                                                                                                                                                                                                                                                                                                                                                                                                                                                                                                                                                                                                                                                                                                                                                                                                                                                                                                                                                                                                                                                                                                                                                                                                                                                                                                                                                                                                                                                                                                                                                                                                                                                                                                                                                                                                                                                                                                                                                                                                                                                                                                                                                                                                                                                                                                                                                                                                                                                                                                                                                                                                                                                                                                                                                                                                                                                                                                                                                                                                                                                                                                         ['dr', 'ben', 'carson', 'tells', 'story', 'happened', 'spoke', 'obama']   \n6                                                                                                                                                                                                                                                                                                                                                                                                                                                                                                                                                                                                                                                                                                                                                                                                                                                                                                                                                                                                                                                                                                                                                                                                                                                                                                                                                                                                                                                                                                                                                                                                                                                                                                                                                                                                                                                                                                                                                                                                                                                                                                                                                                                                                                                                                                                                                                                                                                                                                                                                                                                                                                                                                                                                                                                                                                                                                                                                                                                                                                                                                                                                                                                                                                                                                                                                                                                                                                                                                                                                                                                                                                                                ['owner', 'ringling', 'bar', 'located', 'south', 'white', 'sulphur', 'springs', 'standing', 'behind', 'facebook', 'post', 'criticizes', 'nfl', 'players', 'take', 'knee', 'national', 'anthem', 'protest', 'police', 'brutality', 'post', 'made', 'ringling', 'bar', 'facebook', 'page', 'tuesday', 'night', 'since', 'received', 'hundreds', 'comments', 'shares', 'post', 'reads', 'ringling', 'bar', 'longer', 'show', 'nfl', 'games', 'allow', 'us', 'air', 'pbr', 'rodeo', 'nascar', 'events', 'whose', 'competitors', 'true', 'americans', 'sorry', 'inconvenience', 'ringling', 'bar', 'co', 'owner', 'kurt', 'bekemans', 'grew', 'paradise', 'valley', 'published', 'post', 'said', 'care', 'post', 'turns', 'customers', 'away', 'seriously', 'would', 'care', 'non', 'americans', 'patronize', 'place', 'said', 'bekemans', 'like', 'speak', 'rural', 'america', 'bet', 'see', 'farmers', 'ranchers', 'whole', 'country', 'take', 'knee', 'guys', 'bet', 'find', 'one', 'appreciate', 'great', 'nation', 'given', 'think', 'least', 'could', 'give', 'thanks', 'country', 'stand', 'flag', 'anthem', 'wednesday', 'morning', 'majority', 'comments', 'support', 'bar', 'love', 'ya', 'many', 'people', 'round', 'said', 'one', 'commenter', 'another', 'person', 'critical', 'writing', 'ha', 'ha', 'course', 'nascar', 'protesting', 'treatment', 'minority', 'care', 'read', 'krtv']   \n7                                                                                                                                                                                                                                                                                                                                                                                                                                                                                                                                                                                                                                                                                                                                                                                                                                                                                                                                                                                                                                                                                                                                                                                                                                                                                                                                                                                                                                                                                                                                                                                                                                                                                                                                                                                                                                                                                                                                                 ['file', '–', 'sept', '15', '2005', 'file', 'photo', 'marker', 'welcomes', 'commuters', 'cushing', 'okla', 'seen', 'ap', 'photo', 'oklahoman', 'matt', 'strasen', 'file', 'underscoring', 'dangers', 'america', 'unreliable', 'fossil', 'fuel', 'infrastructure', 'significant', 'u', 'oil', 'pipeline', 'shut', 'leak', 'reported', 'monday', 'morning', 'enterprise', 'products', 'partners', 'said', 'monday', 'shut', 'seaway', 'crude', 'pipeline', '400', '000', 'barrel', 'per', 'day', 'conduit', 'transports', 'crude', 'oil', 'cushing', 'oklahoma', 'gulf', 'coast', 'refineries', 'leak', 'occurred', 'sunday', 'night', 'industrial', 'area', 'cushing', 'company', 'provide', 'estimate', 'volume', 'spilled', 'said', 'danger', 'public', 'seaway', 'personnel', 'continue', 'make', 'progress', 'cleaning', 'spill', 'substantially', 'contained', 'retention', 'pond', 'enbridge', 'facility', 'company', 'said', 'news', 'release', 'pdf', 'explaining', 'pipeline', '50', '50', 'joint', 'venture', 'enterprise', 'enbridge', 'inc', 'vacuum', 'trucks', 'used', 'recover', 'crude', 'oil', 'return', 'storage', 'tanks', 'site', 'impacted', 'segment', 'legacy', 'pipeline', 'capacity', '50', '000', 'barrels', 'release', 'added', 'however', 'actual', 'amount', 'crude', 'oil', 'released', 'significantly', 'less', 'determined', 'recovery', 'efforts', 'complete', 'incident', 'comes', 'another', 'pipeline', 'rupture', 'pennsylvania', 'early', 'friday', '55', '000', 'gallons', 'gasoline', 'poured', 'susquehanna', 'river', 'one', 'month', 'major', 'gasoline', 'pipeline', 'run', 'colonial', 'pipeline', 'co', 'halt', 'pumping', 'couple', 'weeks', 'due', 'spill', 'alabama', 'meanwhile', 'upi', 'reports', 'release', 'seaway', 'pipeline', 'second', 'associated', 'cushing', 'storage', 'hub', 'less', 'month', 'plains', 'american', 'pipeline', 'reported', 'problems', 'infrastructure', 'colorado', 'city', 'texas', 'cushing', 'earlier', 'month', 'environmentalists', 'indigenous', 'people', 'energy', 'companies', 'midst', 'heated', 'debate', 'pipeline', 'safety', 'water', 'protectors', 'allies', 'along', 'proposed', 'route', 'dakota', 'access', 'pipeline', 'dapl', 'saying', 'months', 'project', 'threatens', 'right', 'safe', 'drinking', 'water', 'oil', 'pipelines', 'break', 'spill', 'leak—it', 'question', 'question', '13', 'year', 'old', 'anna', 'lee', 'rain', 'yellowhammer', 'member', 'standing', 'rock', 'sioux', 'tribe', 'wrote', 'recent', 'appeal', 'high', 'chance', 'pipeline', 'leak', 'wrote', 'enbridge', 'backed', 'dapl', 'guess', 'oil', 'industry', 'keeps', 'pushing', 'care', 'health', 'safety', 'industry', 'seems', 'think', 'lives', 'expendable', 'others', 'indeed', 'referring', 'cushing', 'leak', 'one', 'observer', 'tweeted', 'monday', 'screaming', 'nodapl', 'always', 'break', 'seaway', 'crude', 'pipeline', 'system', 'shut', 'cushing', 'ok', 'spill', 'screaming', 'nodapl', 'always', 'break', 'https', 'co', 'oxilxcbrly', '—', 'deanna', 'rilling', 'deannarilling', 'october', '24', '2016']   \n8   ['punchable', 'alt', 'right', 'nazi', 'internet', 'got', 'thorough', 'beatdown', 'sen', 'ben', 'sasse', 'r', 'neb', 'twitter', 'epic', 'tweetstorm', 'richard', 'spencer', 'alt', 'right', 'leader', 'become', 'human', 'punching', 'bag', 'got', 'racism', 'smacked', 'republican', 'senator', 'thursday', 'white', 'nationalist', 'tweeted', 'goober', 'conservatives', 'blame', 'russia', 'racial', 'divisions', 'united', 'states', 'spencer', 'responding', 'tweet', 'sasse', 'sent', 'wednesday', 'sen', 'ben', 'sasse', 'shared', 'article', 'regarding', 'sen', 'james', 'lankford', 'r', 'okla', 'explained', 'russian', 'internet', 'trolls', 'helped', 'fuel', 'divisions', 'controversy', 'donald', 'trump', 'ignited', 'nfl', 'athletes', 'choose', 'kneel', 'rather', 'stand', 'national', 'anthem', 'protest', 'racial', 'inequality', 'police', 'brutality', 'one', 'loves', 'american', 'vs', 'american', 'fighting', 'putin', 'intel', 'agencies', 'stoke', 'sides', 'every', 'divide', 'https', 'co', 'h6bwjhzokh', 'ben', 'sasse', 'bensasse', 'september', '28', '2017spencer', 'responded', 'writing', 'minds', 'goober', 'conservatives', 'russians', 'blame', 'racial', 'divisions', 'minds', 'goober', 'conservatives', 'russians', 'blame', 'racial', 'divisions', 'https', 'co', 'czpgfl6u4m', 'richard', 'spencer', 'richardbspencer', 'september', '28', '2017sasse', 'tore', 'spencer', 'calling', 'clown', 'one', 'brown', 'shirt', 'pajama', 'boy', 'nazis', '1', 'oh', 'let', 'goobers', 'nongoobers', 'agree', 'racists', 'like', 'blame', 'putin', 'agencies', 'also', 'love', 'using', 'divisive', 'tool', 'https', 'co', 'dad4xanvi5', 'ben', 'sasse', 'bensasse', 'september', '28', '20172', 'get', 'wrong', 'always', 'brown', 'shirt', 'pajama', 'boy', 'nazis', 'like', 'lonely', 'pals', 'stoking', 'division', 'america', '101', 'https', 'co', 'sbovzmouu2', 'ben', 'sasse', 'bensasse', 'september', '28', '20173', 'get', 'america', 'said', 'human', 'right', 'abstract', 'thing', 'given', 'god', 'something', 'like', 'https', 'co', 'scxdgfcbgp', 'ben', 'sasse', 'bensasse', 'september', '28', '20174', 'actually', 'exactly', 'america', 'declares', 'people', 'image', 'bearers', 'god', 'created', 'dignity', 'inalienable', 'rights', 'https', 'co', 'd4orbrhjmw', 'ben', 'sasse', 'bensasse', 'september', '28', '20175', 'sadly', 'understand', 'human', 'dignity', 'person', 'skin', 'ancestry', 'bank', 'balance', 'nothing', 'intrinsic', 'value', 'https', 'co', '5jsyvakqrl', 'ben', 'sasse', 'bensasse', 'september', '28', '20176', 'declaration', 'universal', 'dignity', 'america', 'madison', 'called', 'constitution', 'greatest', 'reflection', 'human', 'nature', 'https', 'co', 'nqluvs1kva', 'ben', 'sasse', 'bensasse', 'september', '28', '20177', 'talk', 'culture', 'know', 'squat', 'western', 'heritage', 'sees', 'people', 'tribes', 'individuals', 'limitless', 'worth', 'https', 'co', 'vknvduxltt', 'ben', 'sasse', 'bensasse', 'september', '28', '20178', 'celebration', 'universal', 'dignity', 'culture', 'rejects', 'white', 'culture', 'crybaby', 'politics', 'rejects', 'identity', 'politics', 'https', 'co', 'adlj9avnpr', 'ben', 'sasse', 'bensasse', 'september', '28', '20179', 'sometime', 'moving', 'back', 'parents', 'basement', 'knock', 'nazis', 'fell', 'love', 'reheated', '20th', 'century', 'power', 'garbage', 'https', 'co', 'xdteatvgse', 'ben', 'sasse', 'bensasse', 'september', '28', '201710', 'ideas', 'hateful', 'un', 'american', 'poison', 'also', 'dang', 'boring', 'future', 'belong', 'stupid', 'memes', 'https', 'co', 'bnhslf1uox', 'ben', 'sasse', 'bensasse', 'september', '28', '201711', '11get', 'real', 'job', 'clown', 'find', 'actual', 'neighbor', 'serve', 'happier', 'nice', 'day', 'https', 'co', 'tored7vwdm', 'ben', 'sasse', 'bensasse', 'september', '28', '2017jake', 'tapper', 'weighed', 'say', 'wherein', 'piece', 'garbage', 'thrown', 'receptacle', 'grace', 'artistry', 'wherein', 'piece', 'garbage', 'thrown', 'receptacle', 'grace', 'artistry', 'https', 'co', 'l09bby8ghh', 'jake', 'tapper', 'jaketapper', 'september', '28', '2017this', 'donald', 'trump', 'responded', 'violent', 'rally', 'charlottesville', 'virginia', 'way', 'organized', 'richard', 'spencer', 'spencer', 'previously', 'said', 'felt', 'proud', 'trump', 'blamed', 'many', 'sides', 'violence', 'hate', 'rally', 'resulted', 'murder', 'heather', 'heyer', 'left', 'least', '19', 'others', 'injured', 'spencer', 'one', 'trump', 'fine', 'people', 'got', 'smacked', 'twitter', 'republican', 'like', 'politics', 'admire', 'sasse', 'among', 'republicans', 'joined', 'civil', 'rights', 'leaders', 'democrats', 'reacted', 'angrily', 'trump', 'said', 'condemned', 'egregious', 'display', 'hatred', 'bigotry', 'violence', 'many', 'sides', 'many', 'sides', 'course', 'sasse', 'would', 'call', 'roy', 'moore', 'bigoted', 'remarks', 'would', 'nice', 'see', 'photo', 'chip', 'somodevilla', 'via', 'getty', 'images']   \n11                                                                                                                                                                                                                                                                                                                                                                                                                                                                                                                                                                                                                                                                                                                                                                                                                                                                                                                                                                                                                                                                                                                                                                                                                                                                                                                                                                                                                                                                                                                                                                                                                                                                                                                                                                                                                                                                                                                                                                                                                                                                                                                                                                                                                                                                                                                                                                                                                                                                                                                                                                                                                                                                                                                                                                                                                                                                                                                                                                                                                                                                                                                                                                                                                                                                                                                                                                                                                                                                                                                                                                                                                                                                                                                                                                                                                                                                                                                                                                                                                                                                                                                                                                                                                                                                                                                                                                                                                                                                                                                                                                                                                                                                                                                                                                                                                                                 ['watching', 'telling', 'video', 'wonder', 'instead', 'working', 'hard', 'get', 'back', 'white', 'house', 'hillary', 'time', 'would', 'better', 'spent', 'looking', 'assisted', 'living', 'situation', 'bill']   \n14                                                                                                                                                                                                                                                                                                                                                                                                                                                                                                                                                                                                                                                                                                                                                                                                                                                                                                                                                                                                                                                                                                                                                                                                                                                                                                                                                                                                                                                                                                                                                                                                                                                                                                                                               ['europe', 'likely', 'going', 'top', 'destination', 'families', 'young', 'daughters', 'one', 'blame', 'idiocy', 'political', 'correctness', 'death', 'europe', 'know', 'americans', 'fortitude', 'stop', 'bleeding', 'invasion', 'foreigners', 'soil', 'officially', 'control', 'predatory', 'asylum', 'seeker', 'chillingly', 'raped', '21', 'year', 'old', 'devout', 'christian', 'woman', 'next', 'church', 'starting', '10', 'year', 'jail', 'sentence', 'today', 'eritrean', 'born', 'mebrehtom', 'abrha', '25', 'stalked', 'vulnerable', 'virgin', '10', 'minutes', 'walked', 'liverpool', 'city', 'centre', 'boyfriend', 'house', '6am', 'last', 'july', '19', 'liverpool', 'crown', 'court', 'heard', 'dragged', 'pavement', 'grassy', 'area', 'raping', 'twice', 'harrowing', 'four', 'minute', 'ordeal', 'terrifying', 'attack', 'left', 'devout', 'christian', 'angry', 'god', 'fearing', 'contracted', 'hiv', 'appalled', 'judge', 'told', 'abrha', 'lived', 'liverpool', 'fleeing', 'birmingham', 'arrested', 'following', 'bbc', 'crimewatch', 'appeal', 'october', '12', 'today', 'started', 'extended', 'sentence', '10', 'years', 'imprisonment', 'five', 'years', 'licence', 'victim', 'told', 'court', 'felt', 'ashamed', 'dirty', 'unclean', 'going', 'church', 'always', 'important', 'part', 'life', 'since', 'attack', 'able', 'go', 'church', 'many', 'months', 'angry', 'god', 'angry', 'feeling', 'way', 'victim', 'also', 'admitted', 'attack', 'caused', 'end', 'relationship', 'boyfriend', 'adding', 'lost', 'desire', 'anything', 'life', 'feel', 'terrified', 'shower', 'get', 'feeling', 'someone', 'going', 'get', 'start', 'panic', 'victim', 'named', 'legal', 'reasons', 'clubbing', 'saturday', 'july', '18', 'last', 'year', 'agreed', 'meet', 'boyfriend', 'following', 'morning', 'prosecutor', 'david', 'mclachlan', 'told', 'court', 'could', 'get', 'taxi', 'opted', 'walk', 'mile', 'half', 'route', 'despite', 'warnings', 'cut', 'park', 'boyfriend', 'confronted', 'east', 'african', 'man', 'dragged', 'wooded', 'area', 'nearby', 'subjected', 'horrific', 'attack', 'ripping', 'open', 'dress', 'raping', 'chillingly', 'walking', 'away', 'afterwards', 'woman', 'covered', 'dirt', 'injuries', 'back', 'neck', 'ran', 'boyfriend', 'house', 'raised', 'alarm', 'michael', 'brien', 'defending', 'abhra', 'read', 'part', 'letter', 'apology', 'client', 'went', 'un', 'christian', 'act', 'horrible', 'thing', 'woman', 'ask', 'forgiveness', 'ahbra', 'granted', 'asylum', 'five', 'years', 'june', '2014', 'claiming', 'forced', 'flee', 'native', 'country', 'conscripted', 'eritrean', 'army', 'aged', '18', 'ahbra', 'previous', 'convictions', 'spoke', 'tigrignan', 'interpreter', 'claimed', 'memory', 'attack', 'inebriated', 'ahbra', 'held', 'hand', 'eyes', 'david', 'aubrey', 'qc', 'sentenced', 'made', 'sign', 'cross', 'led', 'custody', 'judge', 'aubrey', 'told', 'watched', 'followed', 'pursued', 'threatened', 'raped', 'somewhat', 'chillingly', 'walking', 'away', 'calmly', 'ignore', 'tragic', 'irony', 'case', 'attacked', 'next', 'church', 'afterwards', 'merseyside', 'police', 'det', 'insp', 'terry', 'davies', 'said', 'doubt', 'significant', 'impact', 'young', 'victim', 'live', 'rest', 'life', 'via', 'express', 'uk']   \n\n    label  \n0       1  \n1       1  \n3       1  \n4       1  \n5       1  \n6       1  \n7       1  \n8       1  \n11      1  \n14      1  ",
      "text/html": "<div>\n<style scoped>\n    .dataframe tbody tr th:only-of-type {\n        vertical-align: middle;\n    }\n\n    .dataframe tbody tr th {\n        vertical-align: top;\n    }\n\n    .dataframe thead th {\n        text-align: right;\n    }\n</style>\n<table border=\"1\" class=\"dataframe\">\n  <thead>\n    <tr style=\"text-align: right;\">\n      <th></th>\n      <th>title</th>\n      <th>text</th>\n      <th>label</th>\n    </tr>\n  </thead>\n  <tbody>\n    <tr>\n      <th>0</th>\n      <td>['law', 'enforcement', 'high', 'alert', 'following', 'threats', 'cops', 'whites', '9', '11by', 'blacklivesmatter', 'fyf911', 'terrorists', 'video']</td>\n      <td>['comment', 'expected', 'barack', 'obama', 'members', 'fyf911', 'fukyoflag', 'blacklivesmatter', 'movements', 'called', 'lynching', 'hanging', 'white', 'people', 'cops', 'encouraged', 'others', 'radio', 'show', 'tuesday', 'night', 'turn', 'tide', 'kill', 'white', 'people', 'cops', 'send', 'message', 'killing', 'black', 'people', 'america', 'one', 'f', 'yoflag', 'organizers', 'called', 'sunshine', 'radio', 'blog', 'show', 'hosted', 'texas', 'called', 'sunshine', 'f', 'ing', 'opinion', 'radio', 'show', 'snapshot', 'fyf911', 'lolatwhitefear', 'twitter', 'page', '9', '53', 'p', 'shows', 'urging', 'supporters', 'call', 'fyf911', 'tonight', 'continue', 'dismantle', 'illusion', 'white', 'snapshot', 'twitter', 'radio', 'call', 'invite', 'fyf911the', 'radio', 'show', 'aired', '10', '00', 'p', 'eastern', 'standard', 'time', 'show', 'callers', 'clearly', 'call', 'lynching', 'killing', 'white', 'people', '2', '39', 'minute', 'clip', 'radio', 'show', 'heard', 'provided', 'breitbart', 'texas', 'someone', 'would', 'like', 'referred', 'hannibal', 'already', 'received', 'death', 'threats', 'result', 'interrupting', 'fyf911', 'conference', 'calls', 'unidentified', 'black', 'man', 'said', 'mother', 'f', 'kers', 'start', 'f', 'ing', 'like', 'us', 'bunch', 'ni', 'ers', 'takin', 'one', 'us', 'roll', 'said', 'cause', 'already', 'roll', 'gangs', 'anyway', 'six', 'seven', 'black', 'mother', 'f', 'ckers', 'see', 'white', 'person', 'lynch', 'ass', 'let', 'turn', 'tables', 'conspired', 'cops', 'started', 'losing', 'people', 'state', 'emergency', 'speculated', 'one', 'two', 'things', 'would', 'happen', 'big', 'ass', 'r', 'war', 'ni', 'ers', 'going', 'start', 'backin', 'already', 'getting', 'killed', 'f', 'k', 'got', 'lose', 'sunshine', 'could', 'heard', 'saying', 'yep', 'true', 'f', 'king', 'true', 'said', 'need', 'turn', 'tables', 'kids', 'getting', 'shot', 'somebody', 'needs', 'become', 'sacrifice', 'side', 'said', 'everybody', 'whatever', 'like', 'say', 'everybody', 'different', 'position', 'war', 'continued', 'give', 'f', 'k', 'anyway', 'said', 'might', 'well', 'utilized', 'turn', 'tables', 'n', 'ers', 'said', 'way', 'start', 'lookin', 'like', 'havin', 'many', 'casualties', 'causalities', 'side', 'instead', 'killing', 'black', 'people', 'black', 'lives', 'matter', 'mother', 'f', 'kers', 'got', 'make', 'matter', 'find', 'mother', 'f', 'ker', 'alone', 'snap', 'ass', 'f', 'hang', 'damn', 'tree', 'take', 'picture', 'send', 'mother', 'f', 'kers', 'need', 'one', 'example', 'people', 'start', 'watchin', 'turn', 'tables', 'said', 'said', 'start', 'trickle', 'effect', 'said', 'one', 'white', 'person', 'hung', 'flat', 'hanging', 'start', 'trickle', 'effect', 'continued', 'black', 'people', 'good', 'starting', 'trends', 'said', 'get', 'upper', 'hand', 'another', 'black', 'man', 'spoke', 'saying', 'needed', 'kill', 'cops', 'killing', 'us', 'first', 'black', 'male', 'said', 'best', 'method', 'right', 'breitbart', 'texas', 'previously', 'reported', 'sunshine', 'upset', 'racist', 'white', 'people', 'infiltrated', 'disrupted', 'one', 'conference', 'calls', 'subsequently', 'released', 'phone', 'number', 'one', 'infiltrators', 'veteran', 'immediately', 'started', 'receiving', 'threatening', 'calls', 'one', 'f', 'yoflag', 'movement', 'supporters', 'allegedly', 'told', 'veteran', 'infiltrated', 'publicly', 'posted', 'conference', 'call', 'going', 'rape', 'gut', 'pregnant', 'wife', 'f', 'ing', 'piece', 'sh', 'unborn', 'creature', 'hung', 'tree', 'breitbart', 'texas', 'previously', 'encountered', 'sunshine', 'sandra', 'bland', 'protest', 'waller', 'county', 'jail', 'texas', 'said', 'white', 'people', 'killed', 'told', 'journalists', 'photographers', 'see', 'nappy', 'ass', 'hair', 'head', 'means', 'one', 'militant', 'negroes', 'said', 'protest', 'redneck', 'mother', 'f', 'kers', 'murdered', 'sandra', 'bland', 'nappy', 'hair', 'like', 'fyf911', 'black', 'radicals', 'say', 'holding', 'imperial', 'powers', 'actually', 'responsible', 'terrorist', 'attacks', 'september', '11th', 'accountable', 'day', 'reported', 'breitbart', 'texas', 'several', 'websites', 'twitter', 'handles', 'movement', 'palmetto', 'star', 'describes', 'one', 'head', 'organizers', 'said', 'youtube', 'video', 'supporters', 'burning', 'symbols', 'illusion', 'superiority', 'false', 'white', 'supremacy', 'like', 'american', 'flag', 'british', 'flag', 'police', 'uniforms', 'ku', 'klux', 'klan', 'hoods', 'sierra', 'mcgrone', 'nocturnus', 'libertus', 'posted', 'help', 'young', 'afrikan', 'clean', 'rag', 'oppression', 'posted', 'two', 'photos', 'one', 'appears', 'photo', 'black', 'man', 'wiping', 'naked', 'butts', 'american', 'flag', 'entire', 'story', 'breitbart', 'news']</td>\n      <td>1</td>\n    </tr>\n    <tr>\n      <th>1</th>\n      <td>['unbelievable', 'obama', 'attorney', 'general', 'says', 'charlotte', 'rioters', 'peaceful', 'protesters', 'home', 'state', 'north', 'carolina', 'video']</td>\n      <td>['demonstrators', 'gathered', 'last', 'night', 'exercising', 'constitutional', 'protected', 'right', 'peaceful', 'protest', 'order', 'raise', 'issues', 'create', 'change', 'loretta', 'lynch', 'aka', 'eric', 'holder', 'skirt']</td>\n      <td>1</td>\n    </tr>\n    <tr>\n      <th>3</th>\n      <td>['satan', '2', 'russia', 'unvelis', 'image', 'terrifying', 'new', 'supernuke', '–', 'western', 'world', 'takes', 'notice']</td>\n      <td>['rs', '28', 'sarmat', 'missile', 'dubbed', 'satan', '2', 'replace', 'ss', '18', 'flies', '4', '3', 'miles', '7km', 'per', 'sec', 'range', '6', '213', 'miles', '10', '000km', 'weapons', 'perceived', 'part', 'increasingly', 'aggressive', 'russia', 'could', 'deliver', 'warhead', '40', 'megatons', '–', '2', '000', 'times', 'powerful', 'atom', 'bombs', 'dropped', 'hiroshima', 'nagasaki', '1945', 'libby', 'plummer', 'gareth', 'davie', 'russia', 'unveiled', 'chilling', 'pictures', 'largest', 'ever', 'nuclear', 'missile', 'capable', 'destroying', 'area', 'size', 'france', 'rs', '28', 'sarmat', 'missile', 'dubbed', 'satan', '2', 'nato', 'top', 'speed', '4', '3', 'miles', '7km', 'per', 'second', 'designed', 'outfox', 'anti', 'missile', 'shield', 'systems', 'new', 'sarmat', 'missile', 'could', 'deliver', 'warheads', '40', 'megatons', '–', '2', '000', 'times', 'powerful', 'atom', 'bombs', 'dropped', 'hiroshima', 'nagasaki', '1945', 'scroll', 'video', 'russian', 'president', 'vladimir', 'putin', 'reportedly', 'planning', 'replace', 'country', 'older', 'ss', '18', 'satan', 'weapons', 'new', 'missiles', 'amid', 'string', 'recent', 'disagreements', 'west', 'kremlin', 'stepped', 'rhetoric', 'west', 'carried', 'series', 'manoeuvres', 'infuriated', 'politicians', 'us', 'uk', 'pictures', 'revealed', 'online', 'chief', 'designers', 'makeyev', 'rocket', 'design', 'bureau', 'message', 'posted', 'alongside', 'picture', 'said', 'accordance', 'decree', 'russian', 'government', 'state', 'defense', 'order', '2010', 'planning', 'period', '2012', '2013', 'makeyev', 'rocket', 'design', 'bureau', 'instructed', 'start', 'design', 'development', 'work', 'sarmat', 'rs', '28', 'sarmat', 'missile', 'said', 'contain', '16', 'nuclear', 'warheads', 'capable', 'destroying', 'area', 'size', 'france', 'texas', 'according', 'russian', 'news', 'network', 'zvezda', 'owned', 'russia', 'ministry', 'defence', 'weapon', 'also', 'able', 'evade', 'radar', 'expected', 'range', '6', '213', 'miles', '10', '000', 'km', 'would', 'allow', 'moscow', 'attack', 'london', 'entire', 'article', 'click', 'link']</td>\n      <td>1</td>\n    </tr>\n    <tr>\n      <th>4</th>\n      <td>['time', 'christian', 'group', 'sues', 'amazon', 'splc', 'designation', 'hate', 'group']</td>\n      <td>['say', 'one', 'time', 'someone', 'sued', 'southern', 'poverty', 'law', 'center', 'tuesday', 'james', 'kennedy', 'ministries', 'djkm', 'filed', 'lawsuit', 'southern', 'poverty', 'law', 'center', 'splc', 'charity', 'navigation', 'organization', 'guidestar', 'amazon', 'defamation', 'religious', 'discrimination', 'trafficking', 'falsehood', 'splc', 'listed', 'djkm', 'hate', 'group', 'guidestar', 'also', 'categorized', 'terms', 'amazon', 'kept', 'ministry', 'charity', 'donation', 'program', 'amazon', 'smile', 'embarked', 'today', 'journey', 'right', 'terrible', 'wrong', 'dr', 'frank', 'wright', 'president', 'ceo', 'djkm', 'said', 'statement', 'tuesday', 'knowingly', 'label', 'christian', 'ministries', 'hate', 'groups', 'solely', 'subscribing', 'historic', 'christian', 'faith', 'either', 'woefully', 'uninformed', 'willfully', 'deceitful', 'case', 'southern', 'poverty', 'law', 'center', 'lawsuit', 'alleges', 'latter', 'splc', 'labeled', 'djkm', 'anti', 'lgbt', 'hate', 'group', 'opposition', 'sex', 'marriage', 'transgenderism', 'false', 'illegal', 'characterizations', 'chilling', 'effect', 'free', 'exercise', 'religion', 'religious', 'free', 'speech', 'people', 'faith', 'wright', 'declared', 'given', 'splc', 'opportunity', 'retract', 'undertaken', 'legal', 'action', 'seeking', 'trial', 'jury', 'peers', 'preserve', 'rights', 'law', 'defend', 'religious', 'free', 'speech', 'rights', 'americans', 'djkm', 'president', 'concluded', 'lawsuit', 'laid', 'charges', 'splc', 'guidestar', 'amazon', 'read', 'pjm']</td>\n      <td>1</td>\n    </tr>\n    <tr>\n      <th>5</th>\n      <td>['dr', 'ben', 'carson', 'targeted', 'irs', 'never', 'audit', 'spoke', 'national', 'prayer', 'breakfast']</td>\n      <td>['dr', 'ben', 'carson', 'tells', 'story', 'happened', 'spoke', 'obama']</td>\n      <td>1</td>\n    </tr>\n    <tr>\n      <th>6</th>\n      <td>['sports', 'bar', 'owner', 'bans', 'nfl', 'games', 'show', 'true', 'american', 'sports', 'like', 'speak', 'rural', 'america', 'video']</td>\n      <td>['owner', 'ringling', 'bar', 'located', 'south', 'white', 'sulphur', 'springs', 'standing', 'behind', 'facebook', 'post', 'criticizes', 'nfl', 'players', 'take', 'knee', 'national', 'anthem', 'protest', 'police', 'brutality', 'post', 'made', 'ringling', 'bar', 'facebook', 'page', 'tuesday', 'night', 'since', 'received', 'hundreds', 'comments', 'shares', 'post', 'reads', 'ringling', 'bar', 'longer', 'show', 'nfl', 'games', 'allow', 'us', 'air', 'pbr', 'rodeo', 'nascar', 'events', 'whose', 'competitors', 'true', 'americans', 'sorry', 'inconvenience', 'ringling', 'bar', 'co', 'owner', 'kurt', 'bekemans', 'grew', 'paradise', 'valley', 'published', 'post', 'said', 'care', 'post', 'turns', 'customers', 'away', 'seriously', 'would', 'care', 'non', 'americans', 'patronize', 'place', 'said', 'bekemans', 'like', 'speak', 'rural', 'america', 'bet', 'see', 'farmers', 'ranchers', 'whole', 'country', 'take', 'knee', 'guys', 'bet', 'find', 'one', 'appreciate', 'great', 'nation', 'given', 'think', 'least', 'could', 'give', 'thanks', 'country', 'stand', 'flag', 'anthem', 'wednesday', 'morning', 'majority', 'comments', 'support', 'bar', 'love', 'ya', 'many', 'people', 'round', 'said', 'one', 'commenter', 'another', 'person', 'critical', 'writing', 'ha', 'ha', 'course', 'nascar', 'protesting', 'treatment', 'minority', 'care', 'read', 'krtv']</td>\n      <td>1</td>\n    </tr>\n    <tr>\n      <th>7</th>\n      <td>['latest', 'pipeline', 'leak', 'underscores', 'dangers', 'dakota', 'access', 'pipeline']</td>\n      <td>['file', '–', 'sept', '15', '2005', 'file', 'photo', 'marker', 'welcomes', 'commuters', 'cushing', 'okla', 'seen', 'ap', 'photo', 'oklahoman', 'matt', 'strasen', 'file', 'underscoring', 'dangers', 'america', 'unreliable', 'fossil', 'fuel', 'infrastructure', 'significant', 'u', 'oil', 'pipeline', 'shut', 'leak', 'reported', 'monday', 'morning', 'enterprise', 'products', 'partners', 'said', 'monday', 'shut', 'seaway', 'crude', 'pipeline', '400', '000', 'barrel', 'per', 'day', 'conduit', 'transports', 'crude', 'oil', 'cushing', 'oklahoma', 'gulf', 'coast', 'refineries', 'leak', 'occurred', 'sunday', 'night', 'industrial', 'area', 'cushing', 'company', 'provide', 'estimate', 'volume', 'spilled', 'said', 'danger', 'public', 'seaway', 'personnel', 'continue', 'make', 'progress', 'cleaning', 'spill', 'substantially', 'contained', 'retention', 'pond', 'enbridge', 'facility', 'company', 'said', 'news', 'release', 'pdf', 'explaining', 'pipeline', '50', '50', 'joint', 'venture', 'enterprise', 'enbridge', 'inc', 'vacuum', 'trucks', 'used', 'recover', 'crude', 'oil', 'return', 'storage', 'tanks', 'site', 'impacted', 'segment', 'legacy', 'pipeline', 'capacity', '50', '000', 'barrels', 'release', 'added', 'however', 'actual', 'amount', 'crude', 'oil', 'released', 'significantly', 'less', 'determined', 'recovery', 'efforts', 'complete', 'incident', 'comes', 'another', 'pipeline', 'rupture', 'pennsylvania', 'early', 'friday', '55', '000', 'gallons', 'gasoline', 'poured', 'susquehanna', 'river', 'one', 'month', 'major', 'gasoline', 'pipeline', 'run', 'colonial', 'pipeline', 'co', 'halt', 'pumping', 'couple', 'weeks', 'due', 'spill', 'alabama', 'meanwhile', 'upi', 'reports', 'release', 'seaway', 'pipeline', 'second', 'associated', 'cushing', 'storage', 'hub', 'less', 'month', 'plains', 'american', 'pipeline', 'reported', 'problems', 'infrastructure', 'colorado', 'city', 'texas', 'cushing', 'earlier', 'month', 'environmentalists', 'indigenous', 'people', 'energy', 'companies', 'midst', 'heated', 'debate', 'pipeline', 'safety', 'water', 'protectors', 'allies', 'along', 'proposed', 'route', 'dakota', 'access', 'pipeline', 'dapl', 'saying', 'months', 'project', 'threatens', 'right', 'safe', 'drinking', 'water', 'oil', 'pipelines', 'break', 'spill', 'leak—it', 'question', 'question', '13', 'year', 'old', 'anna', 'lee', 'rain', 'yellowhammer', 'member', 'standing', 'rock', 'sioux', 'tribe', 'wrote', 'recent', 'appeal', 'high', 'chance', 'pipeline', 'leak', 'wrote', 'enbridge', 'backed', 'dapl', 'guess', 'oil', 'industry', 'keeps', 'pushing', 'care', 'health', 'safety', 'industry', 'seems', 'think', 'lives', 'expendable', 'others', 'indeed', 'referring', 'cushing', 'leak', 'one', 'observer', 'tweeted', 'monday', 'screaming', 'nodapl', 'always', 'break', 'seaway', 'crude', 'pipeline', 'system', 'shut', 'cushing', 'ok', 'spill', 'screaming', 'nodapl', 'always', 'break', 'https', 'co', 'oxilxcbrly', '—', 'deanna', 'rilling', 'deannarilling', 'october', '24', '2016']</td>\n      <td>1</td>\n    </tr>\n    <tr>\n      <th>8</th>\n      <td>['gop', 'senator', 'smacked', 'punchable', 'alt', 'right', 'nazi', 'internet']</td>\n      <td>['punchable', 'alt', 'right', 'nazi', 'internet', 'got', 'thorough', 'beatdown', 'sen', 'ben', 'sasse', 'r', 'neb', 'twitter', 'epic', 'tweetstorm', 'richard', 'spencer', 'alt', 'right', 'leader', 'become', 'human', 'punching', 'bag', 'got', 'racism', 'smacked', 'republican', 'senator', 'thursday', 'white', 'nationalist', 'tweeted', 'goober', 'conservatives', 'blame', 'russia', 'racial', 'divisions', 'united', 'states', 'spencer', 'responding', 'tweet', 'sasse', 'sent', 'wednesday', 'sen', 'ben', 'sasse', 'shared', 'article', 'regarding', 'sen', 'james', 'lankford', 'r', 'okla', 'explained', 'russian', 'internet', 'trolls', 'helped', 'fuel', 'divisions', 'controversy', 'donald', 'trump', 'ignited', 'nfl', 'athletes', 'choose', 'kneel', 'rather', 'stand', 'national', 'anthem', 'protest', 'racial', 'inequality', 'police', 'brutality', 'one', 'loves', 'american', 'vs', 'american', 'fighting', 'putin', 'intel', 'agencies', 'stoke', 'sides', 'every', 'divide', 'https', 'co', 'h6bwjhzokh', 'ben', 'sasse', 'bensasse', 'september', '28', '2017spencer', 'responded', 'writing', 'minds', 'goober', 'conservatives', 'russians', 'blame', 'racial', 'divisions', 'minds', 'goober', 'conservatives', 'russians', 'blame', 'racial', 'divisions', 'https', 'co', 'czpgfl6u4m', 'richard', 'spencer', 'richardbspencer', 'september', '28', '2017sasse', 'tore', 'spencer', 'calling', 'clown', 'one', 'brown', 'shirt', 'pajama', 'boy', 'nazis', '1', 'oh', 'let', 'goobers', 'nongoobers', 'agree', 'racists', 'like', 'blame', 'putin', 'agencies', 'also', 'love', 'using', 'divisive', 'tool', 'https', 'co', 'dad4xanvi5', 'ben', 'sasse', 'bensasse', 'september', '28', '20172', 'get', 'wrong', 'always', 'brown', 'shirt', 'pajama', 'boy', 'nazis', 'like', 'lonely', 'pals', 'stoking', 'division', 'america', '101', 'https', 'co', 'sbovzmouu2', 'ben', 'sasse', 'bensasse', 'september', '28', '20173', 'get', 'america', 'said', 'human', 'right', 'abstract', 'thing', 'given', 'god', 'something', 'like', 'https', 'co', 'scxdgfcbgp', 'ben', 'sasse', 'bensasse', 'september', '28', '20174', 'actually', 'exactly', 'america', 'declares', 'people', 'image', 'bearers', 'god', 'created', 'dignity', 'inalienable', 'rights', 'https', 'co', 'd4orbrhjmw', 'ben', 'sasse', 'bensasse', 'september', '28', '20175', 'sadly', 'understand', 'human', 'dignity', 'person', 'skin', 'ancestry', 'bank', 'balance', 'nothing', 'intrinsic', 'value', 'https', 'co', '5jsyvakqrl', 'ben', 'sasse', 'bensasse', 'september', '28', '20176', 'declaration', 'universal', 'dignity', 'america', 'madison', 'called', 'constitution', 'greatest', 'reflection', 'human', 'nature', 'https', 'co', 'nqluvs1kva', 'ben', 'sasse', 'bensasse', 'september', '28', '20177', 'talk', 'culture', 'know', 'squat', 'western', 'heritage', 'sees', 'people', 'tribes', 'individuals', 'limitless', 'worth', 'https', 'co', 'vknvduxltt', 'ben', 'sasse', 'bensasse', 'september', '28', '20178', 'celebration', 'universal', 'dignity', 'culture', 'rejects', 'white', 'culture', 'crybaby', 'politics', 'rejects', 'identity', 'politics', 'https', 'co', 'adlj9avnpr', 'ben', 'sasse', 'bensasse', 'september', '28', '20179', 'sometime', 'moving', 'back', 'parents', 'basement', 'knock', 'nazis', 'fell', 'love', 'reheated', '20th', 'century', 'power', 'garbage', 'https', 'co', 'xdteatvgse', 'ben', 'sasse', 'bensasse', 'september', '28', '201710', 'ideas', 'hateful', 'un', 'american', 'poison', 'also', 'dang', 'boring', 'future', 'belong', 'stupid', 'memes', 'https', 'co', 'bnhslf1uox', 'ben', 'sasse', 'bensasse', 'september', '28', '201711', '11get', 'real', 'job', 'clown', 'find', 'actual', 'neighbor', 'serve', 'happier', 'nice', 'day', 'https', 'co', 'tored7vwdm', 'ben', 'sasse', 'bensasse', 'september', '28', '2017jake', 'tapper', 'weighed', 'say', 'wherein', 'piece', 'garbage', 'thrown', 'receptacle', 'grace', 'artistry', 'wherein', 'piece', 'garbage', 'thrown', 'receptacle', 'grace', 'artistry', 'https', 'co', 'l09bby8ghh', 'jake', 'tapper', 'jaketapper', 'september', '28', '2017this', 'donald', 'trump', 'responded', 'violent', 'rally', 'charlottesville', 'virginia', 'way', 'organized', 'richard', 'spencer', 'spencer', 'previously', 'said', 'felt', 'proud', 'trump', 'blamed', 'many', 'sides', 'violence', 'hate', 'rally', 'resulted', 'murder', 'heather', 'heyer', 'left', 'least', '19', 'others', 'injured', 'spencer', 'one', 'trump', 'fine', 'people', 'got', 'smacked', 'twitter', 'republican', 'like', 'politics', 'admire', 'sasse', 'among', 'republicans', 'joined', 'civil', 'rights', 'leaders', 'democrats', 'reacted', 'angrily', 'trump', 'said', 'condemned', 'egregious', 'display', 'hatred', 'bigotry', 'violence', 'many', 'sides', 'many', 'sides', 'course', 'sasse', 'would', 'call', 'roy', 'moore', 'bigoted', 'remarks', 'would', 'nice', 'see', 'photo', 'chip', 'somodevilla', 'via', 'getty', 'images']</td>\n      <td>1</td>\n    </tr>\n    <tr>\n      <th>11</th>\n      <td>['watch', 'hilarious', 'ad', 'calls', 'question', 'health', 'aging', 'clinton', 'crime', 'family', 'bosses']</td>\n      <td>['watching', 'telling', 'video', 'wonder', 'instead', 'working', 'hard', 'get', 'back', 'white', 'house', 'hillary', 'time', 'would', 'better', 'spent', 'looking', 'assisted', 'living', 'situation', 'bill']</td>\n      <td>1</td>\n    </tr>\n    <tr>\n      <th>14</th>\n      <td>['british', 'woman', 'loses', 'virginity', 'asylum', 'seeking', 'rapist', 'way', 'church']</td>\n      <td>['europe', 'likely', 'going', 'top', 'destination', 'families', 'young', 'daughters', 'one', 'blame', 'idiocy', 'political', 'correctness', 'death', 'europe', 'know', 'americans', 'fortitude', 'stop', 'bleeding', 'invasion', 'foreigners', 'soil', 'officially', 'control', 'predatory', 'asylum', 'seeker', 'chillingly', 'raped', '21', 'year', 'old', 'devout', 'christian', 'woman', 'next', 'church', 'starting', '10', 'year', 'jail', 'sentence', 'today', 'eritrean', 'born', 'mebrehtom', 'abrha', '25', 'stalked', 'vulnerable', 'virgin', '10', 'minutes', 'walked', 'liverpool', 'city', 'centre', 'boyfriend', 'house', '6am', 'last', 'july', '19', 'liverpool', 'crown', 'court', 'heard', 'dragged', 'pavement', 'grassy', 'area', 'raping', 'twice', 'harrowing', 'four', 'minute', 'ordeal', 'terrifying', 'attack', 'left', 'devout', 'christian', 'angry', 'god', 'fearing', 'contracted', 'hiv', 'appalled', 'judge', 'told', 'abrha', 'lived', 'liverpool', 'fleeing', 'birmingham', 'arrested', 'following', 'bbc', 'crimewatch', 'appeal', 'october', '12', 'today', 'started', 'extended', 'sentence', '10', 'years', 'imprisonment', 'five', 'years', 'licence', 'victim', 'told', 'court', 'felt', 'ashamed', 'dirty', 'unclean', 'going', 'church', 'always', 'important', 'part', 'life', 'since', 'attack', 'able', 'go', 'church', 'many', 'months', 'angry', 'god', 'angry', 'feeling', 'way', 'victim', 'also', 'admitted', 'attack', 'caused', 'end', 'relationship', 'boyfriend', 'adding', 'lost', 'desire', 'anything', 'life', 'feel', 'terrified', 'shower', 'get', 'feeling', 'someone', 'going', 'get', 'start', 'panic', 'victim', 'named', 'legal', 'reasons', 'clubbing', 'saturday', 'july', '18', 'last', 'year', 'agreed', 'meet', 'boyfriend', 'following', 'morning', 'prosecutor', 'david', 'mclachlan', 'told', 'court', 'could', 'get', 'taxi', 'opted', 'walk', 'mile', 'half', 'route', 'despite', 'warnings', 'cut', 'park', 'boyfriend', 'confronted', 'east', 'african', 'man', 'dragged', 'wooded', 'area', 'nearby', 'subjected', 'horrific', 'attack', 'ripping', 'open', 'dress', 'raping', 'chillingly', 'walking', 'away', 'afterwards', 'woman', 'covered', 'dirt', 'injuries', 'back', 'neck', 'ran', 'boyfriend', 'house', 'raised', 'alarm', 'michael', 'brien', 'defending', 'abhra', 'read', 'part', 'letter', 'apology', 'client', 'went', 'un', 'christian', 'act', 'horrible', 'thing', 'woman', 'ask', 'forgiveness', 'ahbra', 'granted', 'asylum', 'five', 'years', 'june', '2014', 'claiming', 'forced', 'flee', 'native', 'country', 'conscripted', 'eritrean', 'army', 'aged', '18', 'ahbra', 'previous', 'convictions', 'spoke', 'tigrignan', 'interpreter', 'claimed', 'memory', 'attack', 'inebriated', 'ahbra', 'held', 'hand', 'eyes', 'david', 'aubrey', 'qc', 'sentenced', 'made', 'sign', 'cross', 'led', 'custody', 'judge', 'aubrey', 'told', 'watched', 'followed', 'pursued', 'threatened', 'raped', 'somewhat', 'chillingly', 'walking', 'away', 'calmly', 'ignore', 'tragic', 'irony', 'case', 'attacked', 'next', 'church', 'afterwards', 'merseyside', 'police', 'det', 'insp', 'terry', 'davies', 'said', 'doubt', 'significant', 'impact', 'young', 'victim', 'live', 'rest', 'life', 'via', 'express', 'uk']</td>\n      <td>1</td>\n    </tr>\n  </tbody>\n</table>\n</div>"
     },
     "metadata": {},
     "output_type": "display_data"
    },
    {
     "name": "stdout",
     "output_type": "stream",
     "text": [
      "1000\n",
      "4000\n",
      "9000\n",
      "10000\n",
      "14000\n",
      "16000\n",
      "18000\n",
      "19000\n",
      "23000\n"
     ]
    }
   ],
   "source": [
    "def wc():\n",
    "    data_pre = pd.read_csv(\"data_tokenized/data_token_no_stem.csv\", index_col=0)\n",
    "    data_pre_real = data_pre.loc[data_pre[\"label\"] == 0]\n",
    "    data_pre_fake = data_pre.loc[data_pre[\"label\"] == 1]\n",
    "    display(data_pre_real[:10])\n",
    "    display(data_pre_fake[:10])\n",
    "    data_pre = None\n",
    "    x = \"\"\n",
    "    for i, vals in data_pre_real.iterrows():\n",
    "        for val in vals[\"title\"]:\n",
    "            x += \" \"\n",
    "            x += val\n",
    "        for val in vals[\"text\"]:\n",
    "            x += \" \"\n",
    "            x += val\n",
    "        if i % 1000 == 0:\n",
    "            print(i)\n",
    "\n",
    "    wordcloud = WordCloud().generate(x)\n",
    "\n",
    "    # Display the generated image:\n",
    "    plt.imshow(wordcloud, interpolation='bilinear')\n",
    "    plt.axis(\"off\")\n",
    "    plt.show()"
   ],
   "metadata": {
    "collapsed": false,
    "pycharm": {
     "is_executing": true
    }
   }
  },
  {
   "cell_type": "code",
   "execution_count": null,
   "outputs": [],
   "source": [],
   "metadata": {
    "collapsed": false
   }
  },
  {
   "cell_type": "markdown",
   "source": [
    "## Plotting Results\n",
    "### Compare Scores between algorithms (F1-Score and Accuracy)"
   ],
   "metadata": {
    "collapsed": false
   }
  },
  {
   "cell_type": "code",
   "execution_count": null,
   "outputs": [],
   "source": [
    "matplotlib.rcParams.update({'font.size': 8})\n",
    "fig, ax = plt.subplots(2, figsize=(8,8))\n",
    "plt.suptitle(\"F1-score and accuracy of the different algorithms\")\n",
    "width = 0.25  # the width of the bars\n",
    "\n",
    "def setSubplots1(input, axis_x):\n",
    "    ax[axis_x].set_ylim(0.8, 1.0)\n",
    "    algorithms = []\n",
    "    f1s = []\n",
    "    accs = []\n",
    "    for element in results:\n",
    "        algorithms.append(element)\n",
    "        f1s.append(round(results[element][input][\"f1_score\"],4))\n",
    "        accs.append(round(results[element][input][\"accuracy\"],4))\n",
    "\n",
    "    x = np.arange(len(algorithms))  # the label locations\n",
    "\n",
    "    rects1 = ax[axis_x].bar(x - width/2, f1s, width, label='F1-Score')\n",
    "    rects2 = ax[axis_x].bar(x + width/2, accs, width, label='Accuracy')\n",
    "\n",
    "    # Add some text for labels, title and custom x-axis tick labels, etc.\n",
    "    ax[axis_x].set_ylabel('Scores')\n",
    "    ax[axis_x].set_title(input + ' input')\n",
    "    ax[axis_x].set_xticks(x, algorithms)\n",
    "    ax[axis_x].legend()\n",
    "\n",
    "    ax[axis_x].bar_label(rects1, padding=3)\n",
    "    ax[axis_x].bar_label(rects2, padding=3)\n",
    "\n",
    "setSubplots1(\"text\", 0)\n",
    "setSubplots1(\"title\", 1)\n",
    "\n",
    "fig.tight_layout()\n",
    "\n",
    "plt.show()"
   ],
   "metadata": {
    "collapsed": false
   }
  },
  {
   "cell_type": "markdown",
   "source": [
    "### Compare scores between different inputs (text and title)"
   ],
   "metadata": {
    "collapsed": false
   }
  },
  {
   "cell_type": "code",
   "execution_count": null,
   "outputs": [],
   "source": [
    "scores = [\"f1_score\", \"accuracy\", \"precision\", \"recall\"]\n",
    "x = np.arange(len(scores))  # the label locations\n",
    "width = 0.25  # the width of the bars\n",
    "fig, ax = plt.subplots(2, 2, figsize=(16,8))\n",
    "plt.suptitle(\"Scores for tet and title input\")\n",
    "\n",
    "def setSubplot(algorithm, axis_x, axis_y):\n",
    "    title_values = []\n",
    "    text_values = []\n",
    "    for element in results[algorithm][\"text\"]:\n",
    "        text_values.append(round(results[algorithm][\"text\"][element],4))\n",
    "    for element in results[algorithm][\"title\"]:\n",
    "        title_values.append(round(results[algorithm][\"title\"][element],4))\n",
    "    title_values.pop()\n",
    "    text_values.pop()\n",
    "    title_values.pop(0)\n",
    "    text_values.pop(0)\n",
    "\n",
    "    rects1 = ax[axis_x][axis_y].bar(x - width/2, text_values, width, label='Text')\n",
    "    rects2 = ax[axis_x][axis_y].bar(x + width/2, title_values, width, label='Title')\n",
    "\n",
    "    # Add some text for labels, title and custom x-axis tick labels, etc.\n",
    "    ax[axis_x][axis_y].set_ylabel('Scores')\n",
    "    ax[axis_x][axis_y].set_title(algorithm)\n",
    "    ax[axis_x][axis_y].set_xticks(x, scores)\n",
    "    ax[axis_x][axis_y].legend()\n",
    "\n",
    "    ax[axis_x][axis_y].bar_label(rects1, padding=3)\n",
    "    ax[axis_x][axis_y].bar_label(rects2, padding=3)\n",
    "    ax[axis_x][axis_y].set_ylim(0.7, 1.0)\n",
    "\n",
    "setSubplot(\"simple_linear_model\", 0, 0)\n",
    "setSubplot(\"simple_convolution_model\", 0, 1)\n",
    "setSubplot(\"support_vector_machine\", 1, 0)\n",
    "setSubplot(\"random_forest\", 1, 1)\n",
    "\n",
    "fig.tight_layout()\n",
    "\n",
    "plt.show()"
   ],
   "metadata": {
    "collapsed": false
   }
  }
 ],
 "metadata": {
  "kernelspec": {
   "display_name": "Python 3",
   "language": "python",
   "name": "python3"
  },
  "language_info": {
   "codemirror_mode": {
    "name": "ipython",
    "version": 2
   },
   "file_extension": ".py",
   "mimetype": "text/x-python",
   "name": "python",
   "nbconvert_exporter": "python",
   "pygments_lexer": "ipython2",
   "version": "2.7.6"
  }
 },
 "nbformat": 4,
 "nbformat_minor": 0
}
